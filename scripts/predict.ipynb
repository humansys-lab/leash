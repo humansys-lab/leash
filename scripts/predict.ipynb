{
 "cells": [
  {
   "cell_type": "code",
   "execution_count": 2,
   "metadata": {},
   "outputs": [],
   "source": [
    "import polars as pl\n",
    "import numpy as np\n",
    "import pandas as pd\n",
    "from module import network, util, dataset"
   ]
  },
  {
   "cell_type": "code",
   "execution_count": 5,
   "metadata": {},
   "outputs": [],
   "source": [
    "# %%\n",
    "import gc\n",
    "import os\n",
    "import pickle\n",
    "import random\n",
    "import joblib\n",
    "import pandas as pd\n",
    "# import polars as pd\n",
    "from tqdm import tqdm\n",
    "from sklearn.metrics import average_precision_score as APS\n",
    "import polars as pl\n",
    "import torch\n",
    "import torch.nn as nn\n",
    "import torch.optim as optim\n",
    "from torch.utils.data import DataLoader, TensorDataset\n",
    "from sklearn.model_selection import StratifiedKFold\n",
    "import numpy as np\n",
    "import torch.nn.functional as F\n",
    "import math\n",
    "import time\n",
    "import sys\n",
    "import datetime\n",
    "import pytz\n",
    "import matplotlib.pyplot as plt\n",
    "\n",
    "\n",
    "from module import network, dataset, util\n",
    "from importlib import reload\n",
    "\n",
    "# %%\n",
    "class Config:\n",
    "    PREPROCESS = False\n",
    "    KAGGLE_NOTEBOOK = False\n",
    "    DEBUG = False\n",
    "    MODEL = 'lstm'\n",
    "    SEED = 42\n",
    "    EPOCHS = 9*2\n",
    "    BATCH_SIZE = 4096\n",
    "    LR = 1e-4\n",
    "    WD = 1e-6\n",
    "    PATIENCE = 3\n",
    "    DEVICE = 'cuda' if torch.cuda.is_available() else 'cpu'\n",
    "    EARLY_STOPPING = False\n",
    "    NUM_CV = 1\n",
    "    VAL_INDEX = [0]\n",
    "    NOTEBOOK = False\n",
    "    LOAD_MODEL = True\n",
    "    # models配下\n",
    "    MODEL_PATH = \"lstm/lstm_fold0_72.pt\"\n",
    "    \n",
    "    \n",
    "if Config.DEBUG:\n",
    "    n_rows = 10**4\n",
    "else:\n",
    "    n_rows = None\n",
    "\n",
    "\n",
    "\n",
    "# %%\n",
    "if Config.KAGGLE_NOTEBOOK:\n",
    "    RAW_DIR = \"/kaggle/input/leash-BELKA/\"\n",
    "    PROCESSED_DIR = \"/kaggle/input/belka-enc-dataset\"\n",
    "    OUTPUT_DIR = \"\"\n",
    "    MODEL_DIR = \"\"\n",
    "else:\n",
    "    RAW_DIR = \"../data/raw/\"\n",
    "    PROCESSED_DIR = \"../data/processed/\"\n",
    "    OUTPUT_DIR = \"../data/result/\"\n",
    "    MODEL_DIR = \"../models/\"\n",
    "    LOG_DIR = \"../data/logs\"\n",
    "    LOSS_DIR = \"../data/losses\"\n",
    "\n",
    "TRAIN_DATA_NAME = \"train_enc.parquet\"\n"
   ]
  },
  {
   "cell_type": "code",
   "execution_count": 13,
   "metadata": {},
   "outputs": [],
   "source": [
    "\n",
    "def predict_in_batches(model, data, batch_size):\n",
    "    model.eval()  # Set model to evaluation mode\n",
    "    preds = []\n",
    "    for i in range(0, data.size(0), batch_size):\n",
    "        batch = data[i:i+batch_size].to(Config.DEVICE)\n",
    "        with torch.no_grad():\n",
    "            batch_preds = torch.sigmoid(model(batch))  # apply sigmoid\n",
    "        preds.append(batch_preds.detach().cpu())\n",
    "    return torch.cat(preds, dim=0)"
   ]
  },
  {
   "cell_type": "code",
   "execution_count": 14,
   "metadata": {},
   "outputs": [],
   "source": [
    "model_path = os.path.join(MODEL_DIR, Config.MODEL_PATH)"
   ]
  },
  {
   "cell_type": "code",
   "execution_count": 15,
   "metadata": {},
   "outputs": [
    {
     "data": {
      "text/plain": [
       "<All keys matched successfully>"
      ]
     },
     "execution_count": 15,
     "metadata": {},
     "output_type": "execute_result"
    }
   ],
   "source": [
    "model = network.LSTMModel().to(Config.DEVICE)\n",
    "model.load_state_dict(torch.load(model_path))"
   ]
  },
  {
   "cell_type": "code",
   "execution_count": 18,
   "metadata": {},
   "outputs": [],
   "source": [
    "# テストデータの読み込み\n",
    "test = pd.read_parquet(os.path.join(PROCESSED_DIR, \"test_enc.parquet\"))\n",
    "test_tensor = torch.tensor(test.values, dtype=torch.float32).to(Config.DEVICE)\n",
    "preds = predict_in_batches(model, test_tensor, Config.BATCH_SIZE)"
   ]
  },
  {
   "cell_type": "code",
   "execution_count": 21,
   "metadata": {},
   "outputs": [],
   "source": [
    "preds = preds.numpy()"
   ]
  },
  {
   "cell_type": "code",
   "execution_count": 22,
   "metadata": {},
   "outputs": [
    {
     "name": "stderr",
     "output_type": "stream",
     "text": [
      "/tmp/ipykernel_493834/3638645060.py:12: FutureWarning: Setting an item of incompatible dtype is deprecated and will raise an error in a future version of pandas. Value '[6.88809081e-08 3.92980269e-07 1.07668195e-04 ... 3.66526801e-05\n",
      " 8.99846691e-06 5.53948157e-05]' has dtype incompatible with int64, please explicitly cast to a compatible dtype first.\n",
      "  tst.loc[mask_BRD4, 'binds'] = preds[mask_BRD4][:, 0]\n"
     ]
    }
   ],
   "source": [
    "\n",
    "tst = pl.read_parquet(os.path.join(RAW_DIR, \"test.parquet\"), n_rows=None).to_pandas()\n",
    "\n",
    "# 'binds'列を追加して初期化\n",
    "tst['binds'] = 0\n",
    "\n",
    "# ブールマスクの作成\n",
    "mask_BRD4 = (tst['protein_name'] == 'BRD4').values\n",
    "mask_HSA = (tst['protein_name'] == 'HSA').values\n",
    "mask_sEH = (tst['protein_name'] == 'sEH').values\n",
    "\n",
    "# 各マスクに対応する予測値を代入\n",
    "tst.loc[mask_BRD4, 'binds'] = preds[mask_BRD4][:, 0]\n",
    "tst.loc[mask_HSA, 'binds'] = preds[mask_HSA][:, 1]\n",
    "tst.loc[mask_sEH, 'binds'] = preds[mask_sEH][:, 2]\n",
    "\n",
    "\n",
    "\n",
    "submission = tst[['id', 'binds']].copy()\n",
    "# 'id'と'binds'列をCSVに出力\n",
    "submission.to_csv(os.path.join(OUTPUT_DIR,'submission.csv'), index=False)\n"
   ]
  },
  {
   "cell_type": "code",
   "execution_count": null,
   "metadata": {},
   "outputs": [],
   "source": []
  }
 ],
 "metadata": {
  "kernelspec": {
   "display_name": "leash",
   "language": "python",
   "name": "python3"
  },
  "language_info": {
   "codemirror_mode": {
    "name": "ipython",
    "version": 3
   },
   "file_extension": ".py",
   "mimetype": "text/x-python",
   "name": "python",
   "nbconvert_exporter": "python",
   "pygments_lexer": "ipython3",
   "version": "3.10.13"
  }
 },
 "nbformat": 4,
 "nbformat_minor": 2
}
