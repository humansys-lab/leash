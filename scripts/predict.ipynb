{
 "cells": [
  {
   "cell_type": "code",
   "execution_count": 1,
   "metadata": {},
   "outputs": [],
   "source": [
    "import polars as pl\n",
    "import numpy as np\n",
    "import pandas as pd\n",
    "from module import network, util, dataset"
   ]
  },
  {
   "cell_type": "code",
   "execution_count": 2,
   "metadata": {},
   "outputs": [],
   "source": [
    "# %%\n",
    "import gc\n",
    "import os\n",
    "import pickle\n",
    "import random\n",
    "import joblib\n",
    "import pandas as pd\n",
    "# import polars as pd\n",
    "from tqdm import tqdm\n",
    "from sklearn.metrics import average_precision_score as APS\n",
    "import polars as pl\n",
    "import torch\n",
    "import torch.nn as nn\n",
    "import torch.optim as optim\n",
    "from torch.utils.data import DataLoader, TensorDataset\n",
    "from sklearn.model_selection import StratifiedKFold\n",
    "import numpy as np\n",
    "import torch.nn.functional as F\n",
    "import math\n",
    "import time\n",
    "import sys\n",
    "import datetime\n",
    "import pytz\n",
    "import matplotlib.pyplot as plt\n",
    "\n",
    "\n",
    "from module import network, dataset, util\n",
    "from importlib import reload\n",
    "\n",
    "# %%\n",
    "class Config:\n",
    "    PREPROCESS = False\n",
    "    KAGGLE_NOTEBOOK = False\n",
    "    DEBUG = False\n",
    "    MODEL = 'lstm'\n",
    "    SEED = 42\n",
    "    EPOCHS = 9*2\n",
    "    BATCH_SIZE = 4096\n",
    "    LR = 1e-4\n",
    "    WD = 1e-6\n",
    "    PATIENCE = 3\n",
    "    DEVICE = 'cuda' if torch.cuda.is_available() else 'cpu'\n",
    "    EARLY_STOPPING = False\n",
    "    NUM_CV = 1\n",
    "    VAL_INDEX = [0]\n",
    "    NOTEBOOK = False\n",
    "    LOAD_MODEL = True\n",
    "    # models配下\n",
    "    MODEL_PATH = \"lstm/lstm_fold1_54.pt\"\n",
    "    \n",
    "    \n",
    "if Config.DEBUG:\n",
    "    n_rows = 10**4\n",
    "else:\n",
    "    n_rows = None\n",
    "\n",
    "\n",
    "\n",
    "# %%\n",
    "if Config.KAGGLE_NOTEBOOK:\n",
    "    RAW_DIR = \"/kaggle/input/leash-BELKA/\"\n",
    "    PROCESSED_DIR = \"/kaggle/input/belka-enc-dataset\"\n",
    "    OUTPUT_DIR = \"\"\n",
    "    MODEL_DIR = \"\"\n",
    "else:\n",
    "    RAW_DIR = \"../data/raw/\"\n",
    "    PROCESSED_DIR = \"../data/processed/\"\n",
    "    OUTPUT_DIR = \"../data/result/\"\n",
    "    MODEL_DIR = \"../models/\"\n",
    "    LOG_DIR = \"../data/logs\"\n",
    "    LOSS_DIR = \"../data/losses\"\n",
    "\n",
    "TRAIN_DATA_NAME = \"train_enc.parquet\"\n"
   ]
  },
  {
   "cell_type": "code",
   "execution_count": 3,
   "metadata": {},
   "outputs": [],
   "source": [
    "\n",
    "def predict_in_batches(model, data, batch_size):\n",
    "    model.eval()  # Set model to evaluation mode\n",
    "    preds = []\n",
    "    for i in range(0, data.size(0), batch_size):\n",
    "        batch = data[i:i+batch_size].to(Config.DEVICE)\n",
    "        with torch.no_grad():\n",
    "            batch_preds = torch.sigmoid(model(batch))  # apply sigmoid\n",
    "        preds.append(batch_preds.detach().cpu())\n",
    "    return torch.cat(preds, dim=0)"
   ]
  },
  {
   "cell_type": "code",
   "execution_count": 30,
   "metadata": {},
   "outputs": [
    {
     "name": "stdout",
     "output_type": "stream",
     "text": [
      "model loaded ../models/lstm/lstm_fold0_72.pt\n"
     ]
    },
    {
     "name": "stderr",
     "output_type": "stream",
     "text": [
      "/tmp/ipykernel_3779917/2601361681.py:30: FutureWarning: Setting an item of incompatible dtype is deprecated and will raise an error in a future version of pandas. Value '[6.88809081e-08 3.92980269e-07 1.07668195e-04 ... 3.66526801e-05\n",
      " 8.99846691e-06 5.53948157e-05]' has dtype incompatible with int64, please explicitly cast to a compatible dtype first.\n",
      "  tst.loc[mask_BRD4, 'binds'] = preds[mask_BRD4][:, 0]\n"
     ]
    },
    {
     "name": "stdout",
     "output_type": "stream",
     "text": [
      "file saved ../data/result/lstm_fold0_72.csv\n",
      "model loaded ../models/lstm/lstm_fold1_54.pt\n"
     ]
    },
    {
     "name": "stderr",
     "output_type": "stream",
     "text": [
      "/tmp/ipykernel_3779917/2601361681.py:30: FutureWarning: Setting an item of incompatible dtype is deprecated and will raise an error in a future version of pandas. Value '[1.7605805e-04 7.9816079e-04 7.5823354e-04 ... 2.2782087e-05 3.0156509e-06\n",
      " 9.8169599e-05]' has dtype incompatible with int64, please explicitly cast to a compatible dtype first.\n",
      "  tst.loc[mask_BRD4, 'binds'] = preds[mask_BRD4][:, 0]\n"
     ]
    },
    {
     "name": "stdout",
     "output_type": "stream",
     "text": [
      "file saved ../data/result/lstm_fold1_54.csv\n",
      "model loaded ../models/lstm/lstm_fold2_54.pt\n"
     ]
    },
    {
     "name": "stderr",
     "output_type": "stream",
     "text": [
      "/tmp/ipykernel_3779917/2601361681.py:30: FutureWarning: Setting an item of incompatible dtype is deprecated and will raise an error in a future version of pandas. Value '[9.9223936e-03 9.9113467e-04 1.3578285e-02 ... 2.0298787e-06 3.5828903e-06\n",
      " 6.1392493e-04]' has dtype incompatible with int64, please explicitly cast to a compatible dtype first.\n",
      "  tst.loc[mask_BRD4, 'binds'] = preds[mask_BRD4][:, 0]\n"
     ]
    },
    {
     "name": "stdout",
     "output_type": "stream",
     "text": [
      "file saved ../data/result/lstm_fold2_54.csv\n",
      "model loaded ../models/lstm/lstm_fold3_54.pt\n"
     ]
    },
    {
     "name": "stderr",
     "output_type": "stream",
     "text": [
      "/tmp/ipykernel_3779917/2601361681.py:30: FutureWarning: Setting an item of incompatible dtype is deprecated and will raise an error in a future version of pandas. Value '[6.7941961e-04 1.7114329e-04 3.0581234e-03 ... 2.1936437e-06 8.9152954e-06\n",
      " 2.5783724e-04]' has dtype incompatible with int64, please explicitly cast to a compatible dtype first.\n",
      "  tst.loc[mask_BRD4, 'binds'] = preds[mask_BRD4][:, 0]\n"
     ]
    },
    {
     "name": "stdout",
     "output_type": "stream",
     "text": [
      "file saved ../data/result/lstm_fold3_54.csv\n",
      "model loaded ../models/lstm/lstm_fold4_63.pt\n"
     ]
    },
    {
     "name": "stderr",
     "output_type": "stream",
     "text": [
      "/tmp/ipykernel_3779917/2601361681.py:30: FutureWarning: Setting an item of incompatible dtype is deprecated and will raise an error in a future version of pandas. Value '[8.0182040e-03 7.9469749e-04 5.8023231e-03 ... 2.4846734e-06 5.2244632e-06\n",
      " 1.4800717e-04]' has dtype incompatible with int64, please explicitly cast to a compatible dtype first.\n",
      "  tst.loc[mask_BRD4, 'binds'] = preds[mask_BRD4][:, 0]\n"
     ]
    },
    {
     "name": "stdout",
     "output_type": "stream",
     "text": [
      "file saved ../data/result/lstm_fold4_63.csv\n",
      "model loaded ../models/lstm/lstm_fold5_54.pt\n"
     ]
    },
    {
     "name": "stderr",
     "output_type": "stream",
     "text": [
      "/tmp/ipykernel_3779917/2601361681.py:30: FutureWarning: Setting an item of incompatible dtype is deprecated and will raise an error in a future version of pandas. Value '[5.7610252e-04 1.6170529e-04 1.1974375e-03 ... 4.3226191e-05 7.7284982e-05\n",
      " 2.7078879e-04]' has dtype incompatible with int64, please explicitly cast to a compatible dtype first.\n",
      "  tst.loc[mask_BRD4, 'binds'] = preds[mask_BRD4][:, 0]\n"
     ]
    },
    {
     "name": "stdout",
     "output_type": "stream",
     "text": [
      "file saved ../data/result/lstm_fold5_54.csv\n",
      "model loaded ../models/lstm/lstm_fold6_54.pt\n"
     ]
    },
    {
     "name": "stderr",
     "output_type": "stream",
     "text": [
      "/tmp/ipykernel_3779917/2601361681.py:30: FutureWarning: Setting an item of incompatible dtype is deprecated and will raise an error in a future version of pandas. Value '[9.1036694e-04 8.0100703e-04 7.3202588e-03 ... 9.4594470e-06 8.1086167e-05\n",
      " 1.0956666e-04]' has dtype incompatible with int64, please explicitly cast to a compatible dtype first.\n",
      "  tst.loc[mask_BRD4, 'binds'] = preds[mask_BRD4][:, 0]\n"
     ]
    },
    {
     "name": "stdout",
     "output_type": "stream",
     "text": [
      "file saved ../data/result/lstm_fold6_54.csv\n",
      "model loaded ../models/lstm/lstm_fold7_54.pt\n"
     ]
    },
    {
     "name": "stderr",
     "output_type": "stream",
     "text": [
      "/tmp/ipykernel_3779917/2601361681.py:30: FutureWarning: Setting an item of incompatible dtype is deprecated and will raise an error in a future version of pandas. Value '[1.3680089e-03 1.0163675e-03 3.3375507e-03 ... 5.9616697e-05 3.2398468e-05\n",
      " 5.3227897e-05]' has dtype incompatible with int64, please explicitly cast to a compatible dtype first.\n",
      "  tst.loc[mask_BRD4, 'binds'] = preds[mask_BRD4][:, 0]\n"
     ]
    },
    {
     "name": "stdout",
     "output_type": "stream",
     "text": [
      "file saved ../data/result/lstm_fold7_54.csv\n",
      "model loaded ../models/lstm/lstm_fold8_54.pt\n"
     ]
    },
    {
     "name": "stderr",
     "output_type": "stream",
     "text": [
      "/tmp/ipykernel_3779917/2601361681.py:30: FutureWarning: Setting an item of incompatible dtype is deprecated and will raise an error in a future version of pandas. Value '[4.4682383e-04 4.9676150e-05 5.5513014e-03 ... 1.5417008e-06 1.4295779e-06\n",
      " 1.8419667e-04]' has dtype incompatible with int64, please explicitly cast to a compatible dtype first.\n",
      "  tst.loc[mask_BRD4, 'binds'] = preds[mask_BRD4][:, 0]\n"
     ]
    },
    {
     "name": "stdout",
     "output_type": "stream",
     "text": [
      "file saved ../data/result/lstm_fold8_54.csv\n"
     ]
    }
   ],
   "source": [
    "model_paths = [\"lstm_fold0_72.pt\", \"lstm_fold1_54.pt\", \"lstm_fold2_54.pt\", \"lstm_fold3_54.pt\", \"lstm_fold4_63.pt\", \"lstm_fold5_54.pt\", \"lstm_fold6_54.pt\", \"lstm_fold7_54.pt\", \"lstm_fold8_54.pt\"]\n",
    "\n",
    "for i, path in enumerate(model_paths):\n",
    "    model_path = os.path.join(MODEL_DIR, \"lstm\")\n",
    "    model_path = os.path.join(model_path, path)\n",
    "    model = network.LSTMModel().to(Config.DEVICE)\n",
    "    # 0以外のモデルはcompileする. 訓練のときのミス\n",
    "    if i not in [0]:\n",
    "        model = torch.compile(model)\n",
    "    model.load_state_dict(torch.load(model_path))\n",
    "    print(f\"model loaded {model_path}\")\n",
    "    \n",
    "    # テストデータの読み込み\n",
    "    test = pd.read_parquet(os.path.join(PROCESSED_DIR, \"test_enc.parquet\"))\n",
    "    test_tensor = torch.tensor(test.values, dtype=torch.float32).to(Config.DEVICE)\n",
    "    preds = predict_in_batches(model, test_tensor, Config.BATCH_SIZE)\n",
    "    preds = preds.numpy()\n",
    "        \n",
    "    tst = pl.read_parquet(os.path.join(RAW_DIR, \"test.parquet\"), n_rows=None).to_pandas()\n",
    "\n",
    "    # 'binds'列を追加して初期化\n",
    "    tst['binds'] = 0\n",
    "\n",
    "    # ブールマスクの作成\n",
    "    mask_BRD4 = (tst['protein_name'] == 'BRD4').values\n",
    "    mask_HSA = (tst['protein_name'] == 'HSA').values\n",
    "    mask_sEH = (tst['protein_name'] == 'sEH').values\n",
    "\n",
    "    # 各マスクに対応する予測値を代入\n",
    "    tst.loc[mask_BRD4, 'binds'] = preds[mask_BRD4][:, 0]\n",
    "    tst.loc[mask_HSA, 'binds'] = preds[mask_HSA][:, 1]\n",
    "    tst.loc[mask_sEH, 'binds'] = preds[mask_sEH][:, 2]\n",
    "\n",
    "\n",
    "\n",
    "    submission = tst[['id', 'binds']].copy()\n",
    "    # 'id'と'binds'列をCSVに出力\n",
    "    file_name = path.replace(\".pt\", \".csv\")\n",
    "    file_name = os.path.join(OUTPUT_DIR, file_name)\n",
    "    submission.to_csv(file_name, index=False)\n",
    "    print(f\"file saved {file_name}\")\n",
    "\n",
    "        \n",
    "        "
   ]
  },
  {
   "cell_type": "code",
   "execution_count": 42,
   "metadata": {},
   "outputs": [],
   "source": [
    "# ensemble\n",
    "for path in model_paths:\n",
    "    file_name = path.replace(\".pt\", \".csv\")\n",
    "    file_name = os.path.join(OUTPUT_DIR, file_name)\n",
    "    submission = pd.read_csv(file_name)\n",
    "    if path == model_paths[0]:\n",
    "        ensemble = submission\n",
    "    else:\n",
    "        ensemble['binds'] += submission['binds']\n",
    "\n",
    "ensemble['binds'] /= len(model_paths)\n",
    "ensemble.to_csv(os.path.join(OUTPUT_DIR, \"lstm_ensemble.csv\"), index=False)"
   ]
  },
  {
   "cell_type": "code",
   "execution_count": 46,
   "metadata": {},
   "outputs": [],
   "source": [
    "lstm = pd.read_csv(os.path.join(OUTPUT_DIR, \"lstm_ensemble_0.393.csv\"))\n",
    "cnn = pd.read_csv(os.path.join(OUTPUT_DIR, \"cnn_0.416.csv\"))\n",
    "\n",
    "ensemble = cnn * 0.9 + lstm * 0.1\n",
    "ensemble.to_csv(os.path.join(OUTPUT_DIR, \"lstm_cnn_ensemble.csv\"), index=False)"
   ]
  },
  {
   "cell_type": "code",
   "execution_count": 49,
   "metadata": {},
   "outputs": [],
   "source": [
    "blender = pd.read_csv(os.path.join(OUTPUT_DIR, \"blender_0.448.csv\"))\n",
    "ensemble = pd.read_csv(os.path.join(OUTPUT_DIR, \"lstm_cnn_ensemble.csv\"))\n",
    "\n",
    "ensemble['binds'] = ensemble['binds'] * 0.15 + blender['binds'] * 0.85\n",
    "ensemble.to_csv(os.path.join(OUTPUT_DIR, \"lstm_cnn_blender_ensemble.csv\"), index=False)"
   ]
  },
  {
   "cell_type": "code",
   "execution_count": 4,
   "metadata": {},
   "outputs": [],
   "source": [
    "model_path = os.path.join(MODEL_DIR, Config.MODEL_PATH)"
   ]
  },
  {
   "cell_type": "code",
   "execution_count": 5,
   "metadata": {},
   "outputs": [
    {
     "data": {
      "text/plain": [
       "<All keys matched successfully>"
      ]
     },
     "execution_count": 5,
     "metadata": {},
     "output_type": "execute_result"
    }
   ],
   "source": [
    "model = network.LSTMModel().to(Config.DEVICE)\n",
    "model = torch.compile(model)\n",
    "model.load_state_dict(torch.load(model_path))"
   ]
  },
  {
   "cell_type": "code",
   "execution_count": 6,
   "metadata": {},
   "outputs": [
    {
     "ename": "KeyboardInterrupt",
     "evalue": "",
     "output_type": "error",
     "traceback": [
      "\u001b[0;31m---------------------------------------------------------------------------\u001b[0m",
      "\u001b[0;31mKeyboardInterrupt\u001b[0m                         Traceback (most recent call last)",
      "Cell \u001b[0;32mIn[6], line 4\u001b[0m\n\u001b[1;32m      2\u001b[0m test \u001b[38;5;241m=\u001b[39m pd\u001b[38;5;241m.\u001b[39mread_parquet(os\u001b[38;5;241m.\u001b[39mpath\u001b[38;5;241m.\u001b[39mjoin(PROCESSED_DIR, \u001b[38;5;124m\"\u001b[39m\u001b[38;5;124mtest_enc.parquet\u001b[39m\u001b[38;5;124m\"\u001b[39m))\n\u001b[1;32m      3\u001b[0m test_tensor \u001b[38;5;241m=\u001b[39m torch\u001b[38;5;241m.\u001b[39mtensor(test\u001b[38;5;241m.\u001b[39mvalues, dtype\u001b[38;5;241m=\u001b[39mtorch\u001b[38;5;241m.\u001b[39mfloat32)\u001b[38;5;241m.\u001b[39mto(Config\u001b[38;5;241m.\u001b[39mDEVICE)\n\u001b[0;32m----> 4\u001b[0m preds \u001b[38;5;241m=\u001b[39m \u001b[43mpredict_in_batches\u001b[49m\u001b[43m(\u001b[49m\u001b[43mmodel\u001b[49m\u001b[43m,\u001b[49m\u001b[43m \u001b[49m\u001b[43mtest_tensor\u001b[49m\u001b[43m,\u001b[49m\u001b[43m \u001b[49m\u001b[43mConfig\u001b[49m\u001b[38;5;241;43m.\u001b[39;49m\u001b[43mBATCH_SIZE\u001b[49m\u001b[43m)\u001b[49m\n\u001b[1;32m      5\u001b[0m preds \u001b[38;5;241m=\u001b[39m preds\u001b[38;5;241m.\u001b[39mnumpy()\n",
      "Cell \u001b[0;32mIn[3], line 8\u001b[0m, in \u001b[0;36mpredict_in_batches\u001b[0;34m(model, data, batch_size)\u001b[0m\n\u001b[1;32m      6\u001b[0m     \u001b[38;5;28;01mwith\u001b[39;00m torch\u001b[38;5;241m.\u001b[39mno_grad():\n\u001b[1;32m      7\u001b[0m         batch_preds \u001b[38;5;241m=\u001b[39m torch\u001b[38;5;241m.\u001b[39msigmoid(model(batch))  \u001b[38;5;66;03m# apply sigmoid\u001b[39;00m\n\u001b[0;32m----> 8\u001b[0m     preds\u001b[38;5;241m.\u001b[39mappend(\u001b[43mbatch_preds\u001b[49m\u001b[38;5;241;43m.\u001b[39;49m\u001b[43mdetach\u001b[49m\u001b[43m(\u001b[49m\u001b[43m)\u001b[49m\u001b[38;5;241;43m.\u001b[39;49m\u001b[43mcpu\u001b[49m\u001b[43m(\u001b[49m\u001b[43m)\u001b[49m)\n\u001b[1;32m      9\u001b[0m \u001b[38;5;28;01mreturn\u001b[39;00m torch\u001b[38;5;241m.\u001b[39mcat(preds, dim\u001b[38;5;241m=\u001b[39m\u001b[38;5;241m0\u001b[39m)\n",
      "\u001b[0;31mKeyboardInterrupt\u001b[0m: "
     ]
    }
   ],
   "source": [
    "# テストデータの読み込み\n",
    "test = pd.read_parquet(os.path.join(PROCESSED_DIR, \"test_enc.parquet\"))\n",
    "test_tensor = torch.tensor(test.values, dtype=torch.float32).to(Config.DEVICE)\n",
    "preds = predict_in_batches(model, test_tensor, Config.BATCH_SIZE)\n",
    "preds = preds.numpy()"
   ]
  },
  {
   "cell_type": "code",
   "execution_count": 11,
   "metadata": {},
   "outputs": [
    {
     "name": "stderr",
     "output_type": "stream",
     "text": [
      "/tmp/ipykernel_1005998/3638645060.py:12: FutureWarning: Setting an item of incompatible dtype is deprecated and will raise an error in a future version of pandas. Value '[1.7605805e-04 7.9816079e-04 7.5823354e-04 ... 2.2782087e-05 3.0156509e-06\n",
      " 9.8169599e-05]' has dtype incompatible with int64, please explicitly cast to a compatible dtype first.\n",
      "  tst.loc[mask_BRD4, 'binds'] = preds[mask_BRD4][:, 0]\n"
     ]
    }
   ],
   "source": [
    "\n",
    "tst = pl.read_parquet(os.path.join(RAW_DIR, \"test.parquet\"), n_rows=None).to_pandas()\n",
    "\n",
    "# 'binds'列を追加して初期化\n",
    "tst['binds'] = 0\n",
    "\n",
    "# ブールマスクの作成\n",
    "mask_BRD4 = (tst['protein_name'] == 'BRD4').values\n",
    "mask_HSA = (tst['protein_name'] == 'HSA').values\n",
    "mask_sEH = (tst['protein_name'] == 'sEH').values\n",
    "\n",
    "# 各マスクに対応する予測値を代入\n",
    "tst.loc[mask_BRD4, 'binds'] = preds[mask_BRD4][:, 0]\n",
    "tst.loc[mask_HSA, 'binds'] = preds[mask_HSA][:, 1]\n",
    "tst.loc[mask_sEH, 'binds'] = preds[mask_sEH][:, 2]\n",
    "\n",
    "\n",
    "\n",
    "submission = tst[['id', 'binds']].copy()\n",
    "# 'id'と'binds'列をCSVに出力\n",
    "submission.to_csv(os.path.join(OUTPUT_DIR,'submission.csv'), index=False)\n"
   ]
  },
  {
   "cell_type": "code",
   "execution_count": null,
   "metadata": {},
   "outputs": [],
   "source": []
  }
 ],
 "metadata": {
  "kernelspec": {
   "display_name": "leash",
   "language": "python",
   "name": "python3"
  },
  "language_info": {
   "codemirror_mode": {
    "name": "ipython",
    "version": 3
   },
   "file_extension": ".py",
   "mimetype": "text/x-python",
   "name": "python",
   "nbconvert_exporter": "python",
   "pygments_lexer": "ipython3",
   "version": "3.1.undefined"
  }
 },
 "nbformat": 4,
 "nbformat_minor": 2
}
