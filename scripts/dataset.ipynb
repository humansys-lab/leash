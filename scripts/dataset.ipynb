{
 "cells": [
  {
   "cell_type": "code",
   "execution_count": 1,
   "metadata": {},
   "outputs": [],
   "source": [
    "import gc\n",
    "import os\n",
    "import pickle\n",
    "import random\n",
    "import joblib\n",
    "import numpy as np\n",
    "import pandas as pd\n",
    "from tqdm import tqdm\n",
    "import polars as pl\n"
   ]
  },
  {
   "cell_type": "code",
   "execution_count": 2,
   "metadata": {},
   "outputs": [],
   "source": [
    "class Config:\n",
    "    PREPROCESS = False\n",
    "    KAGGLE_NOTEBOOK = False\n",
    "    DEBUG = True\n",
    "    \n",
    "    SEED = 42\n",
    "    EPOCHS = 5\n",
    "    BATCH_SIZE = 4096\n",
    "    LR = 1e-3\n",
    "    WD = 0.05\n",
    "    PATIENCE = 5\n",
    "    NBR_FOLDS = 15\n",
    "    SELECTED_FOLDS = [0]\n",
    "    \n",
    "    \n",
    "if Config.DEBUG:\n",
    "    n_rows = 10**3\n",
    "else:\n",
    "    n_rows = None\n",
    "    "
   ]
  },
  {
   "cell_type": "code",
   "execution_count": 3,
   "metadata": {},
   "outputs": [],
   "source": [
    "if Config.KAGGLE_NOTEBOOK:\n",
    "    RAW_DIR = \"/kaggle/input/leash-BELKA/\"\n",
    "    PROCESSED_DIR = \"/kaggle/input/belka-enc-dataset\"\n",
    "    OUTPUT_DIR = \"\"\n",
    "    MODEL_DIR = \"\"\n",
    "else:\n",
    "    RAW_DIR = \"../data/raw/\"\n",
    "    PROCESSED_DIR = \"../data/processed/\"\n",
    "    OUTPUT_DIR = \"../data/result/\"\n",
    "    MODEL_DIR = \"../models/\"\n",
    "\n",
    "TRAIN_DATA_NAME = \"local_train_enc.parquet\"\n",
    "SAVE_PATH = \"../data/chuncked-dataset/\""
   ]
  },
  {
   "cell_type": "markdown",
   "metadata": {},
   "source": [
    "データを10分割して保存"
   ]
  },
  {
   "cell_type": "code",
   "execution_count": null,
   "metadata": {},
   "outputs": [],
   "source": [
    "\n",
    "# split dataset to several parquet\n",
    "train = pl.read_parquet(os.path.join(PROCESSED_DIR, TRAIN_DATA_NAME), n_rows=None)\n",
    "\n",
    "# shuffle\n",
    "train = train.sample(fraction=1, seed=Config.SEED, shuffle=True)\n",
    "# trainを10分割して保存\n",
    "n = 10\n",
    "chunk_size = len(train) // n\n",
    "for i in range(n):\n",
    "    chunk = train[i*chunk_size:(i+1)*chunk_size]\n",
    "    chunk.write_parquet(os.path.join(SAVE_PATH, f\"local_train_enc_{i}.parquet\"))\n",
    "    "
   ]
  },
  {
   "cell_type": "markdown",
   "metadata": {},
   "source": [
    "マスクを保存"
   ]
  },
  {
   "cell_type": "code",
   "execution_count": 14,
   "metadata": {},
   "outputs": [],
   "source": [
    "FEATURES = [f'enc{i}' for i in range(142)]\n",
    "\n",
    "for i in range(10):\n",
    "    train = pl.read_parquet(os.path.join(SAVE_PATH, f\"local_train_enc_{i}.parquet\"), n_rows=None).to_pandas()\n",
    "    mask_df = (train.values > 0).astype(int)\n",
    "    mask_df = pd.DataFrame(mask_df, columns=train.columns)\n",
    "    mask_df = mask_df[FEATURES]\n",
    "    mask_df.to_parquet(os.path.join(SAVE_PATH, f\"local_train_mask_{i}.parquet\"))"
   ]
  },
  {
   "cell_type": "code",
   "execution_count": 4,
   "metadata": {},
   "outputs": [],
   "source": [
    "train = pl.read_parquet(os.path.join(SAVE_PATH, f\"local_train_enc_0.parquet\"), n_rows=1000).to_pandas()\n",
    "mask = pl.read_parquet(os.path.join(SAVE_PATH, f\"local_train_mask_0.parquet\"), n_rows=1000).to_pandas()"
   ]
  },
  {
   "cell_type": "code",
   "execution_count": 10,
   "metadata": {},
   "outputs": [
    {
     "data": {
      "text/plain": [
       "(Index(['enc0', 'enc1', 'enc2', 'enc3', 'enc4', 'enc5', 'enc6', 'enc7', 'enc8',\n",
       "        'enc9', 'enc10', 'enc11', 'enc12', 'enc13', 'enc14', 'enc15', 'enc16',\n",
       "        'enc17', 'enc18', 'enc19', 'enc20', 'enc21', 'enc22', 'enc23', 'enc24',\n",
       "        'enc25', 'enc26', 'enc27', 'enc28', 'enc29', 'enc30', 'enc31', 'enc32',\n",
       "        'enc33', 'enc34', 'enc35', 'enc36', 'enc37', 'enc38', 'enc39', 'enc40',\n",
       "        'enc41', 'enc42', 'enc43', 'enc44', 'enc45', 'enc46', 'enc47', 'enc48',\n",
       "        'enc49', 'enc50', 'enc51', 'enc52', 'enc53', 'enc54', 'enc55', 'enc56',\n",
       "        'enc57', 'enc58', 'enc59', 'enc60', 'enc61', 'enc62', 'enc63', 'enc64',\n",
       "        'enc65', 'enc66', 'enc67', 'enc68', 'enc69', 'enc70', 'enc71', 'enc72',\n",
       "        'enc73', 'enc74', 'enc75', 'enc76', 'enc77', 'enc78', 'enc79'],\n",
       "       dtype='object'),\n",
       " Index(['enc0', 'enc1', 'enc2', 'enc3', 'enc4', 'enc5', 'enc6', 'enc7', 'enc8',\n",
       "        'enc9', 'enc10', 'enc11', 'enc12', 'enc13', 'enc14', 'enc15', 'enc16',\n",
       "        'enc17', 'enc18', 'enc19', 'enc20', 'enc21', 'enc22', 'enc23', 'enc24',\n",
       "        'enc25', 'enc26', 'enc27', 'enc28', 'enc29', 'enc30', 'enc31', 'enc32',\n",
       "        'enc33', 'enc34', 'enc35', 'enc36', 'enc37', 'enc38', 'enc39', 'enc40',\n",
       "        'enc41', 'enc42', 'enc43', 'enc44', 'enc45', 'enc46', 'enc47', 'enc48',\n",
       "        'enc49', 'enc50', 'enc51', 'enc52', 'enc53', 'enc54', 'enc55', 'enc56',\n",
       "        'enc57', 'enc58', 'enc59', 'enc60', 'enc61', 'enc62', 'enc63', 'enc64',\n",
       "        'enc65', 'enc66', 'enc67', 'enc68', 'enc69', 'enc70', 'enc71', 'enc72',\n",
       "        'enc73', 'enc74', 'enc75', 'enc76', 'enc77', 'enc78', 'enc79'],\n",
       "       dtype='object'))"
      ]
     },
     "execution_count": 10,
     "metadata": {},
     "output_type": "execute_result"
    }
   ],
   "source": [
    "mask.loc[100][mask.loc[0] == 1].index, train.loc[100][train.loc[0] > 0].index"
   ]
  },
  {
   "cell_type": "markdown",
   "metadata": {},
   "source": [
    "生データを１０分割して保存"
   ]
  },
  {
   "cell_type": "code",
   "execution_count": 15,
   "metadata": {},
   "outputs": [],
   "source": [
    "train = pl.read_parquet(os.path.join(RAW_DIR, \"train.parquet\"), n_rows=None)"
   ]
  },
  {
   "cell_type": "code",
   "execution_count": 16,
   "metadata": {},
   "outputs": [],
   "source": [
    "# 10分割して保存\n",
    "SAVE_PATH = \"../data/chuncked-raw-dataset\"\n",
    "n = 10\n",
    "chunk_size = len(train) // n\n",
    "for i in range(n):\n",
    "    chunk = train[i*chunk_size:(i+1)*chunk_size]\n",
    "    path = os.path.join(SAVE_PATH, f\"train_{i}.parquet\")\n",
    "    chunk.write_parquet(path)\n",
    "    print(f\"data saved to {path}\", chunk.shape)"
   ]
  },
  {
   "cell_type": "code",
   "execution_count": 13,
   "metadata": {},
   "outputs": [
    {
     "data": {
      "text/html": [
       "<div><style>\n",
       ".dataframe > thead > tr,\n",
       ".dataframe > tbody > tr {\n",
       "  text-align: right;\n",
       "  white-space: pre-wrap;\n",
       "}\n",
       "</style>\n",
       "<small>shape: (100, 7)</small><table border=\"1\" class=\"dataframe\"><thead><tr><th>id</th><th>buildingblock1_smiles</th><th>buildingblock2_smiles</th><th>buildingblock3_smiles</th><th>molecule_smiles</th><th>protein_name</th><th>binds</th></tr><tr><td>i64</td><td>str</td><td>str</td><td>str</td><td>str</td><td>str</td><td>i64</td></tr></thead><tbody><tr><td>0</td><td>&quot;C#CC[C@@H](CC(=O)O)NC(=O)OCC1c…</td><td>&quot;C#CCOc1ccc(CN)cc1.Cl&quot;</td><td>&quot;Br.Br.NCC1CCCN1c1cccnn1&quot;</td><td>&quot;C#CCOc1ccc(CNc2nc(NCC3CCCN3c3c…</td><td>&quot;BRD4&quot;</td><td>0</td></tr><tr><td>1</td><td>&quot;C#CC[C@@H](CC(=O)O)NC(=O)OCC1c…</td><td>&quot;C#CCOc1ccc(CN)cc1.Cl&quot;</td><td>&quot;Br.Br.NCC1CCCN1c1cccnn1&quot;</td><td>&quot;C#CCOc1ccc(CNc2nc(NCC3CCCN3c3c…</td><td>&quot;HSA&quot;</td><td>0</td></tr><tr><td>2</td><td>&quot;C#CC[C@@H](CC(=O)O)NC(=O)OCC1c…</td><td>&quot;C#CCOc1ccc(CN)cc1.Cl&quot;</td><td>&quot;Br.Br.NCC1CCCN1c1cccnn1&quot;</td><td>&quot;C#CCOc1ccc(CNc2nc(NCC3CCCN3c3c…</td><td>&quot;sEH&quot;</td><td>0</td></tr><tr><td>3</td><td>&quot;C#CC[C@@H](CC(=O)O)NC(=O)OCC1c…</td><td>&quot;C#CCOc1ccc(CN)cc1.Cl&quot;</td><td>&quot;Br.NCc1cccc(Br)n1&quot;</td><td>&quot;C#CCOc1ccc(CNc2nc(NCc3cccc(Br)…</td><td>&quot;BRD4&quot;</td><td>0</td></tr><tr><td>4</td><td>&quot;C#CC[C@@H](CC(=O)O)NC(=O)OCC1c…</td><td>&quot;C#CCOc1ccc(CN)cc1.Cl&quot;</td><td>&quot;Br.NCc1cccc(Br)n1&quot;</td><td>&quot;C#CCOc1ccc(CNc2nc(NCc3cccc(Br)…</td><td>&quot;HSA&quot;</td><td>0</td></tr><tr><td>&hellip;</td><td>&hellip;</td><td>&hellip;</td><td>&hellip;</td><td>&hellip;</td><td>&hellip;</td><td>&hellip;</td></tr><tr><td>95</td><td>&quot;C#CC[C@@H](CC(=O)O)NC(=O)OCC1c…</td><td>&quot;C#CCOc1ccc(CN)cc1.Cl&quot;</td><td>&quot;CC1CC(CN)C(C)O1&quot;</td><td>&quot;C#CCOc1ccc(CNc2nc(NCC3CC(C)OC3…</td><td>&quot;sEH&quot;</td><td>0</td></tr><tr><td>96</td><td>&quot;C#CC[C@@H](CC(=O)O)NC(=O)OCC1c…</td><td>&quot;C#CCOc1ccc(CN)cc1.Cl&quot;</td><td>&quot;CC1CCc2nc(CN)sc2C1&quot;</td><td>&quot;C#CCOc1ccc(CNc2nc(NCc3nc4c(s3)…</td><td>&quot;BRD4&quot;</td><td>0</td></tr><tr><td>97</td><td>&quot;C#CC[C@@H](CC(=O)O)NC(=O)OCC1c…</td><td>&quot;C#CCOc1ccc(CN)cc1.Cl&quot;</td><td>&quot;CC1CCc2nc(CN)sc2C1&quot;</td><td>&quot;C#CCOc1ccc(CNc2nc(NCc3nc4c(s3)…</td><td>&quot;HSA&quot;</td><td>0</td></tr><tr><td>98</td><td>&quot;C#CC[C@@H](CC(=O)O)NC(=O)OCC1c…</td><td>&quot;C#CCOc1ccc(CN)cc1.Cl&quot;</td><td>&quot;CC1CCc2nc(CN)sc2C1&quot;</td><td>&quot;C#CCOc1ccc(CNc2nc(NCc3nc4c(s3)…</td><td>&quot;sEH&quot;</td><td>0</td></tr><tr><td>99</td><td>&quot;C#CC[C@@H](CC(=O)O)NC(=O)OCC1c…</td><td>&quot;C#CCOc1ccc(CN)cc1.Cl&quot;</td><td>&quot;CC1Cc2cc(CN)ccc2O1&quot;</td><td>&quot;C#CCOc1ccc(CNc2nc(NCc3ccc4c(c3…</td><td>&quot;BRD4&quot;</td><td>0</td></tr></tbody></table></div>"
      ],
      "text/plain": [
       "shape: (100, 7)\n",
       "┌─────┬─────────────────┬─────────────────┬────────────────┬────────────────┬──────────────┬───────┐\n",
       "│ id  ┆ buildingblock1_ ┆ buildingblock2_ ┆ buildingblock3 ┆ molecule_smile ┆ protein_name ┆ binds │\n",
       "│ --- ┆ smiles          ┆ smiles          ┆ _smiles        ┆ s              ┆ ---          ┆ ---   │\n",
       "│ i64 ┆ ---             ┆ ---             ┆ ---            ┆ ---            ┆ str          ┆ i64   │\n",
       "│     ┆ str             ┆ str             ┆ str            ┆ str            ┆              ┆       │\n",
       "╞═════╪═════════════════╪═════════════════╪════════════════╪════════════════╪══════════════╪═══════╡\n",
       "│ 0   ┆ C#CC[C@@H](CC(= ┆ C#CCOc1ccc(CN)c ┆ Br.Br.NCC1CCCN ┆ C#CCOc1ccc(CNc ┆ BRD4         ┆ 0     │\n",
       "│     ┆ O)O)NC(=O)OCC1c ┆ c1.Cl           ┆ 1c1cccnn1      ┆ 2nc(NCC3CCCN3c ┆              ┆       │\n",
       "│     ┆ …               ┆                 ┆                ┆ 3c…            ┆              ┆       │\n",
       "│ 1   ┆ C#CC[C@@H](CC(= ┆ C#CCOc1ccc(CN)c ┆ Br.Br.NCC1CCCN ┆ C#CCOc1ccc(CNc ┆ HSA          ┆ 0     │\n",
       "│     ┆ O)O)NC(=O)OCC1c ┆ c1.Cl           ┆ 1c1cccnn1      ┆ 2nc(NCC3CCCN3c ┆              ┆       │\n",
       "│     ┆ …               ┆                 ┆                ┆ 3c…            ┆              ┆       │\n",
       "│ 2   ┆ C#CC[C@@H](CC(= ┆ C#CCOc1ccc(CN)c ┆ Br.Br.NCC1CCCN ┆ C#CCOc1ccc(CNc ┆ sEH          ┆ 0     │\n",
       "│     ┆ O)O)NC(=O)OCC1c ┆ c1.Cl           ┆ 1c1cccnn1      ┆ 2nc(NCC3CCCN3c ┆              ┆       │\n",
       "│     ┆ …               ┆                 ┆                ┆ 3c…            ┆              ┆       │\n",
       "│ 3   ┆ C#CC[C@@H](CC(= ┆ C#CCOc1ccc(CN)c ┆ Br.NCc1cccc(Br ┆ C#CCOc1ccc(CNc ┆ BRD4         ┆ 0     │\n",
       "│     ┆ O)O)NC(=O)OCC1c ┆ c1.Cl           ┆ )n1            ┆ 2nc(NCc3cccc(B ┆              ┆       │\n",
       "│     ┆ …               ┆                 ┆                ┆ r)…            ┆              ┆       │\n",
       "│ 4   ┆ C#CC[C@@H](CC(= ┆ C#CCOc1ccc(CN)c ┆ Br.NCc1cccc(Br ┆ C#CCOc1ccc(CNc ┆ HSA          ┆ 0     │\n",
       "│     ┆ O)O)NC(=O)OCC1c ┆ c1.Cl           ┆ )n1            ┆ 2nc(NCc3cccc(B ┆              ┆       │\n",
       "│     ┆ …               ┆                 ┆                ┆ r)…            ┆              ┆       │\n",
       "│ …   ┆ …               ┆ …               ┆ …              ┆ …              ┆ …            ┆ …     │\n",
       "│ 95  ┆ C#CC[C@@H](CC(= ┆ C#CCOc1ccc(CN)c ┆ CC1CC(CN)C(C)O ┆ C#CCOc1ccc(CNc ┆ sEH          ┆ 0     │\n",
       "│     ┆ O)O)NC(=O)OCC1c ┆ c1.Cl           ┆ 1              ┆ 2nc(NCC3CC(C)O ┆              ┆       │\n",
       "│     ┆ …               ┆                 ┆                ┆ C3…            ┆              ┆       │\n",
       "│ 96  ┆ C#CC[C@@H](CC(= ┆ C#CCOc1ccc(CN)c ┆ CC1CCc2nc(CN)s ┆ C#CCOc1ccc(CNc ┆ BRD4         ┆ 0     │\n",
       "│     ┆ O)O)NC(=O)OCC1c ┆ c1.Cl           ┆ c2C1           ┆ 2nc(NCc3nc4c(s ┆              ┆       │\n",
       "│     ┆ …               ┆                 ┆                ┆ 3)…            ┆              ┆       │\n",
       "│ 97  ┆ C#CC[C@@H](CC(= ┆ C#CCOc1ccc(CN)c ┆ CC1CCc2nc(CN)s ┆ C#CCOc1ccc(CNc ┆ HSA          ┆ 0     │\n",
       "│     ┆ O)O)NC(=O)OCC1c ┆ c1.Cl           ┆ c2C1           ┆ 2nc(NCc3nc4c(s ┆              ┆       │\n",
       "│     ┆ …               ┆                 ┆                ┆ 3)…            ┆              ┆       │\n",
       "│ 98  ┆ C#CC[C@@H](CC(= ┆ C#CCOc1ccc(CN)c ┆ CC1CCc2nc(CN)s ┆ C#CCOc1ccc(CNc ┆ sEH          ┆ 0     │\n",
       "│     ┆ O)O)NC(=O)OCC1c ┆ c1.Cl           ┆ c2C1           ┆ 2nc(NCc3nc4c(s ┆              ┆       │\n",
       "│     ┆ …               ┆                 ┆                ┆ 3)…            ┆              ┆       │\n",
       "│ 99  ┆ C#CC[C@@H](CC(= ┆ C#CCOc1ccc(CN)c ┆ CC1Cc2cc(CN)cc ┆ C#CCOc1ccc(CNc ┆ BRD4         ┆ 0     │\n",
       "│     ┆ O)O)NC(=O)OCC1c ┆ c1.Cl           ┆ c2O1           ┆ 2nc(NCc3ccc4c( ┆              ┆       │\n",
       "│     ┆ …               ┆                 ┆                ┆ c3…            ┆              ┆       │\n",
       "└─────┴─────────────────┴─────────────────┴────────────────┴────────────────┴──────────────┴───────┘"
      ]
     },
     "execution_count": 13,
     "metadata": {},
     "output_type": "execute_result"
    }
   ],
   "source": [
    "train0 = pl.read_parquet(os.path.join(SAVE_PATH, \"train_0.parquet\"), n_rows=1000)\n",
    "train0"
   ]
  },
  {
   "cell_type": "markdown",
   "metadata": {},
   "source": [
    "前処理してからシャッフルして10分割して保存"
   ]
  },
  {
   "cell_type": "code",
   "execution_count": 50,
   "metadata": {},
   "outputs": [
    {
     "name": "stdout",
     "output_type": "stream",
     "text": [
      "data saved to ../data/shuffled-dataset/train_0.parquet (9841561, 7)\n",
      "data saved to ../data/shuffled-dataset/train_1.parquet (9841561, 7)\n",
      "data saved to ../data/shuffled-dataset/train_2.parquet (9841561, 7)\n",
      "data saved to ../data/shuffled-dataset/train_3.parquet (9841561, 7)\n",
      "data saved to ../data/shuffled-dataset/train_4.parquet (9841561, 7)\n",
      "data saved to ../data/shuffled-dataset/train_5.parquet (9841561, 7)\n",
      "data saved to ../data/shuffled-dataset/train_6.parquet (9841561, 7)\n",
      "data saved to ../data/shuffled-dataset/train_7.parquet (9841561, 7)\n",
      "data saved to ../data/shuffled-dataset/train_8.parquet (9841561, 7)\n",
      "data saved to ../data/shuffled-dataset/train_9.parquet (9841561, 7)\n"
     ]
    }
   ],
   "source": [
    "n_rows = None\n",
    "train_raw = pl.read_parquet(os.path.join(RAW_DIR, \"train.parquet\"), n_rows=n_rows).to_pandas()\n",
    "\n",
    "train = train_raw[train_raw['protein_name']=='BRD4'].copy()\n",
    "train = train.drop(columns=['protein_name', \"binds\", \"id\"])\n",
    "train['bind1'] = train_raw[train_raw['protein_name']=='BRD4']['binds'].values\n",
    "train['bind2'] = train_raw[train_raw['protein_name']=='HSA']['binds'].values\n",
    "train['bind3'] = train_raw[train_raw['protein_name']=='sEH']['binds'].values\n",
    "# to polars\n",
    "train = pl.DataFrame(train)\n",
    "train = train.sample(fraction=1, seed=Config.SEED, shuffle=True)\n",
    "\n",
    "# 10分割して保存\n",
    "SAVE_PATH = \"../data/shuffled-dataset/\"\n",
    "n = 10\n",
    "chunk_size = len(train) // n\n",
    "for i in range(n):\n",
    "    chunk = train[i*chunk_size:(i+1)*chunk_size]\n",
    "    path = os.path.join(SAVE_PATH, f\"train_{i}.parquet\")\n",
    "    chunk.write_parquet(path)\n",
    "    print(f\"data saved to {path}\", chunk.shape)"
   ]
  },
  {
   "cell_type": "code",
   "execution_count": null,
   "metadata": {},
   "outputs": [],
   "source": []
  }
 ],
 "metadata": {
  "kernelspec": {
   "display_name": "Python 3",
   "language": "python",
   "name": "python3"
  },
  "language_info": {
   "codemirror_mode": {
    "name": "ipython",
    "version": 3
   },
   "file_extension": ".py",
   "mimetype": "text/x-python",
   "name": "python",
   "nbconvert_exporter": "python",
   "pygments_lexer": "ipython3",
   "version": "3.10.13"
  }
 },
 "nbformat": 4,
 "nbformat_minor": 2
}
