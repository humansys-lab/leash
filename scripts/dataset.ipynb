{
 "cells": [
  {
   "cell_type": "code",
   "execution_count": 1,
   "metadata": {},
   "outputs": [],
   "source": [
    "import gc\n",
    "import os\n",
    "import pickle\n",
    "import random\n",
    "import joblib\n",
    "import numpy as np\n",
    "import pandas as pd\n",
    "from tqdm import tqdm\n",
    "import polars as pl\n"
   ]
  },
  {
   "cell_type": "code",
   "execution_count": 2,
   "metadata": {},
   "outputs": [],
   "source": [
    "class Config:\n",
    "    PREPROCESS = False\n",
    "    KAGGLE_NOTEBOOK = False\n",
    "    DEBUG = True\n",
    "    \n",
    "    SEED = 42\n",
    "    EPOCHS = 5\n",
    "    BATCH_SIZE = 4096\n",
    "    LR = 1e-3\n",
    "    WD = 0.05\n",
    "    PATIENCE = 5\n",
    "    NBR_FOLDS = 15\n",
    "    SELECTED_FOLDS = [0]\n",
    "    \n",
    "    \n",
    "if Config.DEBUG:\n",
    "    n_rows = 10**3\n",
    "else:\n",
    "    n_rows = None\n",
    "    "
   ]
  },
  {
   "cell_type": "code",
   "execution_count": 3,
   "metadata": {},
   "outputs": [],
   "source": [
    "if Config.KAGGLE_NOTEBOOK:\n",
    "    RAW_DIR = \"/kaggle/input/leash-BELKA/\"\n",
    "    PROCESSED_DIR = \"/kaggle/input/belka-enc-dataset\"\n",
    "    OUTPUT_DIR = \"\"\n",
    "    MODEL_DIR = \"\"\n",
    "else:\n",
    "    RAW_DIR = \"../data/raw/\"\n",
    "    PROCESSED_DIR = \"../data/processed/\"\n",
    "    OUTPUT_DIR = \"../data/result/\"\n",
    "    MODEL_DIR = \"../models/\"\n",
    "\n",
    "TRAIN_DATA_NAME = \"local_train_enc.parquet\"\n",
    "SAVE_PATH = \"../data/chuncked-dataset/\""
   ]
  },
  {
   "cell_type": "markdown",
   "metadata": {},
   "source": [
    "データを10分割して保存"
   ]
  },
  {
   "cell_type": "code",
   "execution_count": null,
   "metadata": {},
   "outputs": [],
   "source": [
    "\n",
    "# split dataset to several parquet\n",
    "train = pl.read_parquet(os.path.join(PROCESSED_DIR, TRAIN_DATA_NAME), n_rows=None)\n",
    "\n",
    "# shuffle\n",
    "train = train.sample(fraction=1, seed=Config.SEED, shuffle=True)\n",
    "# trainを10分割して保存\n",
    "n = 10\n",
    "chunk_size = len(train) // n\n",
    "for i in range(n):\n",
    "    chunk = train[i*chunk_size:(i+1)*chunk_size]\n",
    "    chunk.write_parquet(os.path.join(SAVE_PATH, f\"local_train_enc_{i}.parquet\"))\n",
    "    "
   ]
  },
  {
   "cell_type": "markdown",
   "metadata": {},
   "source": [
    "マスクを保存"
   ]
  },
  {
   "cell_type": "code",
   "execution_count": 14,
   "metadata": {},
   "outputs": [],
   "source": [
    "FEATURES = [f'enc{i}' for i in range(142)]\n",
    "\n",
    "for i in range(10):\n",
    "    train = pl.read_parquet(os.path.join(SAVE_PATH, f\"local_train_enc_{i}.parquet\"), n_rows=None).to_pandas()\n",
    "    mask_df = (train.values > 0).astype(int)\n",
    "    mask_df = pd.DataFrame(mask_df, columns=train.columns)\n",
    "    mask_df = mask_df[FEATURES]\n",
    "    mask_df.to_parquet(os.path.join(SAVE_PATH, f\"local_train_mask_{i}.parquet\"))"
   ]
  },
  {
   "cell_type": "code",
   "execution_count": 4,
   "metadata": {},
   "outputs": [],
   "source": [
    "train = pl.read_parquet(os.path.join(SAVE_PATH, f\"local_train_enc_0.parquet\"), n_rows=1000).to_pandas()\n",
    "mask = pl.read_parquet(os.path.join(SAVE_PATH, f\"local_train_mask_0.parquet\"), n_rows=1000).to_pandas()"
   ]
  },
  {
   "cell_type": "code",
   "execution_count": 10,
   "metadata": {},
   "outputs": [
    {
     "data": {
      "text/plain": [
       "(Index(['enc0', 'enc1', 'enc2', 'enc3', 'enc4', 'enc5', 'enc6', 'enc7', 'enc8',\n",
       "        'enc9', 'enc10', 'enc11', 'enc12', 'enc13', 'enc14', 'enc15', 'enc16',\n",
       "        'enc17', 'enc18', 'enc19', 'enc20', 'enc21', 'enc22', 'enc23', 'enc24',\n",
       "        'enc25', 'enc26', 'enc27', 'enc28', 'enc29', 'enc30', 'enc31', 'enc32',\n",
       "        'enc33', 'enc34', 'enc35', 'enc36', 'enc37', 'enc38', 'enc39', 'enc40',\n",
       "        'enc41', 'enc42', 'enc43', 'enc44', 'enc45', 'enc46', 'enc47', 'enc48',\n",
       "        'enc49', 'enc50', 'enc51', 'enc52', 'enc53', 'enc54', 'enc55', 'enc56',\n",
       "        'enc57', 'enc58', 'enc59', 'enc60', 'enc61', 'enc62', 'enc63', 'enc64',\n",
       "        'enc65', 'enc66', 'enc67', 'enc68', 'enc69', 'enc70', 'enc71', 'enc72',\n",
       "        'enc73', 'enc74', 'enc75', 'enc76', 'enc77', 'enc78', 'enc79'],\n",
       "       dtype='object'),\n",
       " Index(['enc0', 'enc1', 'enc2', 'enc3', 'enc4', 'enc5', 'enc6', 'enc7', 'enc8',\n",
       "        'enc9', 'enc10', 'enc11', 'enc12', 'enc13', 'enc14', 'enc15', 'enc16',\n",
       "        'enc17', 'enc18', 'enc19', 'enc20', 'enc21', 'enc22', 'enc23', 'enc24',\n",
       "        'enc25', 'enc26', 'enc27', 'enc28', 'enc29', 'enc30', 'enc31', 'enc32',\n",
       "        'enc33', 'enc34', 'enc35', 'enc36', 'enc37', 'enc38', 'enc39', 'enc40',\n",
       "        'enc41', 'enc42', 'enc43', 'enc44', 'enc45', 'enc46', 'enc47', 'enc48',\n",
       "        'enc49', 'enc50', 'enc51', 'enc52', 'enc53', 'enc54', 'enc55', 'enc56',\n",
       "        'enc57', 'enc58', 'enc59', 'enc60', 'enc61', 'enc62', 'enc63', 'enc64',\n",
       "        'enc65', 'enc66', 'enc67', 'enc68', 'enc69', 'enc70', 'enc71', 'enc72',\n",
       "        'enc73', 'enc74', 'enc75', 'enc76', 'enc77', 'enc78', 'enc79'],\n",
       "       dtype='object'))"
      ]
     },
     "execution_count": 10,
     "metadata": {},
     "output_type": "execute_result"
    }
   ],
   "source": [
    "mask.loc[100][mask.loc[0] == 1].index, train.loc[100][train.loc[0] > 0].index"
   ]
  },
  {
   "cell_type": "markdown",
   "metadata": {},
   "source": [
    "生データを１０分割して保存"
   ]
  },
  {
   "cell_type": "code",
   "execution_count": 15,
   "metadata": {},
   "outputs": [],
   "source": [
    "train = pl.read_parquet(os.path.join(RAW_DIR, \"train.parquet\"), n_rows=None)"
   ]
  },
  {
   "cell_type": "code",
   "execution_count": 16,
   "metadata": {},
   "outputs": [],
   "source": [
    "# 10分割して保存\n",
    "SAVE_PATH = \"../data/chuncked-raw-dataset\"\n",
    "n = 10\n",
    "chunk_size = len(train) // n\n",
    "for i in range(n):\n",
    "    chunk = train[i*chunk_size:(i+1)*chunk_size]\n",
    "    path = os.path.join(SAVE_PATH, f\"train_{i}.parquet\")\n",
    "    chunk.write_parquet(path)\n",
    "    print(f\"data saved to {path}\", chunk.shape)"
   ]
  },
  {
   "cell_type": "code",
   "execution_count": 13,
   "metadata": {},
   "outputs": [
    {
     "data": {
      "text/html": [
       "<div><style>\n",
       ".dataframe > thead > tr,\n",
       ".dataframe > tbody > tr {\n",
       "  text-align: right;\n",
       "  white-space: pre-wrap;\n",
       "}\n",
       "</style>\n",
       "<small>shape: (100, 7)</small><table border=\"1\" class=\"dataframe\"><thead><tr><th>id</th><th>buildingblock1_smiles</th><th>buildingblock2_smiles</th><th>buildingblock3_smiles</th><th>molecule_smiles</th><th>protein_name</th><th>binds</th></tr><tr><td>i64</td><td>str</td><td>str</td><td>str</td><td>str</td><td>str</td><td>i64</td></tr></thead><tbody><tr><td>0</td><td>&quot;C#CC[C@@H](CC(=O)O)NC(=O)OCC1c…</td><td>&quot;C#CCOc1ccc(CN)cc1.Cl&quot;</td><td>&quot;Br.Br.NCC1CCCN1c1cccnn1&quot;</td><td>&quot;C#CCOc1ccc(CNc2nc(NCC3CCCN3c3c…</td><td>&quot;BRD4&quot;</td><td>0</td></tr><tr><td>1</td><td>&quot;C#CC[C@@H](CC(=O)O)NC(=O)OCC1c…</td><td>&quot;C#CCOc1ccc(CN)cc1.Cl&quot;</td><td>&quot;Br.Br.NCC1CCCN1c1cccnn1&quot;</td><td>&quot;C#CCOc1ccc(CNc2nc(NCC3CCCN3c3c…</td><td>&quot;HSA&quot;</td><td>0</td></tr><tr><td>2</td><td>&quot;C#CC[C@@H](CC(=O)O)NC(=O)OCC1c…</td><td>&quot;C#CCOc1ccc(CN)cc1.Cl&quot;</td><td>&quot;Br.Br.NCC1CCCN1c1cccnn1&quot;</td><td>&quot;C#CCOc1ccc(CNc2nc(NCC3CCCN3c3c…</td><td>&quot;sEH&quot;</td><td>0</td></tr><tr><td>3</td><td>&quot;C#CC[C@@H](CC(=O)O)NC(=O)OCC1c…</td><td>&quot;C#CCOc1ccc(CN)cc1.Cl&quot;</td><td>&quot;Br.NCc1cccc(Br)n1&quot;</td><td>&quot;C#CCOc1ccc(CNc2nc(NCc3cccc(Br)…</td><td>&quot;BRD4&quot;</td><td>0</td></tr><tr><td>4</td><td>&quot;C#CC[C@@H](CC(=O)O)NC(=O)OCC1c…</td><td>&quot;C#CCOc1ccc(CN)cc1.Cl&quot;</td><td>&quot;Br.NCc1cccc(Br)n1&quot;</td><td>&quot;C#CCOc1ccc(CNc2nc(NCc3cccc(Br)…</td><td>&quot;HSA&quot;</td><td>0</td></tr><tr><td>&hellip;</td><td>&hellip;</td><td>&hellip;</td><td>&hellip;</td><td>&hellip;</td><td>&hellip;</td><td>&hellip;</td></tr><tr><td>95</td><td>&quot;C#CC[C@@H](CC(=O)O)NC(=O)OCC1c…</td><td>&quot;C#CCOc1ccc(CN)cc1.Cl&quot;</td><td>&quot;CC1CC(CN)C(C)O1&quot;</td><td>&quot;C#CCOc1ccc(CNc2nc(NCC3CC(C)OC3…</td><td>&quot;sEH&quot;</td><td>0</td></tr><tr><td>96</td><td>&quot;C#CC[C@@H](CC(=O)O)NC(=O)OCC1c…</td><td>&quot;C#CCOc1ccc(CN)cc1.Cl&quot;</td><td>&quot;CC1CCc2nc(CN)sc2C1&quot;</td><td>&quot;C#CCOc1ccc(CNc2nc(NCc3nc4c(s3)…</td><td>&quot;BRD4&quot;</td><td>0</td></tr><tr><td>97</td><td>&quot;C#CC[C@@H](CC(=O)O)NC(=O)OCC1c…</td><td>&quot;C#CCOc1ccc(CN)cc1.Cl&quot;</td><td>&quot;CC1CCc2nc(CN)sc2C1&quot;</td><td>&quot;C#CCOc1ccc(CNc2nc(NCc3nc4c(s3)…</td><td>&quot;HSA&quot;</td><td>0</td></tr><tr><td>98</td><td>&quot;C#CC[C@@H](CC(=O)O)NC(=O)OCC1c…</td><td>&quot;C#CCOc1ccc(CN)cc1.Cl&quot;</td><td>&quot;CC1CCc2nc(CN)sc2C1&quot;</td><td>&quot;C#CCOc1ccc(CNc2nc(NCc3nc4c(s3)…</td><td>&quot;sEH&quot;</td><td>0</td></tr><tr><td>99</td><td>&quot;C#CC[C@@H](CC(=O)O)NC(=O)OCC1c…</td><td>&quot;C#CCOc1ccc(CN)cc1.Cl&quot;</td><td>&quot;CC1Cc2cc(CN)ccc2O1&quot;</td><td>&quot;C#CCOc1ccc(CNc2nc(NCc3ccc4c(c3…</td><td>&quot;BRD4&quot;</td><td>0</td></tr></tbody></table></div>"
      ],
      "text/plain": [
       "shape: (100, 7)\n",
       "┌─────┬─────────────────┬─────────────────┬────────────────┬────────────────┬──────────────┬───────┐\n",
       "│ id  ┆ buildingblock1_ ┆ buildingblock2_ ┆ buildingblock3 ┆ molecule_smile ┆ protein_name ┆ binds │\n",
       "│ --- ┆ smiles          ┆ smiles          ┆ _smiles        ┆ s              ┆ ---          ┆ ---   │\n",
       "│ i64 ┆ ---             ┆ ---             ┆ ---            ┆ ---            ┆ str          ┆ i64   │\n",
       "│     ┆ str             ┆ str             ┆ str            ┆ str            ┆              ┆       │\n",
       "╞═════╪═════════════════╪═════════════════╪════════════════╪════════════════╪══════════════╪═══════╡\n",
       "│ 0   ┆ C#CC[C@@H](CC(= ┆ C#CCOc1ccc(CN)c ┆ Br.Br.NCC1CCCN ┆ C#CCOc1ccc(CNc ┆ BRD4         ┆ 0     │\n",
       "│     ┆ O)O)NC(=O)OCC1c ┆ c1.Cl           ┆ 1c1cccnn1      ┆ 2nc(NCC3CCCN3c ┆              ┆       │\n",
       "│     ┆ …               ┆                 ┆                ┆ 3c…            ┆              ┆       │\n",
       "│ 1   ┆ C#CC[C@@H](CC(= ┆ C#CCOc1ccc(CN)c ┆ Br.Br.NCC1CCCN ┆ C#CCOc1ccc(CNc ┆ HSA          ┆ 0     │\n",
       "│     ┆ O)O)NC(=O)OCC1c ┆ c1.Cl           ┆ 1c1cccnn1      ┆ 2nc(NCC3CCCN3c ┆              ┆       │\n",
       "│     ┆ …               ┆                 ┆                ┆ 3c…            ┆              ┆       │\n",
       "│ 2   ┆ C#CC[C@@H](CC(= ┆ C#CCOc1ccc(CN)c ┆ Br.Br.NCC1CCCN ┆ C#CCOc1ccc(CNc ┆ sEH          ┆ 0     │\n",
       "│     ┆ O)O)NC(=O)OCC1c ┆ c1.Cl           ┆ 1c1cccnn1      ┆ 2nc(NCC3CCCN3c ┆              ┆       │\n",
       "│     ┆ …               ┆                 ┆                ┆ 3c…            ┆              ┆       │\n",
       "│ 3   ┆ C#CC[C@@H](CC(= ┆ C#CCOc1ccc(CN)c ┆ Br.NCc1cccc(Br ┆ C#CCOc1ccc(CNc ┆ BRD4         ┆ 0     │\n",
       "│     ┆ O)O)NC(=O)OCC1c ┆ c1.Cl           ┆ )n1            ┆ 2nc(NCc3cccc(B ┆              ┆       │\n",
       "│     ┆ …               ┆                 ┆                ┆ r)…            ┆              ┆       │\n",
       "│ 4   ┆ C#CC[C@@H](CC(= ┆ C#CCOc1ccc(CN)c ┆ Br.NCc1cccc(Br ┆ C#CCOc1ccc(CNc ┆ HSA          ┆ 0     │\n",
       "│     ┆ O)O)NC(=O)OCC1c ┆ c1.Cl           ┆ )n1            ┆ 2nc(NCc3cccc(B ┆              ┆       │\n",
       "│     ┆ …               ┆                 ┆                ┆ r)…            ┆              ┆       │\n",
       "│ …   ┆ …               ┆ …               ┆ …              ┆ …              ┆ …            ┆ …     │\n",
       "│ 95  ┆ C#CC[C@@H](CC(= ┆ C#CCOc1ccc(CN)c ┆ CC1CC(CN)C(C)O ┆ C#CCOc1ccc(CNc ┆ sEH          ┆ 0     │\n",
       "│     ┆ O)O)NC(=O)OCC1c ┆ c1.Cl           ┆ 1              ┆ 2nc(NCC3CC(C)O ┆              ┆       │\n",
       "│     ┆ …               ┆                 ┆                ┆ C3…            ┆              ┆       │\n",
       "│ 96  ┆ C#CC[C@@H](CC(= ┆ C#CCOc1ccc(CN)c ┆ CC1CCc2nc(CN)s ┆ C#CCOc1ccc(CNc ┆ BRD4         ┆ 0     │\n",
       "│     ┆ O)O)NC(=O)OCC1c ┆ c1.Cl           ┆ c2C1           ┆ 2nc(NCc3nc4c(s ┆              ┆       │\n",
       "│     ┆ …               ┆                 ┆                ┆ 3)…            ┆              ┆       │\n",
       "│ 97  ┆ C#CC[C@@H](CC(= ┆ C#CCOc1ccc(CN)c ┆ CC1CCc2nc(CN)s ┆ C#CCOc1ccc(CNc ┆ HSA          ┆ 0     │\n",
       "│     ┆ O)O)NC(=O)OCC1c ┆ c1.Cl           ┆ c2C1           ┆ 2nc(NCc3nc4c(s ┆              ┆       │\n",
       "│     ┆ …               ┆                 ┆                ┆ 3)…            ┆              ┆       │\n",
       "│ 98  ┆ C#CC[C@@H](CC(= ┆ C#CCOc1ccc(CN)c ┆ CC1CCc2nc(CN)s ┆ C#CCOc1ccc(CNc ┆ sEH          ┆ 0     │\n",
       "│     ┆ O)O)NC(=O)OCC1c ┆ c1.Cl           ┆ c2C1           ┆ 2nc(NCc3nc4c(s ┆              ┆       │\n",
       "│     ┆ …               ┆                 ┆                ┆ 3)…            ┆              ┆       │\n",
       "│ 99  ┆ C#CC[C@@H](CC(= ┆ C#CCOc1ccc(CN)c ┆ CC1Cc2cc(CN)cc ┆ C#CCOc1ccc(CNc ┆ BRD4         ┆ 0     │\n",
       "│     ┆ O)O)NC(=O)OCC1c ┆ c1.Cl           ┆ c2O1           ┆ 2nc(NCc3ccc4c( ┆              ┆       │\n",
       "│     ┆ …               ┆                 ┆                ┆ c3…            ┆              ┆       │\n",
       "└─────┴─────────────────┴─────────────────┴────────────────┴────────────────┴──────────────┴───────┘"
      ]
     },
     "execution_count": 13,
     "metadata": {},
     "output_type": "execute_result"
    }
   ],
   "source": [
    "train0 = pl.read_parquet(os.path.join(SAVE_PATH, \"train_0.parquet\"), n_rows=1000)\n",
    "train0"
   ]
  },
  {
   "cell_type": "markdown",
   "metadata": {},
   "source": [
    "前処理してからシャッフルして10分割して保存"
   ]
  },
  {
   "cell_type": "code",
   "execution_count": 50,
   "metadata": {},
   "outputs": [
    {
     "name": "stdout",
     "output_type": "stream",
     "text": [
      "data saved to ../data/shuffled-dataset/train_0.parquet (9841561, 7)\n",
      "data saved to ../data/shuffled-dataset/train_1.parquet (9841561, 7)\n",
      "data saved to ../data/shuffled-dataset/train_2.parquet (9841561, 7)\n",
      "data saved to ../data/shuffled-dataset/train_3.parquet (9841561, 7)\n",
      "data saved to ../data/shuffled-dataset/train_4.parquet (9841561, 7)\n",
      "data saved to ../data/shuffled-dataset/train_5.parquet (9841561, 7)\n",
      "data saved to ../data/shuffled-dataset/train_6.parquet (9841561, 7)\n",
      "data saved to ../data/shuffled-dataset/train_7.parquet (9841561, 7)\n",
      "data saved to ../data/shuffled-dataset/train_8.parquet (9841561, 7)\n",
      "data saved to ../data/shuffled-dataset/train_9.parquet (9841561, 7)\n"
     ]
    }
   ],
   "source": [
    "n_rows = None\n",
    "train_raw = pl.read_parquet(os.path.join(RAW_DIR, \"train.parquet\"), n_rows=n_rows).to_pandas()\n",
    "\n",
    "train = train_raw[train_raw['protein_name']=='BRD4'].copy()\n",
    "train = train.drop(columns=['protein_name', \"binds\", \"id\"])\n",
    "train['bind1'] = train_raw[train_raw['protein_name']=='BRD4']['binds'].values\n",
    "train['bind2'] = train_raw[train_raw['protein_name']=='HSA']['binds'].values\n",
    "train['bind3'] = train_raw[train_raw['protein_name']=='sEH']['binds'].values\n",
    "# to polars\n",
    "train = pl.DataFrame(train)\n",
    "train = train.sample(fraction=1, seed=Config.SEED, shuffle=True)\n",
    "\n",
    "# 10分割して保存\n",
    "SAVE_PATH = \"../data/shuffled-dataset/\"\n",
    "n = 10\n",
    "chunk_size = len(train) // n\n",
    "for i in range(n):\n",
    "    chunk = train[i*chunk_size:(i+1)*chunk_size]\n",
    "    path = os.path.join(SAVE_PATH, f\"train_{i}.parquet\")\n",
    "    chunk.write_parquet(path)\n",
    "    print(f\"data saved to {path}\", chunk.shape)"
   ]
  },
  {
   "cell_type": "code",
   "execution_count": 52,
   "metadata": {},
   "outputs": [
    {
     "data": {
      "text/html": [
       "<div><style>\n",
       ".dataframe > thead > tr,\n",
       ".dataframe > tbody > tr {\n",
       "  text-align: right;\n",
       "  white-space: pre-wrap;\n",
       "}\n",
       "</style>\n",
       "<small>shape: (1_000, 7)</small><table border=\"1\" class=\"dataframe\"><thead><tr><th>buildingblock1_smiles</th><th>buildingblock2_smiles</th><th>buildingblock3_smiles</th><th>molecule_smiles</th><th>bind1</th><th>bind2</th><th>bind3</th></tr><tr><td>str</td><td>str</td><td>str</td><td>str</td><td>i64</td><td>i64</td><td>i64</td></tr></thead><tbody><tr><td>&quot;O=C(N[C@H](Cc1ccc(F)c(F)c1)C(=…</td><td>&quot;Nc1ccc(OC(F)(F)F)c(Cl)c1&quot;</td><td>&quot;NCc1ccccc1CN1CCCC1=O&quot;</td><td>&quot;O=C(N[Dy])[C@@H](Cc1ccc(F)c(F)…</td><td>0</td><td>0</td><td>0</td></tr><tr><td>&quot;C=CC[C@H](NC(=O)OCC1c2ccccc2-c…</td><td>&quot;Cc1nccn1-c1ncccc1CN&quot;</td><td>&quot;Nc1ccc(N2CCOCC2=O)cc1&quot;</td><td>&quot;C=CC[C@H](Nc1nc(NCc2cccnc2-n2c…</td><td>0</td><td>0</td><td>0</td></tr><tr><td>&quot;O=C(Nc1cc(Cl)nc(C(=O)O)c1Cl)OC…</td><td>&quot;CS(=O)(=O)NC1CCCC1CN.Cl&quot;</td><td>&quot;NCC1(O)CCSC1&quot;</td><td>&quot;CS(=O)(=O)NC1CCCC1CNc1nc(NCC2(…</td><td>0</td><td>0</td><td>0</td></tr><tr><td>&quot;O=C(N[C@H](Cc1ccc(Cl)c(Cl)c1)C…</td><td>&quot;Nc1ccc([N+](=O)[O-])cn1&quot;</td><td>&quot;Nc1ccc2nccn2c1&quot;</td><td>&quot;O=C(N[Dy])[C@@H](Cc1ccc(Cl)c(C…</td><td>0</td><td>0</td><td>0</td></tr><tr><td>&quot;O=C(O)[C@@H]1Cc2ccccc2N1C(=O)O…</td><td>&quot;CN1CCO[C@@H](CN)[C@@H]1c1cnn(C…</td><td>&quot;Cc1cc(N)n[nH]1&quot;</td><td>&quot;Cc1cc(Nc2nc(NC[C@@H]3OCCN(C)[C…</td><td>0</td><td>0</td><td>0</td></tr><tr><td>&hellip;</td><td>&hellip;</td><td>&hellip;</td><td>&hellip;</td><td>&hellip;</td><td>&hellip;</td><td>&hellip;</td></tr><tr><td>&quot;Cc1ccc(C(CC(=O)O)NC(=O)OCC2c3c…</td><td>&quot;COC(=O)c1cccc(N)n1&quot;</td><td>&quot;COc1cc(C#N)c(F)cc1N&quot;</td><td>&quot;COC(=O)c1cccc(Nc2nc(Nc3cc(F)c(…</td><td>0</td><td>0</td><td>0</td></tr><tr><td>&quot;COc1cc(C(=O)O)c(N)cc1NC(=O)OCC…</td><td>&quot;Cl.Cl.NCCC(=O)Nc1ccncc1&quot;</td><td>&quot;COC(=O)c1cc(N)cs1&quot;</td><td>&quot;COC(=O)c1cc(Nc2nc(NCCC(=O)Nc3c…</td><td>0</td><td>0</td><td>0</td></tr><tr><td>&quot;O=C(Nc1ccc(C(=O)O)c(C(=O)O)c1)…</td><td>&quot;Nc1ccc(N2CCOCC2)c(F)c1&quot;</td><td>&quot;Nc1nccc(-c2cccnc2)n1&quot;</td><td>&quot;O=C(O)c1cc(Nc2nc(Nc3ccc(N4CCOC…</td><td>0</td><td>0</td><td>0</td></tr><tr><td>&quot;O=C(N[C@@H](Cc1cc(F)c(F)c(F)c1…</td><td>&quot;Nc1ccc2nccnc2c1Br&quot;</td><td>&quot;NCCc1ccncc1F&quot;</td><td>&quot;O=C(N[Dy])[C@H](Cc1cc(F)c(F)c(…</td><td>0</td><td>0</td><td>0</td></tr><tr><td>&quot;O=C(Nc1nc2ccc(C(=O)O)cc2s1)OCC…</td><td>&quot;Nc1nccc2cccnc12&quot;</td><td>&quot;CCOC(=O)c1cnc(N)[nH]1&quot;</td><td>&quot;CCOC(=O)c1cnc(Nc2nc(Nc3nc4ccc(…</td><td>0</td><td>0</td><td>0</td></tr></tbody></table></div>"
      ],
      "text/plain": [
       "shape: (1_000, 7)\n",
       "┌──────────────────┬──────────────────┬──────────────────┬─────────────────┬───────┬───────┬───────┐\n",
       "│ buildingblock1_s ┆ buildingblock2_s ┆ buildingblock3_s ┆ molecule_smiles ┆ bind1 ┆ bind2 ┆ bind3 │\n",
       "│ miles            ┆ miles            ┆ miles            ┆ ---             ┆ ---   ┆ ---   ┆ ---   │\n",
       "│ ---              ┆ ---              ┆ ---              ┆ str             ┆ i64   ┆ i64   ┆ i64   │\n",
       "│ str              ┆ str              ┆ str              ┆                 ┆       ┆       ┆       │\n",
       "╞══════════════════╪══════════════════╪══════════════════╪═════════════════╪═══════╪═══════╪═══════╡\n",
       "│ O=C(N[C@H](Cc1cc ┆ Nc1ccc(OC(F)(F)F ┆ NCc1ccccc1CN1CCC ┆ O=C(N[Dy])[C@@H ┆ 0     ┆ 0     ┆ 0     │\n",
       "│ c(F)c(F)c1)C(=…  ┆ )c(Cl)c1         ┆ C1=O             ┆ ](Cc1ccc(F)c(F) ┆       ┆       ┆       │\n",
       "│                  ┆                  ┆                  ┆ …               ┆       ┆       ┆       │\n",
       "│ C=CC[C@H](NC(=O) ┆ Cc1nccn1-c1ncccc ┆ Nc1ccc(N2CCOCC2= ┆ C=CC[C@H](Nc1nc ┆ 0     ┆ 0     ┆ 0     │\n",
       "│ OCC1c2ccccc2-c…  ┆ 1CN              ┆ O)cc1            ┆ (NCc2cccnc2-n2c ┆       ┆       ┆       │\n",
       "│                  ┆                  ┆                  ┆ …               ┆       ┆       ┆       │\n",
       "│ O=C(Nc1cc(Cl)nc( ┆ CS(=O)(=O)NC1CCC ┆ NCC1(O)CCSC1     ┆ CS(=O)(=O)NC1CC ┆ 0     ┆ 0     ┆ 0     │\n",
       "│ C(=O)O)c1Cl)OC…  ┆ C1CN.Cl          ┆                  ┆ CC1CNc1nc(NCC2( ┆       ┆       ┆       │\n",
       "│                  ┆                  ┆                  ┆ …               ┆       ┆       ┆       │\n",
       "│ O=C(N[C@H](Cc1cc ┆ Nc1ccc([N+](=O)[ ┆ Nc1ccc2nccn2c1   ┆ O=C(N[Dy])[C@@H ┆ 0     ┆ 0     ┆ 0     │\n",
       "│ c(Cl)c(Cl)c1)C…  ┆ O-])cn1          ┆                  ┆ ](Cc1ccc(Cl)c(C ┆       ┆       ┆       │\n",
       "│                  ┆                  ┆                  ┆ …               ┆       ┆       ┆       │\n",
       "│ O=C(O)[C@@H]1Cc2 ┆ CN1CCO[C@@H](CN) ┆ Cc1cc(N)n[nH]1   ┆ Cc1cc(Nc2nc(NC[ ┆ 0     ┆ 0     ┆ 0     │\n",
       "│ ccccc2N1C(=O)O…  ┆ [C@@H]1c1cnn(C…  ┆                  ┆ C@@H]3OCCN(C)[C ┆       ┆       ┆       │\n",
       "│                  ┆                  ┆                  ┆ …               ┆       ┆       ┆       │\n",
       "│ …                ┆ …                ┆ …                ┆ …               ┆ …     ┆ …     ┆ …     │\n",
       "│ Cc1ccc(C(CC(=O)O ┆ COC(=O)c1cccc(N) ┆ COc1cc(C#N)c(F)c ┆ COC(=O)c1cccc(N ┆ 0     ┆ 0     ┆ 0     │\n",
       "│ )NC(=O)OCC2c3c…  ┆ n1               ┆ c1N              ┆ c2nc(Nc3cc(F)c( ┆       ┆       ┆       │\n",
       "│                  ┆                  ┆                  ┆ …               ┆       ┆       ┆       │\n",
       "│ COc1cc(C(=O)O)c( ┆ Cl.Cl.NCCC(=O)Nc ┆ COC(=O)c1cc(N)cs ┆ COC(=O)c1cc(Nc2 ┆ 0     ┆ 0     ┆ 0     │\n",
       "│ N)cc1NC(=O)OCC…  ┆ 1ccncc1          ┆ 1                ┆ nc(NCCC(=O)Nc3c ┆       ┆       ┆       │\n",
       "│                  ┆                  ┆                  ┆ …               ┆       ┆       ┆       │\n",
       "│ O=C(Nc1ccc(C(=O) ┆ Nc1ccc(N2CCOCC2) ┆ Nc1nccc(-c2cccnc ┆ O=C(O)c1cc(Nc2n ┆ 0     ┆ 0     ┆ 0     │\n",
       "│ O)c(C(=O)O)c1)…  ┆ c(F)c1           ┆ 2)n1             ┆ c(Nc3ccc(N4CCOC ┆       ┆       ┆       │\n",
       "│                  ┆                  ┆                  ┆ …               ┆       ┆       ┆       │\n",
       "│ O=C(N[C@@H](Cc1c ┆ Nc1ccc2nccnc2c1B ┆ NCCc1ccncc1F     ┆ O=C(N[Dy])[C@H] ┆ 0     ┆ 0     ┆ 0     │\n",
       "│ c(F)c(F)c(F)c1…  ┆ r                ┆                  ┆ (Cc1cc(F)c(F)c( ┆       ┆       ┆       │\n",
       "│                  ┆                  ┆                  ┆ …               ┆       ┆       ┆       │\n",
       "│ O=C(Nc1nc2ccc(C( ┆ Nc1nccc2cccnc12  ┆ CCOC(=O)c1cnc(N) ┆ CCOC(=O)c1cnc(N ┆ 0     ┆ 0     ┆ 0     │\n",
       "│ =O)O)cc2s1)OCC…  ┆                  ┆ [nH]1            ┆ c2nc(Nc3nc4ccc( ┆       ┆       ┆       │\n",
       "│                  ┆                  ┆                  ┆ …               ┆       ┆       ┆       │\n",
       "└──────────────────┴──────────────────┴──────────────────┴─────────────────┴───────┴───────┴───────┘"
      ]
     },
     "execution_count": 52,
     "metadata": {},
     "output_type": "execute_result"
    }
   ],
   "source": [
    "train = pl.read_parquet(os.path.join(SAVE_PATH, \"train_0.parquet\"), n_rows=1000)\n",
    "train"
   ]
  },
  {
   "cell_type": "code",
   "execution_count": 54,
   "metadata": {},
   "outputs": [
    {
     "data": {
      "text/html": [
       "<div><style>\n",
       ".dataframe > thead > tr,\n",
       ".dataframe > tbody > tr {\n",
       "  text-align: right;\n",
       "  white-space: pre-wrap;\n",
       "}\n",
       "</style>\n",
       "<small>shape: (1_000, 7)</small><table border=\"1\" class=\"dataframe\"><thead><tr><th>buildingblock1_smiles</th><th>buildingblock2_smiles</th><th>buildingblock3_smiles</th><th>molecule_smiles</th><th>bind1</th><th>bind2</th><th>bind3</th></tr><tr><td>str</td><td>str</td><td>str</td><td>str</td><td>i64</td><td>i64</td><td>i64</td></tr></thead><tbody><tr><td>&quot;O=C(N[C@@H](Cc1ccc([N+](=O)[O-…</td><td>&quot;Nc1ccc2c(c1)OCCCO2&quot;</td><td>&quot;NCc1cn(C(F)F)c2ccccc12&quot;</td><td>&quot;O=C(N[Dy])[C@H](Cc1ccc([N+](=O…</td><td>0</td><td>0</td><td>0</td></tr><tr><td>&quot;O=C(Nc1ccc(Br)cc1C(=O)O)OCC1c2…</td><td>&quot;Cl.Cl.NCCc1nnc2c(=O)[nH]ccn12&quot;</td><td>&quot;Nc1cc[nH]c(=O)c1&quot;</td><td>&quot;O=C(N[Dy])c1cc(Br)ccc1Nc1nc(NC…</td><td>0</td><td>0</td><td>0</td></tr><tr><td>&quot;Cc1ccc(C(=O)O)cc1NC(=O)OCC1c2c…</td><td>&quot;Cc1cc(Cl)nnc1N&quot;</td><td>&quot;CS(=O)(=O)c1ccc(N)cc1&quot;</td><td>&quot;Cc1ccc(C(=O)N[Dy])cc1Nc1nc(Nc2…</td><td>0</td><td>0</td><td>0</td></tr><tr><td>&quot;O=C(O)COC[C@H]1CCCN1C(=O)OCC1c…</td><td>&quot;CCOC(=O)c1cnc(N)cn1&quot;</td><td>&quot;CN1CCN(CCN)CC1&quot;</td><td>&quot;CCOC(=O)c1cnc(Nc2nc(NCCN3CCN(C…</td><td>0</td><td>0</td><td>0</td></tr><tr><td>&quot;O=C(Nc1ccc(C(=O)O)c(C(=O)O)c1)…</td><td>&quot;Nc1nc(-c2cccc([N+](=O)[O-])c2)…</td><td>&quot;COc1ccncc1CN&quot;</td><td>&quot;COc1ccncc1CNc1nc(Nc2ccc(C(=O)N…</td><td>0</td><td>0</td><td>0</td></tr><tr><td>&hellip;</td><td>&hellip;</td><td>&hellip;</td><td>&hellip;</td><td>&hellip;</td><td>&hellip;</td><td>&hellip;</td></tr><tr><td>&quot;O=C(O)C[C@@H](Cc1cccs1)NC(=O)O…</td><td>&quot;Cl.NCc1nnc2ncccn12&quot;</td><td>&quot;Cl.NCC1CCCC2(CCC2)C1O&quot;</td><td>&quot;O=C(C[C@@H](Cc1cccs1)Nc1nc(NCc…</td><td>0</td><td>0</td><td>0</td></tr><tr><td>&quot;O=C(O)C[C@H]1CCCN1C(=O)OCC1c2c…</td><td>&quot;Cc1sc(C)c(CN)c1Br.Cl&quot;</td><td>&quot;CC(CN)S(C)=O&quot;</td><td>&quot;Cc1sc(C)c(CNc2nc(NCC(C)S(C)=O)…</td><td>0</td><td>0</td><td>0</td></tr><tr><td>&quot;Cc1cc(Br)cc(C(=O)O)c1NC(=O)OCC…</td><td>&quot;Cl.NCC1CC(C(N)=O)=NO1&quot;</td><td>&quot;CN1CCN(Cc2ccc(N)cc2C(F)(F)F)CC…</td><td>&quot;Cc1cc(Br)cc(C(=O)N[Dy])c1Nc1nc…</td><td>0</td><td>0</td><td>0</td></tr><tr><td>&quot;O=C(Nc1ccnc(C(=O)O)c1)OCC1c2cc…</td><td>&quot;Nc1cc(Br)ccn1&quot;</td><td>&quot;NCC1CN2CCN1CC2&quot;</td><td>&quot;O=C(N[Dy])c1cc(Nc2nc(NCC3CN4CC…</td><td>0</td><td>0</td><td>0</td></tr><tr><td>&quot;O=C(N[C@@H]1CC[C@H](C(=O)O)C1)…</td><td>&quot;N#Cc1cccc(N)n1&quot;</td><td>&quot;Cc1cn(-c2cc(N)cc(C(F)(F)F)c2)c…</td><td>&quot;Cc1cn(-c2cc(Nc3nc(Nc4cccc(C#N)…</td><td>0</td><td>0</td><td>0</td></tr></tbody></table></div>"
      ],
      "text/plain": [
       "shape: (1_000, 7)\n",
       "┌──────────────────┬──────────────────┬──────────────────┬─────────────────┬───────┬───────┬───────┐\n",
       "│ buildingblock1_s ┆ buildingblock2_s ┆ buildingblock3_s ┆ molecule_smiles ┆ bind1 ┆ bind2 ┆ bind3 │\n",
       "│ miles            ┆ miles            ┆ miles            ┆ ---             ┆ ---   ┆ ---   ┆ ---   │\n",
       "│ ---              ┆ ---              ┆ ---              ┆ str             ┆ i64   ┆ i64   ┆ i64   │\n",
       "│ str              ┆ str              ┆ str              ┆                 ┆       ┆       ┆       │\n",
       "╞══════════════════╪══════════════════╪══════════════════╪═════════════════╪═══════╪═══════╪═══════╡\n",
       "│ O=C(N[C@@H](Cc1c ┆ Nc1ccc2c(c1)OCCC ┆ NCc1cn(C(F)F)c2c ┆ O=C(N[Dy])[C@H] ┆ 0     ┆ 0     ┆ 0     │\n",
       "│ cc([N+](=O)[O-…  ┆ O2               ┆ cccc12           ┆ (Cc1ccc([N+](=O ┆       ┆       ┆       │\n",
       "│                  ┆                  ┆                  ┆ …               ┆       ┆       ┆       │\n",
       "│ O=C(Nc1ccc(Br)cc ┆ Cl.Cl.NCCc1nnc2c ┆ Nc1cc[nH]c(=O)c1 ┆ O=C(N[Dy])c1cc( ┆ 0     ┆ 0     ┆ 0     │\n",
       "│ 1C(=O)O)OCC1c2…  ┆ (=O)[nH]ccn12    ┆                  ┆ Br)ccc1Nc1nc(NC ┆       ┆       ┆       │\n",
       "│                  ┆                  ┆                  ┆ …               ┆       ┆       ┆       │\n",
       "│ Cc1ccc(C(=O)O)cc ┆ Cc1cc(Cl)nnc1N   ┆ CS(=O)(=O)c1ccc( ┆ Cc1ccc(C(=O)N[D ┆ 0     ┆ 0     ┆ 0     │\n",
       "│ 1NC(=O)OCC1c2c…  ┆                  ┆ N)cc1            ┆ y])cc1Nc1nc(Nc2 ┆       ┆       ┆       │\n",
       "│                  ┆                  ┆                  ┆ …               ┆       ┆       ┆       │\n",
       "│ O=C(O)COC[C@H]1C ┆ CCOC(=O)c1cnc(N) ┆ CN1CCN(CCN)CC1   ┆ CCOC(=O)c1cnc(N ┆ 0     ┆ 0     ┆ 0     │\n",
       "│ CCN1C(=O)OCC1c…  ┆ cn1              ┆                  ┆ c2nc(NCCN3CCN(C ┆       ┆       ┆       │\n",
       "│                  ┆                  ┆                  ┆ …               ┆       ┆       ┆       │\n",
       "│ O=C(Nc1ccc(C(=O) ┆ Nc1nc(-c2cccc([N ┆ COc1ccncc1CN     ┆ COc1ccncc1CNc1n ┆ 0     ┆ 0     ┆ 0     │\n",
       "│ O)c(C(=O)O)c1)…  ┆ +](=O)[O-])c2)…  ┆                  ┆ c(Nc2ccc(C(=O)N ┆       ┆       ┆       │\n",
       "│                  ┆                  ┆                  ┆ …               ┆       ┆       ┆       │\n",
       "│ …                ┆ …                ┆ …                ┆ …               ┆ …     ┆ …     ┆ …     │\n",
       "│ O=C(O)C[C@@H](Cc ┆ Cl.NCc1nnc2ncccn ┆ Cl.NCC1CCCC2(CCC ┆ O=C(C[C@@H](Cc1 ┆ 0     ┆ 0     ┆ 0     │\n",
       "│ 1cccs1)NC(=O)O…  ┆ 12               ┆ 2)C1O            ┆ cccs1)Nc1nc(NCc ┆       ┆       ┆       │\n",
       "│                  ┆                  ┆                  ┆ …               ┆       ┆       ┆       │\n",
       "│ O=C(O)C[C@H]1CCC ┆ Cc1sc(C)c(CN)c1B ┆ CC(CN)S(C)=O     ┆ Cc1sc(C)c(CNc2n ┆ 0     ┆ 0     ┆ 0     │\n",
       "│ N1C(=O)OCC1c2c…  ┆ r.Cl             ┆                  ┆ c(NCC(C)S(C)=O) ┆       ┆       ┆       │\n",
       "│                  ┆                  ┆                  ┆ …               ┆       ┆       ┆       │\n",
       "│ Cc1cc(Br)cc(C(=O ┆ Cl.NCC1CC(C(N)=O ┆ CN1CCN(Cc2ccc(N) ┆ Cc1cc(Br)cc(C(= ┆ 0     ┆ 0     ┆ 0     │\n",
       "│ )O)c1NC(=O)OCC…  ┆ )=NO1            ┆ cc2C(F)(F)F)CC…  ┆ O)N[Dy])c1Nc1nc ┆       ┆       ┆       │\n",
       "│                  ┆                  ┆                  ┆ …               ┆       ┆       ┆       │\n",
       "│ O=C(Nc1ccnc(C(=O ┆ Nc1cc(Br)ccn1    ┆ NCC1CN2CCN1CC2   ┆ O=C(N[Dy])c1cc( ┆ 0     ┆ 0     ┆ 0     │\n",
       "│ )O)c1)OCC1c2cc…  ┆                  ┆                  ┆ Nc2nc(NCC3CN4CC ┆       ┆       ┆       │\n",
       "│                  ┆                  ┆                  ┆ …               ┆       ┆       ┆       │\n",
       "│ O=C(N[C@@H]1CC[C ┆ N#Cc1cccc(N)n1   ┆ Cc1cn(-c2cc(N)cc ┆ Cc1cn(-c2cc(Nc3 ┆ 0     ┆ 0     ┆ 0     │\n",
       "│ @H](C(=O)O)C1)…  ┆                  ┆ (C(F)(F)F)c2)c…  ┆ nc(Nc4cccc(C#N) ┆       ┆       ┆       │\n",
       "│                  ┆                  ┆                  ┆ …               ┆       ┆       ┆       │\n",
       "└──────────────────┴──────────────────┴──────────────────┴─────────────────┴───────┴───────┴───────┘"
      ]
     },
     "execution_count": 54,
     "metadata": {},
     "output_type": "execute_result"
    }
   ],
   "source": [
    "train = pl.read_parquet(os.path.join(SAVE_PATH, \"train_1.parquet\"), n_rows=1000)\n",
    "train"
   ]
  },
  {
   "cell_type": "code",
   "execution_count": null,
   "metadata": {},
   "outputs": [],
   "source": []
  }
 ],
 "metadata": {
  "kernelspec": {
   "display_name": "Python 3",
   "language": "python",
   "name": "python3"
  },
  "language_info": {
   "codemirror_mode": {
    "name": "ipython",
    "version": 3
   },
   "file_extension": ".py",
   "mimetype": "text/x-python",
   "name": "python",
   "nbconvert_exporter": "python",
   "pygments_lexer": "ipython3",
   "version": "3.10.13"
  }
 },
 "nbformat": 4,
 "nbformat_minor": 2
}
