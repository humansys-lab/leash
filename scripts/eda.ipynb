{
 "cells": [
  {
   "cell_type": "code",
   "execution_count": 4,
   "metadata": {},
   "outputs": [],
   "source": [
    "import gc\n",
    "import os\n",
    "import pickle\n",
    "import random\n",
    "import joblib\n",
    "import numpy as np\n",
    "import pandas as pd\n",
    "from tqdm import tqdm\n",
    "from sklearn.model_selection import StratifiedKFold\n",
    "from sklearn.metrics import average_precision_score as APS\n",
    "import polars as pl\n",
    "\n",
    "import gc\n",
    "import os\n",
    "import pickle\n",
    "import random\n",
    "import joblib\n",
    "import pandas as pd\n",
    "# import polars as pd\n",
    "from tqdm import tqdm\n",
    "\n",
    "import torch\n",
    "import torch.nn as nn\n",
    "import torch.optim as optim\n",
    "from torch.utils.data import DataLoader, TensorDataset\n",
    "from sklearn.model_selection import StratifiedKFold\n",
    "import numpy as np\n"
   ]
  },
  {
   "cell_type": "code",
   "execution_count": 5,
   "metadata": {},
   "outputs": [],
   "source": [
    "class Config:\n",
    "    PREPROCESS = False\n",
    "    KAGGLE_NOTEBOOK = False\n",
    "    DEBUG = True\n",
    "    \n",
    "    SEED = 42\n",
    "    EPOCHS = 5\n",
    "    BATCH_SIZE = 4096\n",
    "    LR = 1e-3\n",
    "    WD = 0.05\n",
    "    PATIENCE = 5\n",
    "    DEVICE = 'cuda' if torch.cuda.is_available() else 'cpu'\n",
    "    NBR_FOLDS = 15\n",
    "    SELECTED_FOLDS = [0]\n",
    "    \n",
    "    "
   ]
  },
  {
   "cell_type": "code",
   "execution_count": 6,
   "metadata": {},
   "outputs": [],
   "source": [
    "if Config.KAGGLE_NOTEBOOK:\n",
    "    RAW_DIR = \"/kaggle/input/leash-BELKA/\"\n",
    "    PROCESSED_DIR = \"/kaggle/input/belka-enc-dataset\"\n",
    "    OUTPUT_DIR = \"\"\n",
    "    MODEL_DIR = \"\"\n",
    "else:\n",
    "    RAW_DIR = \"../data/raw/\"\n",
    "    PROCESSED_DIR = \"../data/processed/\"\n",
    "    OUTPUT_DIR = \"../data/result/\"\n",
    "    MODEL_DIR = \"../models/\""
   ]
  },
  {
   "cell_type": "code",
   "execution_count": 8,
   "metadata": {},
   "outputs": [],
   "source": [
    "train = pl.read_parquet(os.path.join(RAW_DIR, \"train.parquet\"), n_rows=10000)\n",
    "test = pl.read_parquet(os.path.join(RAW_DIR, \"test.parquet\"), n_rows=10000)"
   ]
  },
  {
   "cell_type": "code",
   "execution_count": 13,
   "metadata": {},
   "outputs": [
    {
     "data": {
      "text/html": [
       "<div><style>\n",
       ".dataframe > thead > tr,\n",
       ".dataframe > tbody > tr {\n",
       "  text-align: right;\n",
       "  white-space: pre-wrap;\n",
       "}\n",
       "</style>\n",
       "<small>shape: (5, 7)</small><table border=\"1\" class=\"dataframe\"><thead><tr><th>id</th><th>buildingblock1_smiles</th><th>buildingblock2_smiles</th><th>buildingblock3_smiles</th><th>molecule_smiles</th><th>protein_name</th><th>binds</th></tr><tr><td>i64</td><td>str</td><td>str</td><td>str</td><td>str</td><td>str</td><td>i64</td></tr></thead><tbody><tr><td>0</td><td>&quot;C#CC[C@@H](CC(=O)O)NC(=O)OCC1c…</td><td>&quot;C#CCOc1ccc(CN)cc1.Cl&quot;</td><td>&quot;Br.Br.NCC1CCCN1c1cccnn1&quot;</td><td>&quot;C#CCOc1ccc(CNc2nc(NCC3CCCN3c3c…</td><td>&quot;BRD4&quot;</td><td>0</td></tr><tr><td>1</td><td>&quot;C#CC[C@@H](CC(=O)O)NC(=O)OCC1c…</td><td>&quot;C#CCOc1ccc(CN)cc1.Cl&quot;</td><td>&quot;Br.Br.NCC1CCCN1c1cccnn1&quot;</td><td>&quot;C#CCOc1ccc(CNc2nc(NCC3CCCN3c3c…</td><td>&quot;HSA&quot;</td><td>0</td></tr><tr><td>2</td><td>&quot;C#CC[C@@H](CC(=O)O)NC(=O)OCC1c…</td><td>&quot;C#CCOc1ccc(CN)cc1.Cl&quot;</td><td>&quot;Br.Br.NCC1CCCN1c1cccnn1&quot;</td><td>&quot;C#CCOc1ccc(CNc2nc(NCC3CCCN3c3c…</td><td>&quot;sEH&quot;</td><td>0</td></tr><tr><td>3</td><td>&quot;C#CC[C@@H](CC(=O)O)NC(=O)OCC1c…</td><td>&quot;C#CCOc1ccc(CN)cc1.Cl&quot;</td><td>&quot;Br.NCc1cccc(Br)n1&quot;</td><td>&quot;C#CCOc1ccc(CNc2nc(NCc3cccc(Br)…</td><td>&quot;BRD4&quot;</td><td>0</td></tr><tr><td>4</td><td>&quot;C#CC[C@@H](CC(=O)O)NC(=O)OCC1c…</td><td>&quot;C#CCOc1ccc(CN)cc1.Cl&quot;</td><td>&quot;Br.NCc1cccc(Br)n1&quot;</td><td>&quot;C#CCOc1ccc(CNc2nc(NCc3cccc(Br)…</td><td>&quot;HSA&quot;</td><td>0</td></tr></tbody></table></div>"
      ],
      "text/plain": [
       "shape: (5, 7)\n",
       "┌─────┬─────────────────┬─────────────────┬────────────────┬────────────────┬──────────────┬───────┐\n",
       "│ id  ┆ buildingblock1_ ┆ buildingblock2_ ┆ buildingblock3 ┆ molecule_smile ┆ protein_name ┆ binds │\n",
       "│ --- ┆ smiles          ┆ smiles          ┆ _smiles        ┆ s              ┆ ---          ┆ ---   │\n",
       "│ i64 ┆ ---             ┆ ---             ┆ ---            ┆ ---            ┆ str          ┆ i64   │\n",
       "│     ┆ str             ┆ str             ┆ str            ┆ str            ┆              ┆       │\n",
       "╞═════╪═════════════════╪═════════════════╪════════════════╪════════════════╪══════════════╪═══════╡\n",
       "│ 0   ┆ C#CC[C@@H](CC(= ┆ C#CCOc1ccc(CN)c ┆ Br.Br.NCC1CCCN ┆ C#CCOc1ccc(CNc ┆ BRD4         ┆ 0     │\n",
       "│     ┆ O)O)NC(=O)OCC1c ┆ c1.Cl           ┆ 1c1cccnn1      ┆ 2nc(NCC3CCCN3c ┆              ┆       │\n",
       "│     ┆ …               ┆                 ┆                ┆ 3c…            ┆              ┆       │\n",
       "│ 1   ┆ C#CC[C@@H](CC(= ┆ C#CCOc1ccc(CN)c ┆ Br.Br.NCC1CCCN ┆ C#CCOc1ccc(CNc ┆ HSA          ┆ 0     │\n",
       "│     ┆ O)O)NC(=O)OCC1c ┆ c1.Cl           ┆ 1c1cccnn1      ┆ 2nc(NCC3CCCN3c ┆              ┆       │\n",
       "│     ┆ …               ┆                 ┆                ┆ 3c…            ┆              ┆       │\n",
       "│ 2   ┆ C#CC[C@@H](CC(= ┆ C#CCOc1ccc(CN)c ┆ Br.Br.NCC1CCCN ┆ C#CCOc1ccc(CNc ┆ sEH          ┆ 0     │\n",
       "│     ┆ O)O)NC(=O)OCC1c ┆ c1.Cl           ┆ 1c1cccnn1      ┆ 2nc(NCC3CCCN3c ┆              ┆       │\n",
       "│     ┆ …               ┆                 ┆                ┆ 3c…            ┆              ┆       │\n",
       "│ 3   ┆ C#CC[C@@H](CC(= ┆ C#CCOc1ccc(CN)c ┆ Br.NCc1cccc(Br ┆ C#CCOc1ccc(CNc ┆ BRD4         ┆ 0     │\n",
       "│     ┆ O)O)NC(=O)OCC1c ┆ c1.Cl           ┆ )n1            ┆ 2nc(NCc3cccc(B ┆              ┆       │\n",
       "│     ┆ …               ┆                 ┆                ┆ r)…            ┆              ┆       │\n",
       "│ 4   ┆ C#CC[C@@H](CC(= ┆ C#CCOc1ccc(CN)c ┆ Br.NCc1cccc(Br ┆ C#CCOc1ccc(CNc ┆ HSA          ┆ 0     │\n",
       "│     ┆ O)O)NC(=O)OCC1c ┆ c1.Cl           ┆ )n1            ┆ 2nc(NCc3cccc(B ┆              ┆       │\n",
       "│     ┆ …               ┆                 ┆                ┆ r)…            ┆              ┆       │\n",
       "└─────┴─────────────────┴─────────────────┴────────────────┴────────────────┴──────────────┴───────┘"
      ]
     },
     "execution_count": 13,
     "metadata": {},
     "output_type": "execute_result"
    }
   ],
   "source": [
    "# 先頭のみ表示\n",
    "train.head()"
   ]
  },
  {
   "cell_type": "code",
   "execution_count": 14,
   "metadata": {},
   "outputs": [
    {
     "data": {
      "text/html": [
       "<div><style>\n",
       ".dataframe > thead > tr,\n",
       ".dataframe > tbody > tr {\n",
       "  text-align: right;\n",
       "  white-space: pre-wrap;\n",
       "}\n",
       "</style>\n",
       "<small>shape: (5, 6)</small><table border=\"1\" class=\"dataframe\"><thead><tr><th>id</th><th>buildingblock1_smiles</th><th>buildingblock2_smiles</th><th>buildingblock3_smiles</th><th>molecule_smiles</th><th>protein_name</th></tr><tr><td>i64</td><td>str</td><td>str</td><td>str</td><td>str</td><td>str</td></tr></thead><tbody><tr><td>295246830</td><td>&quot;C#CCCC[C@H](NC(=O)OCC1c2ccccc2…</td><td>&quot;C=Cc1ccc(N)cc1&quot;</td><td>&quot;C=Cc1ccc(N)cc1&quot;</td><td>&quot;C#CCCC[C@H](Nc1nc(Nc2ccc(C=C)c…</td><td>&quot;BRD4&quot;</td></tr><tr><td>295246831</td><td>&quot;C#CCCC[C@H](NC(=O)OCC1c2ccccc2…</td><td>&quot;C=Cc1ccc(N)cc1&quot;</td><td>&quot;C=Cc1ccc(N)cc1&quot;</td><td>&quot;C#CCCC[C@H](Nc1nc(Nc2ccc(C=C)c…</td><td>&quot;HSA&quot;</td></tr><tr><td>295246832</td><td>&quot;C#CCCC[C@H](NC(=O)OCC1c2ccccc2…</td><td>&quot;C=Cc1ccc(N)cc1&quot;</td><td>&quot;C=Cc1ccc(N)cc1&quot;</td><td>&quot;C#CCCC[C@H](Nc1nc(Nc2ccc(C=C)c…</td><td>&quot;sEH&quot;</td></tr><tr><td>295246833</td><td>&quot;C#CCCC[C@H](NC(=O)OCC1c2ccccc2…</td><td>&quot;C=Cc1ccc(N)cc1&quot;</td><td>&quot;CC(O)Cn1cnc2c(N)ncnc21&quot;</td><td>&quot;C#CCCC[C@H](Nc1nc(Nc2ccc(C=C)c…</td><td>&quot;BRD4&quot;</td></tr><tr><td>295246834</td><td>&quot;C#CCCC[C@H](NC(=O)OCC1c2ccccc2…</td><td>&quot;C=Cc1ccc(N)cc1&quot;</td><td>&quot;CC(O)Cn1cnc2c(N)ncnc21&quot;</td><td>&quot;C#CCCC[C@H](Nc1nc(Nc2ccc(C=C)c…</td><td>&quot;HSA&quot;</td></tr></tbody></table></div>"
      ],
      "text/plain": [
       "shape: (5, 6)\n",
       "┌───────────┬─────────────────┬─────────────────┬─────────────────┬─────────────────┬──────────────┐\n",
       "│ id        ┆ buildingblock1_ ┆ buildingblock2_ ┆ buildingblock3_ ┆ molecule_smiles ┆ protein_name │\n",
       "│ ---       ┆ smiles          ┆ smiles          ┆ smiles          ┆ ---             ┆ ---          │\n",
       "│ i64       ┆ ---             ┆ ---             ┆ ---             ┆ str             ┆ str          │\n",
       "│           ┆ str             ┆ str             ┆ str             ┆                 ┆              │\n",
       "╞═══════════╪═════════════════╪═════════════════╪═════════════════╪═════════════════╪══════════════╡\n",
       "│ 295246830 ┆ C#CCCC[C@H](NC( ┆ C=Cc1ccc(N)cc1  ┆ C=Cc1ccc(N)cc1  ┆ C#CCCC[C@H](Nc1 ┆ BRD4         │\n",
       "│           ┆ =O)OCC1c2ccccc2 ┆                 ┆                 ┆ nc(Nc2ccc(C=C)c ┆              │\n",
       "│           ┆ …               ┆                 ┆                 ┆ …               ┆              │\n",
       "│ 295246831 ┆ C#CCCC[C@H](NC( ┆ C=Cc1ccc(N)cc1  ┆ C=Cc1ccc(N)cc1  ┆ C#CCCC[C@H](Nc1 ┆ HSA          │\n",
       "│           ┆ =O)OCC1c2ccccc2 ┆                 ┆                 ┆ nc(Nc2ccc(C=C)c ┆              │\n",
       "│           ┆ …               ┆                 ┆                 ┆ …               ┆              │\n",
       "│ 295246832 ┆ C#CCCC[C@H](NC( ┆ C=Cc1ccc(N)cc1  ┆ C=Cc1ccc(N)cc1  ┆ C#CCCC[C@H](Nc1 ┆ sEH          │\n",
       "│           ┆ =O)OCC1c2ccccc2 ┆                 ┆                 ┆ nc(Nc2ccc(C=C)c ┆              │\n",
       "│           ┆ …               ┆                 ┆                 ┆ …               ┆              │\n",
       "│ 295246833 ┆ C#CCCC[C@H](NC( ┆ C=Cc1ccc(N)cc1  ┆ CC(O)Cn1cnc2c(N ┆ C#CCCC[C@H](Nc1 ┆ BRD4         │\n",
       "│           ┆ =O)OCC1c2ccccc2 ┆                 ┆ )ncnc21         ┆ nc(Nc2ccc(C=C)c ┆              │\n",
       "│           ┆ …               ┆                 ┆                 ┆ …               ┆              │\n",
       "│ 295246834 ┆ C#CCCC[C@H](NC( ┆ C=Cc1ccc(N)cc1  ┆ CC(O)Cn1cnc2c(N ┆ C#CCCC[C@H](Nc1 ┆ HSA          │\n",
       "│           ┆ =O)OCC1c2ccccc2 ┆                 ┆ )ncnc21         ┆ nc(Nc2ccc(C=C)c ┆              │\n",
       "│           ┆ …               ┆                 ┆                 ┆ …               ┆              │\n",
       "└───────────┴─────────────────┴─────────────────┴─────────────────┴─────────────────┴──────────────┘"
      ]
     },
     "execution_count": 14,
     "metadata": {},
     "output_type": "execute_result"
    }
   ],
   "source": [
    "test.head()"
   ]
  },
  {
   "cell_type": "code",
   "execution_count": null,
   "metadata": {},
   "outputs": [],
   "source": []
  }
 ],
 "metadata": {
  "kernelspec": {
   "display_name": "base",
   "language": "python",
   "name": "python3"
  },
  "language_info": {
   "codemirror_mode": {
    "name": "ipython",
    "version": 3
   },
   "file_extension": ".py",
   "mimetype": "text/x-python",
   "name": "python",
   "nbconvert_exporter": "python",
   "pygments_lexer": "ipython3",
   "version": "3.10.13"
  }
 },
 "nbformat": 4,
 "nbformat_minor": 2
}
