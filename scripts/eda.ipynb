{
 "cells": [
  {
   "cell_type": "code",
   "execution_count": 1,
   "metadata": {},
   "outputs": [],
   "source": [
    "import gc\n",
    "import os\n",
    "import pickle\n",
    "import random\n",
    "import joblib\n",
    "import numpy as np\n",
    "import pandas as pd\n",
    "from tqdm import tqdm\n",
    "from sklearn.model_selection import StratifiedKFold\n",
    "from sklearn.metrics import average_precision_score as APS\n",
    "import polars as pl\n",
    "\n",
    "import gc\n",
    "import os\n",
    "import pickle\n",
    "import random\n",
    "import joblib\n",
    "import pandas as pd\n",
    "# import polars as pd\n",
    "from tqdm import tqdm\n",
    "\n",
    "import torch\n",
    "import torch.nn as nn\n",
    "import torch.optim as optim\n",
    "from torch.utils.data import DataLoader, TensorDataset\n",
    "from sklearn.model_selection import StratifiedKFold\n",
    "import numpy as np\n"
   ]
  },
  {
   "cell_type": "code",
   "execution_count": 2,
   "metadata": {},
   "outputs": [],
   "source": [
    "class Config:\n",
    "    PREPROCESS = False\n",
    "    KAGGLE_NOTEBOOK = False\n",
    "    DEBUG = True\n",
    "    \n",
    "    SEED = 42\n",
    "    EPOCHS = 5\n",
    "    BATCH_SIZE = 4096\n",
    "    LR = 1e-3\n",
    "    WD = 0.05\n",
    "    PATIENCE = 5\n",
    "    DEVICE = 'cuda' if torch.cuda.is_available() else 'cpu'\n",
    "    NBR_FOLDS = 15\n",
    "    SELECTED_FOLDS = [0]\n",
    "    \n",
    "    "
   ]
  },
  {
   "cell_type": "code",
   "execution_count": 3,
   "metadata": {},
   "outputs": [],
   "source": [
    "if Config.KAGGLE_NOTEBOOK:\n",
    "    RAW_DIR = \"/kaggle/input/leash-BELKA/\"\n",
    "    PROCESSED_DIR = \"/kaggle/input/belka-enc-dataset\"\n",
    "    OUTPUT_DIR = \"\"\n",
    "    MODEL_DIR = \"\"\n",
    "else:\n",
    "    RAW_DIR = \"../data/raw/\"\n",
    "    PROCESSED_DIR = \"../data/processed/\"\n",
    "    OUTPUT_DIR = \"../data/result/\"\n",
    "    MODEL_DIR = \"../models/\""
   ]
  },
  {
   "cell_type": "code",
   "execution_count": 35,
   "metadata": {},
   "outputs": [],
   "source": [
    "# h100 なら全部読み込める 300M行\n",
    "train = pl.read_parquet(os.path.join(PROCESSED_DIR, \"train_enc.parquet\"))\n"
   ]
  },
  {
   "cell_type": "code",
   "execution_count": 43,
   "metadata": {},
   "outputs": [
    {
     "data": {
      "text/html": [
       "<div><style>\n",
       ".dataframe > thead > tr,\n",
       ".dataframe > tbody > tr {\n",
       "  text-align: right;\n",
       "  white-space: pre-wrap;\n",
       "}\n",
       "</style>\n",
       "<small>shape: (98_415_610, 145)</small><table border=\"1\" class=\"dataframe\"><thead><tr><th>enc0</th><th>enc1</th><th>enc2</th><th>enc3</th><th>enc4</th><th>enc5</th><th>enc6</th><th>enc7</th><th>enc8</th><th>enc9</th><th>enc10</th><th>enc11</th><th>enc12</th><th>enc13</th><th>enc14</th><th>enc15</th><th>enc16</th><th>enc17</th><th>enc18</th><th>enc19</th><th>enc20</th><th>enc21</th><th>enc22</th><th>enc23</th><th>enc24</th><th>enc25</th><th>enc26</th><th>enc27</th><th>enc28</th><th>enc29</th><th>enc30</th><th>enc31</th><th>enc32</th><th>enc33</th><th>enc34</th><th>enc35</th><th>enc36</th><th>&hellip;</th><th>enc108</th><th>enc109</th><th>enc110</th><th>enc111</th><th>enc112</th><th>enc113</th><th>enc114</th><th>enc115</th><th>enc116</th><th>enc117</th><th>enc118</th><th>enc119</th><th>enc120</th><th>enc121</th><th>enc122</th><th>enc123</th><th>enc124</th><th>enc125</th><th>enc126</th><th>enc127</th><th>enc128</th><th>enc129</th><th>enc130</th><th>enc131</th><th>enc132</th><th>enc133</th><th>enc134</th><th>enc135</th><th>enc136</th><th>enc137</th><th>enc138</th><th>enc139</th><th>enc140</th><th>enc141</th><th>bind1</th><th>bind2</th><th>bind3</th></tr><tr><td>u8</td><td>u8</td><td>u8</td><td>u8</td><td>u8</td><td>u8</td><td>u8</td><td>u8</td><td>u8</td><td>u8</td><td>u8</td><td>u8</td><td>u8</td><td>u8</td><td>u8</td><td>u8</td><td>u8</td><td>u8</td><td>u8</td><td>u8</td><td>u8</td><td>u8</td><td>u8</td><td>u8</td><td>u8</td><td>u8</td><td>u8</td><td>u8</td><td>u8</td><td>u8</td><td>u8</td><td>u8</td><td>u8</td><td>u8</td><td>u8</td><td>u8</td><td>u8</td><td>&hellip;</td><td>u8</td><td>u8</td><td>u8</td><td>u8</td><td>u8</td><td>u8</td><td>u8</td><td>u8</td><td>u8</td><td>u8</td><td>u8</td><td>u8</td><td>u8</td><td>u8</td><td>u8</td><td>u8</td><td>u8</td><td>u8</td><td>u8</td><td>u8</td><td>u8</td><td>u8</td><td>u8</td><td>u8</td><td>u8</td><td>u8</td><td>u8</td><td>u8</td><td>u8</td><td>u8</td><td>u8</td><td>u8</td><td>u8</td><td>u8</td><td>i64</td><td>i64</td><td>i64</td></tr></thead><tbody><tr><td>28</td><td>26</td><td>8</td><td>17</td><td>33</td><td>29</td><td>30</td><td>2</td><td>32</td><td>19</td><td>29</td><td>8</td><td>3</td><td>3</td><td>5</td><td>32</td><td>17</td><td>8</td><td>12</td><td>27</td><td>12</td><td>12</td><td>12</td><td>17</td><td>7</td><td>19</td><td>12</td><td>17</td><td>7</td><td>19</td><td>12</td><td>27</td><td>19</td><td>33</td><td>12</td><td>27</td><td>35</td><td>&hellip;</td><td>0</td><td>0</td><td>0</td><td>0</td><td>0</td><td>0</td><td>0</td><td>0</td><td>0</td><td>0</td><td>0</td><td>0</td><td>0</td><td>0</td><td>0</td><td>0</td><td>0</td><td>0</td><td>0</td><td>0</td><td>0</td><td>0</td><td>0</td><td>0</td><td>0</td><td>0</td><td>0</td><td>0</td><td>0</td><td>0</td><td>0</td><td>0</td><td>0</td><td>0</td><td>0</td><td>0</td><td>0</td></tr><tr><td>8</td><td>26</td><td>8</td><td>8</td><td>29</td><td>8</td><td>3</td><td>5</td><td>32</td><td>17</td><td>33</td><td>12</td><td>27</td><td>35</td><td>12</td><td>17</td><td>33</td><td>8</td><td>12</td><td>18</td><td>12</td><td>12</td><td>12</td><td>35</td><td>12</td><td>18</td><td>36</td><td>35</td><td>18</td><td>12</td><td>12</td><td>35</td><td>12</td><td>18</td><td>8</td><td>19</td><td>35</td><td>&hellip;</td><td>0</td><td>0</td><td>0</td><td>0</td><td>0</td><td>0</td><td>0</td><td>0</td><td>0</td><td>0</td><td>0</td><td>0</td><td>0</td><td>0</td><td>0</td><td>0</td><td>0</td><td>0</td><td>0</td><td>0</td><td>0</td><td>0</td><td>0</td><td>0</td><td>0</td><td>0</td><td>0</td><td>0</td><td>0</td><td>0</td><td>0</td><td>0</td><td>0</td><td>0</td><td>0</td><td>0</td><td>0</td></tr><tr><td>8</td><td>6</td><td>17</td><td>26</td><td>28</td><td>19</td><td>17</td><td>26</td><td>28</td><td>19</td><td>33</td><td>8</td><td>27</td><td>8</td><td>8</td><td>8</td><td>8</td><td>27</td><td>8</td><td>33</td><td>12</td><td>27</td><td>35</td><td>12</td><td>17</td><td>33</td><td>8</td><td>8</td><td>18</td><td>17</td><td>28</td><td>19</td><td>8</td><td>8</td><td>6</td><td>8</td><td>18</td><td>&hellip;</td><td>0</td><td>0</td><td>0</td><td>0</td><td>0</td><td>0</td><td>0</td><td>0</td><td>0</td><td>0</td><td>0</td><td>0</td><td>0</td><td>0</td><td>0</td><td>0</td><td>0</td><td>0</td><td>0</td><td>0</td><td>0</td><td>0</td><td>0</td><td>0</td><td>0</td><td>0</td><td>0</td><td>0</td><td>0</td><td>0</td><td>0</td><td>0</td><td>0</td><td>0</td><td>0</td><td>0</td><td>0</td></tr><tr><td>28</td><td>26</td><td>8</td><td>17</td><td>33</td><td>29</td><td>30</td><td>2</td><td>32</td><td>19</td><td>29</td><td>8</td><td>3</td><td>3</td><td>5</td><td>32</td><td>17</td><td>8</td><td>12</td><td>27</td><td>12</td><td>12</td><td>12</td><td>17</td><td>8</td><td>1</td><td>19</td><td>12</td><td>17</td><td>8</td><td>1</td><td>19</td><td>12</td><td>27</td><td>19</td><td>33</td><td>12</td><td>&hellip;</td><td>0</td><td>0</td><td>0</td><td>0</td><td>0</td><td>0</td><td>0</td><td>0</td><td>0</td><td>0</td><td>0</td><td>0</td><td>0</td><td>0</td><td>0</td><td>0</td><td>0</td><td>0</td><td>0</td><td>0</td><td>0</td><td>0</td><td>0</td><td>0</td><td>0</td><td>0</td><td>0</td><td>0</td><td>0</td><td>0</td><td>0</td><td>0</td><td>0</td><td>0</td><td>0</td><td>0</td><td>0</td></tr><tr><td>8</td><td>12</td><td>27</td><td>12</td><td>12</td><td>17</td><td>33</td><td>12</td><td>18</td><td>35</td><td>12</td><td>17</td><td>33</td><td>8</td><td>29</td><td>8</td><td>3</td><td>3</td><td>5</td><td>32</td><td>4</td><td>28</td><td>8</td><td>8</td><td>33</td><td>17</td><td>8</td><td>19</td><td>29</td><td>8</td><td>3</td><td>5</td><td>32</td><td>4</td><td>12</td><td>4</td><td>12</td><td>&hellip;</td><td>0</td><td>0</td><td>0</td><td>0</td><td>0</td><td>0</td><td>0</td><td>0</td><td>0</td><td>0</td><td>0</td><td>0</td><td>0</td><td>0</td><td>0</td><td>0</td><td>0</td><td>0</td><td>0</td><td>0</td><td>0</td><td>0</td><td>0</td><td>0</td><td>0</td><td>0</td><td>0</td><td>0</td><td>0</td><td>0</td><td>0</td><td>0</td><td>0</td><td>0</td><td>0</td><td>0</td><td>0</td></tr><tr><td>&hellip;</td><td>&hellip;</td><td>&hellip;</td><td>&hellip;</td><td>&hellip;</td><td>&hellip;</td><td>&hellip;</td><td>&hellip;</td><td>&hellip;</td><td>&hellip;</td><td>&hellip;</td><td>&hellip;</td><td>&hellip;</td><td>&hellip;</td><td>&hellip;</td><td>&hellip;</td><td>&hellip;</td><td>&hellip;</td><td>&hellip;</td><td>&hellip;</td><td>&hellip;</td><td>&hellip;</td><td>&hellip;</td><td>&hellip;</td><td>&hellip;</td><td>&hellip;</td><td>&hellip;</td><td>&hellip;</td><td>&hellip;</td><td>&hellip;</td><td>&hellip;</td><td>&hellip;</td><td>&hellip;</td><td>&hellip;</td><td>&hellip;</td><td>&hellip;</td><td>&hellip;</td><td>&hellip;</td><td>&hellip;</td><td>&hellip;</td><td>&hellip;</td><td>&hellip;</td><td>&hellip;</td><td>&hellip;</td><td>&hellip;</td><td>&hellip;</td><td>&hellip;</td><td>&hellip;</td><td>&hellip;</td><td>&hellip;</td><td>&hellip;</td><td>&hellip;</td><td>&hellip;</td><td>&hellip;</td><td>&hellip;</td><td>&hellip;</td><td>&hellip;</td><td>&hellip;</td><td>&hellip;</td><td>&hellip;</td><td>&hellip;</td><td>&hellip;</td><td>&hellip;</td><td>&hellip;</td><td>&hellip;</td><td>&hellip;</td><td>&hellip;</td><td>&hellip;</td><td>&hellip;</td><td>&hellip;</td><td>&hellip;</td><td>&hellip;</td><td>&hellip;</td><td>&hellip;</td><td>&hellip;</td></tr><tr><td>8</td><td>33</td><td>27</td><td>8</td><td>8</td><td>33</td><td>17</td><td>8</td><td>12</td><td>18</td><td>12</td><td>12</td><td>12</td><td>17</td><td>33</td><td>12</td><td>4</td><td>35</td><td>12</td><td>17</td><td>33</td><td>8</td><td>8</td><td>25</td><td>17</td><td>12</td><td>16</td><td>12</td><td>12</td><td>12</td><td>17</td><td>8</td><td>1</td><td>19</td><td>12</td><td>12</td><td>16</td><td>&hellip;</td><td>0</td><td>0</td><td>0</td><td>0</td><td>0</td><td>0</td><td>0</td><td>0</td><td>0</td><td>0</td><td>0</td><td>0</td><td>0</td><td>0</td><td>0</td><td>0</td><td>0</td><td>0</td><td>0</td><td>0</td><td>0</td><td>0</td><td>0</td><td>0</td><td>0</td><td>0</td><td>0</td><td>0</td><td>0</td><td>0</td><td>0</td><td>0</td><td>0</td><td>0</td><td>0</td><td>0</td><td>0</td></tr><tr><td>8</td><td>12</td><td>27</td><td>12</td><td>12</td><td>12</td><td>12</td><td>18</td><td>13</td><td>12</td><td>17</td><td>8</td><td>8</td><td>33</td><td>12</td><td>4</td><td>35</td><td>12</td><td>17</td><td>33</td><td>8</td><td>8</td><td>8</td><td>33</td><td>25</td><td>8</td><td>8</td><td>33</td><td>8</td><td>17</td><td>26</td><td>28</td><td>19</td><td>8</td><td>25</td><td>19</td><td>35</td><td>&hellip;</td><td>0</td><td>0</td><td>0</td><td>0</td><td>0</td><td>0</td><td>0</td><td>0</td><td>0</td><td>0</td><td>0</td><td>0</td><td>0</td><td>0</td><td>0</td><td>0</td><td>0</td><td>0</td><td>0</td><td>0</td><td>0</td><td>0</td><td>0</td><td>0</td><td>0</td><td>0</td><td>0</td><td>0</td><td>0</td><td>0</td><td>0</td><td>0</td><td>0</td><td>0</td><td>0</td><td>0</td><td>0</td></tr><tr><td>8</td><td>8</td><td>28</td><td>8</td><td>17</td><td>26</td><td>28</td><td>19</td><td>12</td><td>27</td><td>35</td><td>12</td><td>12</td><td>12</td><td>12</td><td>27</td><td>33</td><td>12</td><td>27</td><td>35</td><td>12</td><td>17</td><td>33</td><td>12</td><td>18</td><td>12</td><td>12</td><td>12</td><td>4</td><td>35</td><td>12</td><td>12</td><td>35</td><td>12</td><td>4</td><td>12</td><td>18</td><td>&hellip;</td><td>0</td><td>0</td><td>0</td><td>0</td><td>0</td><td>0</td><td>0</td><td>0</td><td>0</td><td>0</td><td>0</td><td>0</td><td>0</td><td>0</td><td>0</td><td>0</td><td>0</td><td>0</td><td>0</td><td>0</td><td>0</td><td>0</td><td>0</td><td>0</td><td>0</td><td>0</td><td>0</td><td>0</td><td>0</td><td>0</td><td>0</td><td>0</td><td>0</td><td>0</td><td>0</td><td>0</td><td>0</td></tr><tr><td>28</td><td>26</td><td>8</td><td>27</td><td>8</td><td>8</td><td>8</td><td>17</td><td>33</td><td>12</td><td>18</td><td>35</td><td>12</td><td>17</td><td>33</td><td>8</td><td>12</td><td>4</td><td>12</td><td>12</td><td>12</td><td>25</td><td>12</td><td>12</td><td>12</td><td>12</td><td>12</td><td>25</td><td>35</td><td>4</td><td>19</td><td>35</td><td>12</td><td>17</td><td>33</td><td>29</td><td>8</td><td>&hellip;</td><td>0</td><td>0</td><td>0</td><td>0</td><td>0</td><td>0</td><td>0</td><td>0</td><td>0</td><td>0</td><td>0</td><td>0</td><td>0</td><td>0</td><td>0</td><td>0</td><td>0</td><td>0</td><td>0</td><td>0</td><td>0</td><td>0</td><td>0</td><td>0</td><td>0</td><td>0</td><td>0</td><td>0</td><td>0</td><td>0</td><td>0</td><td>0</td><td>0</td><td>0</td><td>0</td><td>0</td><td>0</td></tr><tr><td>8</td><td>28</td><td>8</td><td>17</td><td>8</td><td>19</td><td>17</td><td>8</td><td>8</td><td>33</td><td>12</td><td>27</td><td>35</td><td>12</td><td>17</td><td>33</td><td>8</td><td>8</td><td>6</td><td>17</td><td>26</td><td>28</td><td>19</td><td>17</td><td>26</td><td>28</td><td>19</td><td>8</td><td>18</td><td>8</td><td>8</td><td>28</td><td>8</td><td>8</td><td>18</td><td>19</td><td>35</td><td>&hellip;</td><td>0</td><td>0</td><td>0</td><td>0</td><td>0</td><td>0</td><td>0</td><td>0</td><td>0</td><td>0</td><td>0</td><td>0</td><td>0</td><td>0</td><td>0</td><td>0</td><td>0</td><td>0</td><td>0</td><td>0</td><td>0</td><td>0</td><td>0</td><td>0</td><td>0</td><td>0</td><td>0</td><td>0</td><td>0</td><td>0</td><td>0</td><td>0</td><td>0</td><td>0</td><td>0</td><td>0</td><td>0</td></tr></tbody></table></div>"
      ],
      "text/plain": [
       "shape: (98_415_610, 145)\n",
       "┌──────┬──────┬──────┬──────┬───┬────────┬───────┬───────┬───────┐\n",
       "│ enc0 ┆ enc1 ┆ enc2 ┆ enc3 ┆ … ┆ enc141 ┆ bind1 ┆ bind2 ┆ bind3 │\n",
       "│ ---  ┆ ---  ┆ ---  ┆ ---  ┆   ┆ ---    ┆ ---   ┆ ---   ┆ ---   │\n",
       "│ u8   ┆ u8   ┆ u8   ┆ u8   ┆   ┆ u8     ┆ i64   ┆ i64   ┆ i64   │\n",
       "╞══════╪══════╪══════╪══════╪═══╪════════╪═══════╪═══════╪═══════╡\n",
       "│ 28   ┆ 26   ┆ 8    ┆ 17   ┆ … ┆ 0      ┆ 0     ┆ 0     ┆ 0     │\n",
       "│ 8    ┆ 26   ┆ 8    ┆ 8    ┆ … ┆ 0      ┆ 0     ┆ 0     ┆ 0     │\n",
       "│ 8    ┆ 6    ┆ 17   ┆ 26   ┆ … ┆ 0      ┆ 0     ┆ 0     ┆ 0     │\n",
       "│ 28   ┆ 26   ┆ 8    ┆ 17   ┆ … ┆ 0      ┆ 0     ┆ 0     ┆ 0     │\n",
       "│ 8    ┆ 12   ┆ 27   ┆ 12   ┆ … ┆ 0      ┆ 0     ┆ 0     ┆ 0     │\n",
       "│ …    ┆ …    ┆ …    ┆ …    ┆ … ┆ …      ┆ …     ┆ …     ┆ …     │\n",
       "│ 8    ┆ 33   ┆ 27   ┆ 8    ┆ … ┆ 0      ┆ 0     ┆ 0     ┆ 0     │\n",
       "│ 8    ┆ 12   ┆ 27   ┆ 12   ┆ … ┆ 0      ┆ 0     ┆ 0     ┆ 0     │\n",
       "│ 8    ┆ 8    ┆ 28   ┆ 8    ┆ … ┆ 0      ┆ 0     ┆ 0     ┆ 0     │\n",
       "│ 28   ┆ 26   ┆ 8    ┆ 27   ┆ … ┆ 0      ┆ 0     ┆ 0     ┆ 0     │\n",
       "│ 8    ┆ 28   ┆ 8    ┆ 17   ┆ … ┆ 0      ┆ 0     ┆ 0     ┆ 0     │\n",
       "└──────┴──────┴──────┴──────┴───┴────────┴───────┴───────┴───────┘"
      ]
     },
     "execution_count": 43,
     "metadata": {},
     "output_type": "execute_result"
    }
   ],
   "source": [
    "# shuffle in polars\n",
    "train.sample(n=len(train),seed=Config.SEED, shuffle=True)"
   ]
  },
  {
   "cell_type": "code",
   "execution_count": 48,
   "metadata": {},
   "outputs": [],
   "source": [
    "# get rows of wcich bind1 is 1 or bind2 is 1\n",
    "train_binder= train.filter((pl.col(\"bind1\") == 1) | (pl.col(\"bind2\") == 1) | (pl.col(\"bind3\") == 1))"
   ]
  },
  {
   "cell_type": "code",
   "execution_count": 50,
   "metadata": {},
   "outputs": [],
   "source": [
    "# get only rows of which bind1, bind2, bind3 are all 0, n_rows = 1000\n",
    "train_unbinder= train.filter((pl.col(\"bind1\") == 0) & (pl.col(\"bind2\") == 0) & (pl.col(\"bind3\") == 0)).head(len(train_binder))"
   ]
  },
  {
   "cell_type": "code",
   "execution_count": 53,
   "metadata": {},
   "outputs": [],
   "source": [
    "train_balanced = train_binder.vstack(train_unbinder)\n",
    "train_balanced = train_balanced.sample(n=len(train_balanced),seed=Config.SEED, shuffle=True)\n",
    "# save\n",
    "train_balanced.write_parquet(os.path.join(PROCESSED_DIR, \"train_enc_balanced.parquet\"))"
   ]
  },
  {
   "cell_type": "code",
   "execution_count": 54,
   "metadata": {},
   "outputs": [
    {
     "data": {
      "text/html": [
       "<div><style>\n",
       ".dataframe > thead > tr,\n",
       ".dataframe > tbody > tr {\n",
       "  text-align: right;\n",
       "  white-space: pre-wrap;\n",
       "}\n",
       "</style>\n",
       "<small>shape: (3_019_558, 145)</small><table border=\"1\" class=\"dataframe\"><thead><tr><th>enc0</th><th>enc1</th><th>enc2</th><th>enc3</th><th>enc4</th><th>enc5</th><th>enc6</th><th>enc7</th><th>enc8</th><th>enc9</th><th>enc10</th><th>enc11</th><th>enc12</th><th>enc13</th><th>enc14</th><th>enc15</th><th>enc16</th><th>enc17</th><th>enc18</th><th>enc19</th><th>enc20</th><th>enc21</th><th>enc22</th><th>enc23</th><th>enc24</th><th>enc25</th><th>enc26</th><th>enc27</th><th>enc28</th><th>enc29</th><th>enc30</th><th>enc31</th><th>enc32</th><th>enc33</th><th>enc34</th><th>enc35</th><th>enc36</th><th>&hellip;</th><th>enc108</th><th>enc109</th><th>enc110</th><th>enc111</th><th>enc112</th><th>enc113</th><th>enc114</th><th>enc115</th><th>enc116</th><th>enc117</th><th>enc118</th><th>enc119</th><th>enc120</th><th>enc121</th><th>enc122</th><th>enc123</th><th>enc124</th><th>enc125</th><th>enc126</th><th>enc127</th><th>enc128</th><th>enc129</th><th>enc130</th><th>enc131</th><th>enc132</th><th>enc133</th><th>enc134</th><th>enc135</th><th>enc136</th><th>enc137</th><th>enc138</th><th>enc139</th><th>enc140</th><th>enc141</th><th>bind1</th><th>bind2</th><th>bind3</th></tr><tr><td>u8</td><td>u8</td><td>u8</td><td>u8</td><td>u8</td><td>u8</td><td>u8</td><td>u8</td><td>u8</td><td>u8</td><td>u8</td><td>u8</td><td>u8</td><td>u8</td><td>u8</td><td>u8</td><td>u8</td><td>u8</td><td>u8</td><td>u8</td><td>u8</td><td>u8</td><td>u8</td><td>u8</td><td>u8</td><td>u8</td><td>u8</td><td>u8</td><td>u8</td><td>u8</td><td>u8</td><td>u8</td><td>u8</td><td>u8</td><td>u8</td><td>u8</td><td>u8</td><td>&hellip;</td><td>u8</td><td>u8</td><td>u8</td><td>u8</td><td>u8</td><td>u8</td><td>u8</td><td>u8</td><td>u8</td><td>u8</td><td>u8</td><td>u8</td><td>u8</td><td>u8</td><td>u8</td><td>u8</td><td>u8</td><td>u8</td><td>u8</td><td>u8</td><td>u8</td><td>u8</td><td>u8</td><td>u8</td><td>u8</td><td>u8</td><td>u8</td><td>u8</td><td>u8</td><td>u8</td><td>u8</td><td>u8</td><td>u8</td><td>u8</td><td>i64</td><td>i64</td><td>i64</td></tr></thead><tbody><tr><td>8</td><td>28</td><td>8</td><td>17</td><td>26</td><td>28</td><td>19</td><td>12</td><td>27</td><td>12</td><td>12</td><td>12</td><td>17</td><td>33</td><td>12</td><td>18</td><td>35</td><td>12</td><td>17</td><td>33</td><td>8</td><td>8</td><td>8</td><td>4</td><td>8</td><td>6</td><td>8</td><td>4</td><td>19</td><td>35</td><td>12</td><td>17</td><td>33</td><td>29</td><td>8</td><td>3</td><td>5</td><td>&hellip;</td><td>0</td><td>0</td><td>0</td><td>0</td><td>0</td><td>0</td><td>0</td><td>0</td><td>0</td><td>0</td><td>0</td><td>0</td><td>0</td><td>0</td><td>0</td><td>0</td><td>0</td><td>0</td><td>0</td><td>0</td><td>0</td><td>0</td><td>0</td><td>0</td><td>0</td><td>0</td><td>0</td><td>0</td><td>0</td><td>0</td><td>0</td><td>0</td><td>0</td><td>0</td><td>0</td><td>0</td><td>1</td></tr><tr><td>8</td><td>22</td><td>8</td><td>8</td><td>29</td><td>8</td><td>3</td><td>3</td><td>32</td><td>17</td><td>8</td><td>19</td><td>17</td><td>33</td><td>12</td><td>27</td><td>35</td><td>12</td><td>17</td><td>33</td><td>8</td><td>8</td><td>8</td><td>18</td><td>28</td><td>8</td><td>8</td><td>8</td><td>18</td><td>17</td><td>8</td><td>19</td><td>8</td><td>19</td><td>35</td><td>12</td><td>17</td><td>&hellip;</td><td>0</td><td>0</td><td>0</td><td>0</td><td>0</td><td>0</td><td>0</td><td>0</td><td>0</td><td>0</td><td>0</td><td>0</td><td>0</td><td>0</td><td>0</td><td>0</td><td>0</td><td>0</td><td>0</td><td>0</td><td>0</td><td>0</td><td>0</td><td>0</td><td>0</td><td>0</td><td>0</td><td>0</td><td>0</td><td>0</td><td>0</td><td>0</td><td>0</td><td>0</td><td>0</td><td>0</td><td>0</td></tr><tr><td>8</td><td>22</td><td>8</td><td>8</td><td>29</td><td>8</td><td>3</td><td>3</td><td>5</td><td>32</td><td>17</td><td>8</td><td>8</td><td>17</td><td>26</td><td>28</td><td>19</td><td>33</td><td>29</td><td>30</td><td>2</td><td>32</td><td>19</td><td>33</td><td>12</td><td>27</td><td>35</td><td>12</td><td>17</td><td>33</td><td>8</td><td>8</td><td>17</td><td>8</td><td>33</td><td>17</td><td>8</td><td>&hellip;</td><td>0</td><td>0</td><td>0</td><td>0</td><td>0</td><td>0</td><td>0</td><td>0</td><td>0</td><td>0</td><td>0</td><td>0</td><td>0</td><td>0</td><td>0</td><td>0</td><td>0</td><td>0</td><td>0</td><td>0</td><td>0</td><td>0</td><td>0</td><td>0</td><td>0</td><td>0</td><td>0</td><td>0</td><td>0</td><td>0</td><td>0</td><td>0</td><td>0</td><td>0</td><td>0</td><td>0</td><td>0</td></tr><tr><td>8</td><td>8</td><td>28</td><td>8</td><td>17</td><td>26</td><td>28</td><td>19</td><td>12</td><td>27</td><td>35</td><td>12</td><td>12</td><td>12</td><td>12</td><td>27</td><td>33</td><td>12</td><td>27</td><td>35</td><td>12</td><td>17</td><td>33</td><td>12</td><td>18</td><td>12</td><td>12</td><td>17</td><td>28</td><td>8</td><td>19</td><td>12</td><td>17</td><td>28</td><td>8</td><td>19</td><td>12</td><td>&hellip;</td><td>0</td><td>0</td><td>0</td><td>0</td><td>0</td><td>0</td><td>0</td><td>0</td><td>0</td><td>0</td><td>0</td><td>0</td><td>0</td><td>0</td><td>0</td><td>0</td><td>0</td><td>0</td><td>0</td><td>0</td><td>0</td><td>0</td><td>0</td><td>0</td><td>0</td><td>0</td><td>0</td><td>0</td><td>0</td><td>0</td><td>0</td><td>0</td><td>0</td><td>0</td><td>0</td><td>1</td><td>0</td></tr><tr><td>33</td><td>22</td><td>8</td><td>12</td><td>27</td><td>12</td><td>12</td><td>12</td><td>12</td><td>12</td><td>27</td><td>33</td><td>12</td><td>27</td><td>35</td><td>12</td><td>17</td><td>33</td><td>8</td><td>12</td><td>18</td><td>12</td><td>35</td><td>12</td><td>4</td><td>35</td><td>18</td><td>8</td><td>8</td><td>28</td><td>8</td><td>4</td><td>19</td><td>35</td><td>12</td><td>17</td><td>33</td><td>&hellip;</td><td>0</td><td>0</td><td>0</td><td>0</td><td>0</td><td>0</td><td>0</td><td>0</td><td>0</td><td>0</td><td>0</td><td>0</td><td>0</td><td>0</td><td>0</td><td>0</td><td>0</td><td>0</td><td>0</td><td>0</td><td>0</td><td>0</td><td>0</td><td>0</td><td>0</td><td>0</td><td>0</td><td>0</td><td>0</td><td>0</td><td>0</td><td>0</td><td>0</td><td>0</td><td>0</td><td>1</td><td>0</td></tr><tr><td>&hellip;</td><td>&hellip;</td><td>&hellip;</td><td>&hellip;</td><td>&hellip;</td><td>&hellip;</td><td>&hellip;</td><td>&hellip;</td><td>&hellip;</td><td>&hellip;</td><td>&hellip;</td><td>&hellip;</td><td>&hellip;</td><td>&hellip;</td><td>&hellip;</td><td>&hellip;</td><td>&hellip;</td><td>&hellip;</td><td>&hellip;</td><td>&hellip;</td><td>&hellip;</td><td>&hellip;</td><td>&hellip;</td><td>&hellip;</td><td>&hellip;</td><td>&hellip;</td><td>&hellip;</td><td>&hellip;</td><td>&hellip;</td><td>&hellip;</td><td>&hellip;</td><td>&hellip;</td><td>&hellip;</td><td>&hellip;</td><td>&hellip;</td><td>&hellip;</td><td>&hellip;</td><td>&hellip;</td><td>&hellip;</td><td>&hellip;</td><td>&hellip;</td><td>&hellip;</td><td>&hellip;</td><td>&hellip;</td><td>&hellip;</td><td>&hellip;</td><td>&hellip;</td><td>&hellip;</td><td>&hellip;</td><td>&hellip;</td><td>&hellip;</td><td>&hellip;</td><td>&hellip;</td><td>&hellip;</td><td>&hellip;</td><td>&hellip;</td><td>&hellip;</td><td>&hellip;</td><td>&hellip;</td><td>&hellip;</td><td>&hellip;</td><td>&hellip;</td><td>&hellip;</td><td>&hellip;</td><td>&hellip;</td><td>&hellip;</td><td>&hellip;</td><td>&hellip;</td><td>&hellip;</td><td>&hellip;</td><td>&hellip;</td><td>&hellip;</td><td>&hellip;</td><td>&hellip;</td><td>&hellip;</td></tr><tr><td>8</td><td>12</td><td>27</td><td>12</td><td>10</td><td>12</td><td>12</td><td>27</td><td>8</td><td>33</td><td>12</td><td>27</td><td>35</td><td>12</td><td>17</td><td>33</td><td>12</td><td>18</td><td>12</td><td>12</td><td>35</td><td>12</td><td>17</td><td>36</td><td>12</td><td>4</td><td>12</td><td>12</td><td>12</td><td>12</td><td>12</td><td>4</td><td>19</td><td>12</td><td>18</td><td>19</td><td>35</td><td>&hellip;</td><td>0</td><td>0</td><td>0</td><td>0</td><td>0</td><td>0</td><td>0</td><td>0</td><td>0</td><td>0</td><td>0</td><td>0</td><td>0</td><td>0</td><td>0</td><td>0</td><td>0</td><td>0</td><td>0</td><td>0</td><td>0</td><td>0</td><td>0</td><td>0</td><td>0</td><td>0</td><td>0</td><td>0</td><td>0</td><td>0</td><td>0</td><td>0</td><td>0</td><td>0</td><td>0</td><td>0</td><td>1</td></tr><tr><td>8</td><td>12</td><td>27</td><td>12</td><td>17</td><td>7</td><td>19</td><td>12</td><td>12</td><td>12</td><td>12</td><td>27</td><td>33</td><td>12</td><td>27</td><td>35</td><td>12</td><td>17</td><td>33</td><td>8</td><td>8</td><td>18</td><td>8</td><td>8</td><td>8</td><td>17</td><td>8</td><td>17</td><td>26</td><td>28</td><td>19</td><td>33</td><td>29</td><td>30</td><td>2</td><td>32</td><td>19</td><td>&hellip;</td><td>0</td><td>0</td><td>0</td><td>0</td><td>0</td><td>0</td><td>0</td><td>0</td><td>0</td><td>0</td><td>0</td><td>0</td><td>0</td><td>0</td><td>0</td><td>0</td><td>0</td><td>0</td><td>0</td><td>0</td><td>0</td><td>0</td><td>0</td><td>0</td><td>0</td><td>0</td><td>0</td><td>0</td><td>0</td><td>0</td><td>0</td><td>0</td><td>0</td><td>0</td><td>0</td><td>0</td><td>1</td></tr><tr><td>8</td><td>22</td><td>8</td><td>8</td><td>29</td><td>8</td><td>3</td><td>3</td><td>5</td><td>32</td><td>17</td><td>33</td><td>12</td><td>27</td><td>35</td><td>12</td><td>17</td><td>33</td><td>12</td><td>18</td><td>35</td><td>12</td><td>35</td><td>12</td><td>17</td><td>8</td><td>1</td><td>19</td><td>12</td><td>18</td><td>28</td><td>8</td><td>19</td><td>35</td><td>12</td><td>17</td><td>33</td><td>&hellip;</td><td>0</td><td>0</td><td>0</td><td>0</td><td>0</td><td>0</td><td>0</td><td>0</td><td>0</td><td>0</td><td>0</td><td>0</td><td>0</td><td>0</td><td>0</td><td>0</td><td>0</td><td>0</td><td>0</td><td>0</td><td>0</td><td>0</td><td>0</td><td>0</td><td>0</td><td>0</td><td>0</td><td>0</td><td>0</td><td>0</td><td>0</td><td>0</td><td>0</td><td>0</td><td>0</td><td>0</td><td>0</td></tr><tr><td>8</td><td>12</td><td>27</td><td>12</td><td>35</td><td>12</td><td>17</td><td>33</td><td>12</td><td>18</td><td>35</td><td>12</td><td>17</td><td>33</td><td>12</td><td>4</td><td>12</td><td>12</td><td>12</td><td>17</td><td>7</td><td>19</td><td>12</td><td>17</td><td>8</td><td>22</td><td>33</td><td>19</td><td>12</td><td>4</td><td>19</td><td>35</td><td>12</td><td>17</td><td>33</td><td>29</td><td>8</td><td>&hellip;</td><td>0</td><td>0</td><td>0</td><td>0</td><td>0</td><td>0</td><td>0</td><td>0</td><td>0</td><td>0</td><td>0</td><td>0</td><td>0</td><td>0</td><td>0</td><td>0</td><td>0</td><td>0</td><td>0</td><td>0</td><td>0</td><td>0</td><td>0</td><td>0</td><td>0</td><td>0</td><td>0</td><td>0</td><td>0</td><td>0</td><td>0</td><td>0</td><td>0</td><td>0</td><td>0</td><td>1</td><td>0</td></tr><tr><td>8</td><td>12</td><td>27</td><td>35</td><td>12</td><td>17</td><td>8</td><td>1</td><td>19</td><td>12</td><td>12</td><td>12</td><td>27</td><td>33</td><td>12</td><td>27</td><td>35</td><td>12</td><td>17</td><td>33</td><td>8</td><td>12</td><td>18</td><td>35</td><td>13</td><td>12</td><td>17</td><td>8</td><td>4</td><td>8</td><td>8</td><td>28</td><td>8</td><td>8</td><td>4</td><td>19</td><td>35</td><td>&hellip;</td><td>0</td><td>0</td><td>0</td><td>0</td><td>0</td><td>0</td><td>0</td><td>0</td><td>0</td><td>0</td><td>0</td><td>0</td><td>0</td><td>0</td><td>0</td><td>0</td><td>0</td><td>0</td><td>0</td><td>0</td><td>0</td><td>0</td><td>0</td><td>0</td><td>0</td><td>0</td><td>0</td><td>0</td><td>0</td><td>0</td><td>0</td><td>0</td><td>0</td><td>0</td><td>0</td><td>0</td><td>1</td></tr></tbody></table></div>"
      ],
      "text/plain": [
       "shape: (3_019_558, 145)\n",
       "┌──────┬──────┬──────┬──────┬───┬────────┬───────┬───────┬───────┐\n",
       "│ enc0 ┆ enc1 ┆ enc2 ┆ enc3 ┆ … ┆ enc141 ┆ bind1 ┆ bind2 ┆ bind3 │\n",
       "│ ---  ┆ ---  ┆ ---  ┆ ---  ┆   ┆ ---    ┆ ---   ┆ ---   ┆ ---   │\n",
       "│ u8   ┆ u8   ┆ u8   ┆ u8   ┆   ┆ u8     ┆ i64   ┆ i64   ┆ i64   │\n",
       "╞══════╪══════╪══════╪══════╪═══╪════════╪═══════╪═══════╪═══════╡\n",
       "│ 8    ┆ 28   ┆ 8    ┆ 17   ┆ … ┆ 0      ┆ 0     ┆ 0     ┆ 1     │\n",
       "│ 8    ┆ 22   ┆ 8    ┆ 8    ┆ … ┆ 0      ┆ 0     ┆ 0     ┆ 0     │\n",
       "│ 8    ┆ 22   ┆ 8    ┆ 8    ┆ … ┆ 0      ┆ 0     ┆ 0     ┆ 0     │\n",
       "│ 8    ┆ 8    ┆ 28   ┆ 8    ┆ … ┆ 0      ┆ 0     ┆ 1     ┆ 0     │\n",
       "│ 33   ┆ 22   ┆ 8    ┆ 12   ┆ … ┆ 0      ┆ 0     ┆ 1     ┆ 0     │\n",
       "│ …    ┆ …    ┆ …    ┆ …    ┆ … ┆ …      ┆ …     ┆ …     ┆ …     │\n",
       "│ 8    ┆ 12   ┆ 27   ┆ 12   ┆ … ┆ 0      ┆ 0     ┆ 0     ┆ 1     │\n",
       "│ 8    ┆ 12   ┆ 27   ┆ 12   ┆ … ┆ 0      ┆ 0     ┆ 0     ┆ 1     │\n",
       "│ 8    ┆ 22   ┆ 8    ┆ 8    ┆ … ┆ 0      ┆ 0     ┆ 0     ┆ 0     │\n",
       "│ 8    ┆ 12   ┆ 27   ┆ 12   ┆ … ┆ 0      ┆ 0     ┆ 1     ┆ 0     │\n",
       "│ 8    ┆ 12   ┆ 27   ┆ 35   ┆ … ┆ 0      ┆ 0     ┆ 0     ┆ 1     │\n",
       "└──────┴──────┴──────┴──────┴───┴────────┴───────┴───────┴───────┘"
      ]
     },
     "execution_count": 54,
     "metadata": {},
     "output_type": "execute_result"
    }
   ],
   "source": [
    "train_balanced"
   ]
  },
  {
   "cell_type": "code",
   "execution_count": 63,
   "metadata": {},
   "outputs": [
    {
     "data": {
      "text/html": [
       "<div><style>\n",
       ".dataframe > thead > tr,\n",
       ".dataframe > tbody > tr {\n",
       "  text-align: right;\n",
       "  white-space: pre-wrap;\n",
       "}\n",
       "</style>\n",
       "<small>shape: (1_674_896, 142)</small><table border=\"1\" class=\"dataframe\"><thead><tr><th>enc0</th><th>enc1</th><th>enc2</th><th>enc3</th><th>enc4</th><th>enc5</th><th>enc6</th><th>enc7</th><th>enc8</th><th>enc9</th><th>enc10</th><th>enc11</th><th>enc12</th><th>enc13</th><th>enc14</th><th>enc15</th><th>enc16</th><th>enc17</th><th>enc18</th><th>enc19</th><th>enc20</th><th>enc21</th><th>enc22</th><th>enc23</th><th>enc24</th><th>enc25</th><th>enc26</th><th>enc27</th><th>enc28</th><th>enc29</th><th>enc30</th><th>enc31</th><th>enc32</th><th>enc33</th><th>enc34</th><th>enc35</th><th>enc36</th><th>&hellip;</th><th>enc105</th><th>enc106</th><th>enc107</th><th>enc108</th><th>enc109</th><th>enc110</th><th>enc111</th><th>enc112</th><th>enc113</th><th>enc114</th><th>enc115</th><th>enc116</th><th>enc117</th><th>enc118</th><th>enc119</th><th>enc120</th><th>enc121</th><th>enc122</th><th>enc123</th><th>enc124</th><th>enc125</th><th>enc126</th><th>enc127</th><th>enc128</th><th>enc129</th><th>enc130</th><th>enc131</th><th>enc132</th><th>enc133</th><th>enc134</th><th>enc135</th><th>enc136</th><th>enc137</th><th>enc138</th><th>enc139</th><th>enc140</th><th>enc141</th></tr><tr><td>u8</td><td>u8</td><td>u8</td><td>u8</td><td>u8</td><td>u8</td><td>u8</td><td>u8</td><td>u8</td><td>u8</td><td>u8</td><td>u8</td><td>u8</td><td>u8</td><td>u8</td><td>u8</td><td>u8</td><td>u8</td><td>u8</td><td>u8</td><td>u8</td><td>u8</td><td>u8</td><td>u8</td><td>u8</td><td>u8</td><td>u8</td><td>u8</td><td>u8</td><td>u8</td><td>u8</td><td>u8</td><td>u8</td><td>u8</td><td>u8</td><td>u8</td><td>u8</td><td>&hellip;</td><td>u8</td><td>u8</td><td>u8</td><td>u8</td><td>u8</td><td>u8</td><td>u8</td><td>u8</td><td>u8</td><td>u8</td><td>u8</td><td>u8</td><td>u8</td><td>u8</td><td>u8</td><td>u8</td><td>u8</td><td>u8</td><td>u8</td><td>u8</td><td>u8</td><td>u8</td><td>u8</td><td>u8</td><td>u8</td><td>u8</td><td>u8</td><td>u8</td><td>u8</td><td>u8</td><td>u8</td><td>u8</td><td>u8</td><td>u8</td><td>u8</td><td>u8</td><td>u8</td></tr></thead><tbody><tr><td>8</td><td>22</td><td>8</td><td>8</td><td>8</td><td>8</td><td>29</td><td>8</td><td>3</td><td>5</td><td>32</td><td>17</td><td>33</td><td>12</td><td>27</td><td>35</td><td>12</td><td>17</td><td>33</td><td>12</td><td>18</td><td>12</td><td>12</td><td>12</td><td>17</td><td>8</td><td>26</td><td>8</td><td>19</td><td>12</td><td>12</td><td>18</td><td>19</td><td>35</td><td>12</td><td>17</td><td>33</td><td>&hellip;</td><td>0</td><td>0</td><td>0</td><td>0</td><td>0</td><td>0</td><td>0</td><td>0</td><td>0</td><td>0</td><td>0</td><td>0</td><td>0</td><td>0</td><td>0</td><td>0</td><td>0</td><td>0</td><td>0</td><td>0</td><td>0</td><td>0</td><td>0</td><td>0</td><td>0</td><td>0</td><td>0</td><td>0</td><td>0</td><td>0</td><td>0</td><td>0</td><td>0</td><td>0</td><td>0</td><td>0</td><td>0</td></tr><tr><td>8</td><td>22</td><td>8</td><td>8</td><td>8</td><td>8</td><td>29</td><td>8</td><td>3</td><td>5</td><td>32</td><td>17</td><td>33</td><td>12</td><td>27</td><td>35</td><td>12</td><td>17</td><td>33</td><td>12</td><td>18</td><td>12</td><td>12</td><td>12</td><td>17</td><td>8</td><td>26</td><td>8</td><td>19</td><td>12</td><td>12</td><td>18</td><td>19</td><td>35</td><td>12</td><td>17</td><td>33</td><td>&hellip;</td><td>0</td><td>0</td><td>0</td><td>0</td><td>0</td><td>0</td><td>0</td><td>0</td><td>0</td><td>0</td><td>0</td><td>0</td><td>0</td><td>0</td><td>0</td><td>0</td><td>0</td><td>0</td><td>0</td><td>0</td><td>0</td><td>0</td><td>0</td><td>0</td><td>0</td><td>0</td><td>0</td><td>0</td><td>0</td><td>0</td><td>0</td><td>0</td><td>0</td><td>0</td><td>0</td><td>0</td><td>0</td></tr><tr><td>8</td><td>22</td><td>8</td><td>8</td><td>8</td><td>8</td><td>29</td><td>8</td><td>3</td><td>5</td><td>32</td><td>17</td><td>33</td><td>12</td><td>27</td><td>35</td><td>12</td><td>17</td><td>33</td><td>12</td><td>18</td><td>12</td><td>12</td><td>12</td><td>17</td><td>8</td><td>26</td><td>8</td><td>19</td><td>12</td><td>12</td><td>18</td><td>19</td><td>35</td><td>12</td><td>17</td><td>33</td><td>&hellip;</td><td>0</td><td>0</td><td>0</td><td>0</td><td>0</td><td>0</td><td>0</td><td>0</td><td>0</td><td>0</td><td>0</td><td>0</td><td>0</td><td>0</td><td>0</td><td>0</td><td>0</td><td>0</td><td>0</td><td>0</td><td>0</td><td>0</td><td>0</td><td>0</td><td>0</td><td>0</td><td>0</td><td>0</td><td>0</td><td>0</td><td>0</td><td>0</td><td>0</td><td>0</td><td>0</td><td>0</td><td>0</td></tr><tr><td>8</td><td>22</td><td>8</td><td>8</td><td>8</td><td>8</td><td>29</td><td>8</td><td>3</td><td>5</td><td>32</td><td>17</td><td>33</td><td>12</td><td>27</td><td>35</td><td>12</td><td>17</td><td>33</td><td>12</td><td>18</td><td>12</td><td>12</td><td>12</td><td>17</td><td>8</td><td>26</td><td>8</td><td>19</td><td>12</td><td>12</td><td>18</td><td>19</td><td>35</td><td>12</td><td>17</td><td>33</td><td>&hellip;</td><td>0</td><td>0</td><td>0</td><td>0</td><td>0</td><td>0</td><td>0</td><td>0</td><td>0</td><td>0</td><td>0</td><td>0</td><td>0</td><td>0</td><td>0</td><td>0</td><td>0</td><td>0</td><td>0</td><td>0</td><td>0</td><td>0</td><td>0</td><td>0</td><td>0</td><td>0</td><td>0</td><td>0</td><td>0</td><td>0</td><td>0</td><td>0</td><td>0</td><td>0</td><td>0</td><td>0</td><td>0</td></tr><tr><td>8</td><td>22</td><td>8</td><td>8</td><td>8</td><td>8</td><td>29</td><td>8</td><td>3</td><td>5</td><td>32</td><td>17</td><td>33</td><td>12</td><td>27</td><td>35</td><td>12</td><td>17</td><td>33</td><td>12</td><td>18</td><td>12</td><td>12</td><td>12</td><td>17</td><td>8</td><td>26</td><td>8</td><td>19</td><td>12</td><td>12</td><td>18</td><td>19</td><td>35</td><td>12</td><td>17</td><td>33</td><td>&hellip;</td><td>0</td><td>0</td><td>0</td><td>0</td><td>0</td><td>0</td><td>0</td><td>0</td><td>0</td><td>0</td><td>0</td><td>0</td><td>0</td><td>0</td><td>0</td><td>0</td><td>0</td><td>0</td><td>0</td><td>0</td><td>0</td><td>0</td><td>0</td><td>0</td><td>0</td><td>0</td><td>0</td><td>0</td><td>0</td><td>0</td><td>0</td><td>0</td><td>0</td><td>0</td><td>0</td><td>0</td><td>0</td></tr><tr><td>&hellip;</td><td>&hellip;</td><td>&hellip;</td><td>&hellip;</td><td>&hellip;</td><td>&hellip;</td><td>&hellip;</td><td>&hellip;</td><td>&hellip;</td><td>&hellip;</td><td>&hellip;</td><td>&hellip;</td><td>&hellip;</td><td>&hellip;</td><td>&hellip;</td><td>&hellip;</td><td>&hellip;</td><td>&hellip;</td><td>&hellip;</td><td>&hellip;</td><td>&hellip;</td><td>&hellip;</td><td>&hellip;</td><td>&hellip;</td><td>&hellip;</td><td>&hellip;</td><td>&hellip;</td><td>&hellip;</td><td>&hellip;</td><td>&hellip;</td><td>&hellip;</td><td>&hellip;</td><td>&hellip;</td><td>&hellip;</td><td>&hellip;</td><td>&hellip;</td><td>&hellip;</td><td>&hellip;</td><td>&hellip;</td><td>&hellip;</td><td>&hellip;</td><td>&hellip;</td><td>&hellip;</td><td>&hellip;</td><td>&hellip;</td><td>&hellip;</td><td>&hellip;</td><td>&hellip;</td><td>&hellip;</td><td>&hellip;</td><td>&hellip;</td><td>&hellip;</td><td>&hellip;</td><td>&hellip;</td><td>&hellip;</td><td>&hellip;</td><td>&hellip;</td><td>&hellip;</td><td>&hellip;</td><td>&hellip;</td><td>&hellip;</td><td>&hellip;</td><td>&hellip;</td><td>&hellip;</td><td>&hellip;</td><td>&hellip;</td><td>&hellip;</td><td>&hellip;</td><td>&hellip;</td><td>&hellip;</td><td>&hellip;</td><td>&hellip;</td><td>&hellip;</td><td>&hellip;</td><td>&hellip;</td></tr><tr><td>8</td><td>28</td><td>8</td><td>27</td><td>8</td><td>8</td><td>8</td><td>17</td><td>8</td><td>8</td><td>33</td><td>12</td><td>18</td><td>35</td><td>12</td><td>17</td><td>33</td><td>12</td><td>4</td><td>35</td><td>13</td><td>12</td><td>25</td><td>12</td><td>12</td><td>12</td><td>17</td><td>7</td><td>19</td><td>12</td><td>12</td><td>4</td><td>25</td><td>19</td><td>35</td><td>12</td><td>17</td><td>&hellip;</td><td>0</td><td>0</td><td>0</td><td>0</td><td>0</td><td>0</td><td>0</td><td>0</td><td>0</td><td>0</td><td>0</td><td>0</td><td>0</td><td>0</td><td>0</td><td>0</td><td>0</td><td>0</td><td>0</td><td>0</td><td>0</td><td>0</td><td>0</td><td>0</td><td>0</td><td>0</td><td>0</td><td>0</td><td>0</td><td>0</td><td>0</td><td>0</td><td>0</td><td>0</td><td>0</td><td>0</td><td>0</td></tr><tr><td>8</td><td>28</td><td>8</td><td>27</td><td>8</td><td>8</td><td>8</td><td>17</td><td>8</td><td>8</td><td>33</td><td>12</td><td>18</td><td>35</td><td>12</td><td>17</td><td>33</td><td>12</td><td>4</td><td>35</td><td>13</td><td>12</td><td>25</td><td>12</td><td>12</td><td>12</td><td>17</td><td>7</td><td>19</td><td>12</td><td>12</td><td>4</td><td>25</td><td>19</td><td>35</td><td>12</td><td>17</td><td>&hellip;</td><td>0</td><td>0</td><td>0</td><td>0</td><td>0</td><td>0</td><td>0</td><td>0</td><td>0</td><td>0</td><td>0</td><td>0</td><td>0</td><td>0</td><td>0</td><td>0</td><td>0</td><td>0</td><td>0</td><td>0</td><td>0</td><td>0</td><td>0</td><td>0</td><td>0</td><td>0</td><td>0</td><td>0</td><td>0</td><td>0</td><td>0</td><td>0</td><td>0</td><td>0</td><td>0</td><td>0</td><td>0</td></tr><tr><td>29</td><td>33</td><td>36</td><td>32</td><td>26</td><td>29</td><td>33</td><td>14</td><td>32</td><td>26</td><td>33</td><td>8</td><td>8</td><td>8</td><td>29</td><td>8</td><td>3</td><td>5</td><td>32</td><td>17</td><td>33</td><td>12</td><td>27</td><td>35</td><td>12</td><td>17</td><td>33</td><td>8</td><td>12</td><td>18</td><td>12</td><td>12</td><td>12</td><td>10</td><td>18</td><td>19</td><td>35</td><td>&hellip;</td><td>0</td><td>0</td><td>0</td><td>0</td><td>0</td><td>0</td><td>0</td><td>0</td><td>0</td><td>0</td><td>0</td><td>0</td><td>0</td><td>0</td><td>0</td><td>0</td><td>0</td><td>0</td><td>0</td><td>0</td><td>0</td><td>0</td><td>0</td><td>0</td><td>0</td><td>0</td><td>0</td><td>0</td><td>0</td><td>0</td><td>0</td><td>0</td><td>0</td><td>0</td><td>0</td><td>0</td><td>0</td></tr><tr><td>29</td><td>33</td><td>36</td><td>32</td><td>26</td><td>29</td><td>33</td><td>14</td><td>32</td><td>26</td><td>33</td><td>8</td><td>8</td><td>8</td><td>29</td><td>8</td><td>3</td><td>5</td><td>32</td><td>17</td><td>33</td><td>12</td><td>27</td><td>35</td><td>12</td><td>17</td><td>33</td><td>8</td><td>12</td><td>18</td><td>12</td><td>12</td><td>12</td><td>10</td><td>18</td><td>19</td><td>35</td><td>&hellip;</td><td>0</td><td>0</td><td>0</td><td>0</td><td>0</td><td>0</td><td>0</td><td>0</td><td>0</td><td>0</td><td>0</td><td>0</td><td>0</td><td>0</td><td>0</td><td>0</td><td>0</td><td>0</td><td>0</td><td>0</td><td>0</td><td>0</td><td>0</td><td>0</td><td>0</td><td>0</td><td>0</td><td>0</td><td>0</td><td>0</td><td>0</td><td>0</td><td>0</td><td>0</td><td>0</td><td>0</td><td>0</td></tr><tr><td>29</td><td>33</td><td>36</td><td>32</td><td>26</td><td>29</td><td>33</td><td>14</td><td>32</td><td>26</td><td>33</td><td>8</td><td>8</td><td>8</td><td>29</td><td>8</td><td>3</td><td>5</td><td>32</td><td>17</td><td>33</td><td>12</td><td>27</td><td>35</td><td>12</td><td>17</td><td>33</td><td>8</td><td>12</td><td>18</td><td>12</td><td>12</td><td>12</td><td>10</td><td>18</td><td>19</td><td>35</td><td>&hellip;</td><td>0</td><td>0</td><td>0</td><td>0</td><td>0</td><td>0</td><td>0</td><td>0</td><td>0</td><td>0</td><td>0</td><td>0</td><td>0</td><td>0</td><td>0</td><td>0</td><td>0</td><td>0</td><td>0</td><td>0</td><td>0</td><td>0</td><td>0</td><td>0</td><td>0</td><td>0</td><td>0</td><td>0</td><td>0</td><td>0</td><td>0</td><td>0</td><td>0</td><td>0</td><td>0</td><td>0</td><td>0</td></tr></tbody></table></div>"
      ],
      "text/plain": [
       "shape: (1_674_896, 142)\n",
       "┌──────┬──────┬──────┬──────┬───┬────────┬────────┬────────┬────────┐\n",
       "│ enc0 ┆ enc1 ┆ enc2 ┆ enc3 ┆ … ┆ enc138 ┆ enc139 ┆ enc140 ┆ enc141 │\n",
       "│ ---  ┆ ---  ┆ ---  ┆ ---  ┆   ┆ ---    ┆ ---    ┆ ---    ┆ ---    │\n",
       "│ u8   ┆ u8   ┆ u8   ┆ u8   ┆   ┆ u8     ┆ u8     ┆ u8     ┆ u8     │\n",
       "╞══════╪══════╪══════╪══════╪═══╪════════╪════════╪════════╪════════╡\n",
       "│ 8    ┆ 22   ┆ 8    ┆ 8    ┆ … ┆ 0      ┆ 0      ┆ 0      ┆ 0      │\n",
       "│ 8    ┆ 22   ┆ 8    ┆ 8    ┆ … ┆ 0      ┆ 0      ┆ 0      ┆ 0      │\n",
       "│ 8    ┆ 22   ┆ 8    ┆ 8    ┆ … ┆ 0      ┆ 0      ┆ 0      ┆ 0      │\n",
       "│ 8    ┆ 22   ┆ 8    ┆ 8    ┆ … ┆ 0      ┆ 0      ┆ 0      ┆ 0      │\n",
       "│ 8    ┆ 22   ┆ 8    ┆ 8    ┆ … ┆ 0      ┆ 0      ┆ 0      ┆ 0      │\n",
       "│ …    ┆ …    ┆ …    ┆ …    ┆ … ┆ …      ┆ …      ┆ …      ┆ …      │\n",
       "│ 8    ┆ 28   ┆ 8    ┆ 27   ┆ … ┆ 0      ┆ 0      ┆ 0      ┆ 0      │\n",
       "│ 8    ┆ 28   ┆ 8    ┆ 27   ┆ … ┆ 0      ┆ 0      ┆ 0      ┆ 0      │\n",
       "│ 29   ┆ 33   ┆ 36   ┆ 32   ┆ … ┆ 0      ┆ 0      ┆ 0      ┆ 0      │\n",
       "│ 29   ┆ 33   ┆ 36   ┆ 32   ┆ … ┆ 0      ┆ 0      ┆ 0      ┆ 0      │\n",
       "│ 29   ┆ 33   ┆ 36   ┆ 32   ┆ … ┆ 0      ┆ 0      ┆ 0      ┆ 0      │\n",
       "└──────┴──────┴──────┴──────┴───┴────────┴────────┴────────┴────────┘"
      ]
     },
     "execution_count": 63,
     "metadata": {},
     "output_type": "execute_result"
    }
   ],
   "source": [
    "test = pl.read_parquet(os.path.join(PROCESSED_DIR, \"test_enc.parquet\"))\n",
    "test"
   ]
  },
  {
   "cell_type": "markdown",
   "metadata": {},
   "source": [
    "エンコード済みローカルのテストデータを取得\n",
    "\n",
    "割合は確認済み"
   ]
  },
  {
   "cell_type": "code",
   "execution_count": 4,
   "metadata": {},
   "outputs": [
    {
     "name": "stdout",
     "output_type": "stream",
     "text": [
      "local_test:  0.004758391962249887 0.004222907750397294 0.007442925715028918\n",
      "local_train:  0.004642043010052996 0.004149111846365343 0.007361144379514238\n"
     ]
    },
    {
     "data": {
      "text/plain": [
       "(215.4223900628149, 241.0154358398433, 135.8484426392938)"
      ]
     },
     "execution_count": 4,
     "metadata": {},
     "output_type": "execute_result"
    }
   ],
   "source": [
    "train = pl.read_parquet(os.path.join(PROCESSED_DIR, \"train_enc.parquet\"))\n",
    "\n",
    "# データフレームをシャッフル（sampleを使って全体をランダムに取得）\n",
    "shuffled_df = train.sample(fraction=1.0, with_replacement=False, seed=Config.SEED, shuffle=True)\n",
    "\n",
    "# 分割の割合を設定\n",
    "split_ratio = 0.01\n",
    "\n",
    "# データフレームを分割\n",
    "split_index = int(len(shuffled_df) * split_ratio)\n",
    "local_test = shuffled_df[:split_index]\n",
    "local_train = shuffled_df[split_index:]\n",
    "\n",
    "bind1 = local_test.filter(pl.col(\"bind1\") == 1).shape[0] / local_test.shape[0]\n",
    "bind2 = local_test.filter(pl.col(\"bind2\") == 1).shape[0] / local_test.shape[0]\n",
    "bind3 = local_test.filter(pl.col(\"bind3\") == 1).shape[0] / local_test.shape[0]\n",
    "print(\"local_test: \", bind1, bind2, bind3)\n",
    "\n",
    "bind1 = local_train.filter(pl.col(\"bind1\") == 1).shape[0] / local_train.shape[0]\n",
    "bind2 = local_train.filter(pl.col(\"bind2\") == 1).shape[0] / local_train.shape[0]\n",
    "bind3 = local_train.filter(pl.col(\"bind3\") == 1).shape[0] / local_train.shape[0]\n",
    "print(\"local_train: \", bind1, bind2, bind3)\n",
    "\n",
    "# # save\n",
    "# local_train.write_parquet(os.path.join(PROCESSED_DIR, \"local_train_enc.parquet\"))\n",
    "# local_test.write_parquet(os.path.join(PROCESSED_DIR, \"local_test_enc.parquet\"))\n",
    "\n",
    "1/bind1, 1/bind2, 1/bind3"
   ]
  },
  {
   "cell_type": "code",
   "execution_count": 5,
   "metadata": {},
   "outputs": [],
   "source": [
    "raw_train = pl.read_parquet(os.path.join(RAW_DIR, \"train.parquet\"))"
   ]
  },
  {
   "cell_type": "code",
   "execution_count": 12,
   "metadata": {},
   "outputs": [],
   "source": [
    "assert len(raw_train) == len(train)*3"
   ]
  },
  {
   "cell_type": "code",
   "execution_count": 13,
   "metadata": {},
   "outputs": [
    {
     "data": {
      "text/html": [
       "<div><style>\n",
       ".dataframe > thead > tr,\n",
       ".dataframe > tbody > tr {\n",
       "  text-align: right;\n",
       "  white-space: pre-wrap;\n",
       "}\n",
       "</style>\n",
       "<small>shape: (984_156, 145)</small><table border=\"1\" class=\"dataframe\"><thead><tr><th>enc0</th><th>enc1</th><th>enc2</th><th>enc3</th><th>enc4</th><th>enc5</th><th>enc6</th><th>enc7</th><th>enc8</th><th>enc9</th><th>enc10</th><th>enc11</th><th>enc12</th><th>enc13</th><th>enc14</th><th>enc15</th><th>enc16</th><th>enc17</th><th>enc18</th><th>enc19</th><th>enc20</th><th>enc21</th><th>enc22</th><th>enc23</th><th>enc24</th><th>enc25</th><th>enc26</th><th>enc27</th><th>enc28</th><th>enc29</th><th>enc30</th><th>enc31</th><th>enc32</th><th>enc33</th><th>enc34</th><th>enc35</th><th>enc36</th><th>&hellip;</th><th>enc108</th><th>enc109</th><th>enc110</th><th>enc111</th><th>enc112</th><th>enc113</th><th>enc114</th><th>enc115</th><th>enc116</th><th>enc117</th><th>enc118</th><th>enc119</th><th>enc120</th><th>enc121</th><th>enc122</th><th>enc123</th><th>enc124</th><th>enc125</th><th>enc126</th><th>enc127</th><th>enc128</th><th>enc129</th><th>enc130</th><th>enc131</th><th>enc132</th><th>enc133</th><th>enc134</th><th>enc135</th><th>enc136</th><th>enc137</th><th>enc138</th><th>enc139</th><th>enc140</th><th>enc141</th><th>bind1</th><th>bind2</th><th>bind3</th></tr><tr><td>u8</td><td>u8</td><td>u8</td><td>u8</td><td>u8</td><td>u8</td><td>u8</td><td>u8</td><td>u8</td><td>u8</td><td>u8</td><td>u8</td><td>u8</td><td>u8</td><td>u8</td><td>u8</td><td>u8</td><td>u8</td><td>u8</td><td>u8</td><td>u8</td><td>u8</td><td>u8</td><td>u8</td><td>u8</td><td>u8</td><td>u8</td><td>u8</td><td>u8</td><td>u8</td><td>u8</td><td>u8</td><td>u8</td><td>u8</td><td>u8</td><td>u8</td><td>u8</td><td>&hellip;</td><td>u8</td><td>u8</td><td>u8</td><td>u8</td><td>u8</td><td>u8</td><td>u8</td><td>u8</td><td>u8</td><td>u8</td><td>u8</td><td>u8</td><td>u8</td><td>u8</td><td>u8</td><td>u8</td><td>u8</td><td>u8</td><td>u8</td><td>u8</td><td>u8</td><td>u8</td><td>u8</td><td>u8</td><td>u8</td><td>u8</td><td>u8</td><td>u8</td><td>u8</td><td>u8</td><td>u8</td><td>u8</td><td>u8</td><td>u8</td><td>i64</td><td>i64</td><td>i64</td></tr></thead><tbody><tr><td>28</td><td>26</td><td>8</td><td>17</td><td>33</td><td>29</td><td>30</td><td>2</td><td>32</td><td>19</td><td>29</td><td>8</td><td>3</td><td>3</td><td>5</td><td>32</td><td>17</td><td>8</td><td>12</td><td>27</td><td>12</td><td>12</td><td>12</td><td>17</td><td>7</td><td>19</td><td>12</td><td>17</td><td>7</td><td>19</td><td>12</td><td>27</td><td>19</td><td>33</td><td>12</td><td>27</td><td>35</td><td>&hellip;</td><td>0</td><td>0</td><td>0</td><td>0</td><td>0</td><td>0</td><td>0</td><td>0</td><td>0</td><td>0</td><td>0</td><td>0</td><td>0</td><td>0</td><td>0</td><td>0</td><td>0</td><td>0</td><td>0</td><td>0</td><td>0</td><td>0</td><td>0</td><td>0</td><td>0</td><td>0</td><td>0</td><td>0</td><td>0</td><td>0</td><td>0</td><td>0</td><td>0</td><td>0</td><td>0</td><td>0</td><td>0</td></tr><tr><td>8</td><td>26</td><td>8</td><td>8</td><td>29</td><td>8</td><td>3</td><td>5</td><td>32</td><td>17</td><td>33</td><td>12</td><td>27</td><td>35</td><td>12</td><td>17</td><td>33</td><td>8</td><td>12</td><td>18</td><td>12</td><td>12</td><td>12</td><td>35</td><td>12</td><td>18</td><td>36</td><td>35</td><td>18</td><td>12</td><td>12</td><td>35</td><td>12</td><td>18</td><td>8</td><td>19</td><td>35</td><td>&hellip;</td><td>0</td><td>0</td><td>0</td><td>0</td><td>0</td><td>0</td><td>0</td><td>0</td><td>0</td><td>0</td><td>0</td><td>0</td><td>0</td><td>0</td><td>0</td><td>0</td><td>0</td><td>0</td><td>0</td><td>0</td><td>0</td><td>0</td><td>0</td><td>0</td><td>0</td><td>0</td><td>0</td><td>0</td><td>0</td><td>0</td><td>0</td><td>0</td><td>0</td><td>0</td><td>0</td><td>0</td><td>0</td></tr><tr><td>8</td><td>6</td><td>17</td><td>26</td><td>28</td><td>19</td><td>17</td><td>26</td><td>28</td><td>19</td><td>33</td><td>8</td><td>27</td><td>8</td><td>8</td><td>8</td><td>8</td><td>27</td><td>8</td><td>33</td><td>12</td><td>27</td><td>35</td><td>12</td><td>17</td><td>33</td><td>8</td><td>8</td><td>18</td><td>17</td><td>28</td><td>19</td><td>8</td><td>8</td><td>6</td><td>8</td><td>18</td><td>&hellip;</td><td>0</td><td>0</td><td>0</td><td>0</td><td>0</td><td>0</td><td>0</td><td>0</td><td>0</td><td>0</td><td>0</td><td>0</td><td>0</td><td>0</td><td>0</td><td>0</td><td>0</td><td>0</td><td>0</td><td>0</td><td>0</td><td>0</td><td>0</td><td>0</td><td>0</td><td>0</td><td>0</td><td>0</td><td>0</td><td>0</td><td>0</td><td>0</td><td>0</td><td>0</td><td>0</td><td>0</td><td>0</td></tr><tr><td>28</td><td>26</td><td>8</td><td>17</td><td>33</td><td>29</td><td>30</td><td>2</td><td>32</td><td>19</td><td>29</td><td>8</td><td>3</td><td>3</td><td>5</td><td>32</td><td>17</td><td>8</td><td>12</td><td>27</td><td>12</td><td>12</td><td>12</td><td>17</td><td>8</td><td>1</td><td>19</td><td>12</td><td>17</td><td>8</td><td>1</td><td>19</td><td>12</td><td>27</td><td>19</td><td>33</td><td>12</td><td>&hellip;</td><td>0</td><td>0</td><td>0</td><td>0</td><td>0</td><td>0</td><td>0</td><td>0</td><td>0</td><td>0</td><td>0</td><td>0</td><td>0</td><td>0</td><td>0</td><td>0</td><td>0</td><td>0</td><td>0</td><td>0</td><td>0</td><td>0</td><td>0</td><td>0</td><td>0</td><td>0</td><td>0</td><td>0</td><td>0</td><td>0</td><td>0</td><td>0</td><td>0</td><td>0</td><td>0</td><td>0</td><td>0</td></tr><tr><td>8</td><td>12</td><td>27</td><td>12</td><td>12</td><td>17</td><td>33</td><td>12</td><td>18</td><td>35</td><td>12</td><td>17</td><td>33</td><td>8</td><td>29</td><td>8</td><td>3</td><td>3</td><td>5</td><td>32</td><td>4</td><td>28</td><td>8</td><td>8</td><td>33</td><td>17</td><td>8</td><td>19</td><td>29</td><td>8</td><td>3</td><td>5</td><td>32</td><td>4</td><td>12</td><td>4</td><td>12</td><td>&hellip;</td><td>0</td><td>0</td><td>0</td><td>0</td><td>0</td><td>0</td><td>0</td><td>0</td><td>0</td><td>0</td><td>0</td><td>0</td><td>0</td><td>0</td><td>0</td><td>0</td><td>0</td><td>0</td><td>0</td><td>0</td><td>0</td><td>0</td><td>0</td><td>0</td><td>0</td><td>0</td><td>0</td><td>0</td><td>0</td><td>0</td><td>0</td><td>0</td><td>0</td><td>0</td><td>0</td><td>0</td><td>0</td></tr><tr><td>&hellip;</td><td>&hellip;</td><td>&hellip;</td><td>&hellip;</td><td>&hellip;</td><td>&hellip;</td><td>&hellip;</td><td>&hellip;</td><td>&hellip;</td><td>&hellip;</td><td>&hellip;</td><td>&hellip;</td><td>&hellip;</td><td>&hellip;</td><td>&hellip;</td><td>&hellip;</td><td>&hellip;</td><td>&hellip;</td><td>&hellip;</td><td>&hellip;</td><td>&hellip;</td><td>&hellip;</td><td>&hellip;</td><td>&hellip;</td><td>&hellip;</td><td>&hellip;</td><td>&hellip;</td><td>&hellip;</td><td>&hellip;</td><td>&hellip;</td><td>&hellip;</td><td>&hellip;</td><td>&hellip;</td><td>&hellip;</td><td>&hellip;</td><td>&hellip;</td><td>&hellip;</td><td>&hellip;</td><td>&hellip;</td><td>&hellip;</td><td>&hellip;</td><td>&hellip;</td><td>&hellip;</td><td>&hellip;</td><td>&hellip;</td><td>&hellip;</td><td>&hellip;</td><td>&hellip;</td><td>&hellip;</td><td>&hellip;</td><td>&hellip;</td><td>&hellip;</td><td>&hellip;</td><td>&hellip;</td><td>&hellip;</td><td>&hellip;</td><td>&hellip;</td><td>&hellip;</td><td>&hellip;</td><td>&hellip;</td><td>&hellip;</td><td>&hellip;</td><td>&hellip;</td><td>&hellip;</td><td>&hellip;</td><td>&hellip;</td><td>&hellip;</td><td>&hellip;</td><td>&hellip;</td><td>&hellip;</td><td>&hellip;</td><td>&hellip;</td><td>&hellip;</td><td>&hellip;</td><td>&hellip;</td></tr><tr><td>8</td><td>28</td><td>12</td><td>27</td><td>12</td><td>12</td><td>17</td><td>33</td><td>12</td><td>18</td><td>35</td><td>12</td><td>17</td><td>33</td><td>12</td><td>4</td><td>12</td><td>25</td><td>12</td><td>17</td><td>12</td><td>12</td><td>16</td><td>12</td><td>4</td><td>8</td><td>8</td><td>8</td><td>16</td><td>19</td><td>8</td><td>8</td><td>8</td><td>25</td><td>19</td><td>35</td><td>12</td><td>&hellip;</td><td>0</td><td>0</td><td>0</td><td>0</td><td>0</td><td>0</td><td>0</td><td>0</td><td>0</td><td>0</td><td>0</td><td>0</td><td>0</td><td>0</td><td>0</td><td>0</td><td>0</td><td>0</td><td>0</td><td>0</td><td>0</td><td>0</td><td>0</td><td>0</td><td>0</td><td>0</td><td>0</td><td>0</td><td>0</td><td>0</td><td>0</td><td>0</td><td>0</td><td>0</td><td>0</td><td>0</td><td>0</td></tr><tr><td>8</td><td>28</td><td>12</td><td>27</td><td>12</td><td>12</td><td>12</td><td>17</td><td>8</td><td>1</td><td>19</td><td>12</td><td>17</td><td>33</td><td>12</td><td>18</td><td>35</td><td>12</td><td>17</td><td>33</td><td>12</td><td>4</td><td>12</td><td>12</td><td>12</td><td>12</td><td>17</td><td>28</td><td>8</td><td>19</td><td>35</td><td>4</td><td>19</td><td>35</td><td>12</td><td>17</td><td>33</td><td>&hellip;</td><td>0</td><td>0</td><td>0</td><td>0</td><td>0</td><td>0</td><td>0</td><td>0</td><td>0</td><td>0</td><td>0</td><td>0</td><td>0</td><td>0</td><td>0</td><td>0</td><td>0</td><td>0</td><td>0</td><td>0</td><td>0</td><td>0</td><td>0</td><td>0</td><td>0</td><td>0</td><td>0</td><td>0</td><td>0</td><td>0</td><td>0</td><td>0</td><td>0</td><td>0</td><td>0</td><td>0</td><td>0</td></tr><tr><td>28</td><td>26</td><td>8</td><td>17</td><td>8</td><td>29</td><td>8</td><td>3</td><td>5</td><td>32</td><td>17</td><td>8</td><td>12</td><td>27</td><td>12</td><td>12</td><td>12</td><td>17</td><td>7</td><td>19</td><td>12</td><td>12</td><td>27</td><td>19</td><td>33</td><td>12</td><td>27</td><td>35</td><td>12</td><td>17</td><td>33</td><td>8</td><td>12</td><td>18</td><td>12</td><td>35</td><td>12</td><td>&hellip;</td><td>0</td><td>0</td><td>0</td><td>0</td><td>0</td><td>0</td><td>0</td><td>0</td><td>0</td><td>0</td><td>0</td><td>0</td><td>0</td><td>0</td><td>0</td><td>0</td><td>0</td><td>0</td><td>0</td><td>0</td><td>0</td><td>0</td><td>0</td><td>0</td><td>0</td><td>0</td><td>0</td><td>0</td><td>0</td><td>0</td><td>0</td><td>0</td><td>0</td><td>0</td><td>0</td><td>0</td><td>0</td></tr><tr><td>8</td><td>33</td><td>27</td><td>8</td><td>8</td><td>17</td><td>8</td><td>33</td><td>12</td><td>18</td><td>35</td><td>12</td><td>17</td><td>33</td><td>8</td><td>12</td><td>4</td><td>12</td><td>12</td><td>12</td><td>17</td><td>8</td><td>33</td><td>25</td><td>8</td><td>8</td><td>8</td><td>8</td><td>25</td><td>26</td><td>28</td><td>19</td><td>12</td><td>12</td><td>4</td><td>19</td><td>35</td><td>&hellip;</td><td>0</td><td>0</td><td>0</td><td>0</td><td>0</td><td>0</td><td>0</td><td>0</td><td>0</td><td>0</td><td>0</td><td>0</td><td>0</td><td>0</td><td>0</td><td>0</td><td>0</td><td>0</td><td>0</td><td>0</td><td>0</td><td>0</td><td>0</td><td>0</td><td>0</td><td>0</td><td>0</td><td>0</td><td>0</td><td>0</td><td>0</td><td>0</td><td>0</td><td>0</td><td>0</td><td>0</td><td>0</td></tr><tr><td>8</td><td>28</td><td>12</td><td>27</td><td>12</td><td>12</td><td>17</td><td>7</td><td>19</td><td>12</td><td>17</td><td>8</td><td>1</td><td>19</td><td>12</td><td>12</td><td>27</td><td>33</td><td>12</td><td>27</td><td>35</td><td>12</td><td>17</td><td>33</td><td>12</td><td>18</td><td>12</td><td>12</td><td>17</td><td>8</td><td>17</td><td>26</td><td>28</td><td>19</td><td>28</td><td>19</td><td>12</td><td>&hellip;</td><td>0</td><td>0</td><td>0</td><td>0</td><td>0</td><td>0</td><td>0</td><td>0</td><td>0</td><td>0</td><td>0</td><td>0</td><td>0</td><td>0</td><td>0</td><td>0</td><td>0</td><td>0</td><td>0</td><td>0</td><td>0</td><td>0</td><td>0</td><td>0</td><td>0</td><td>0</td><td>0</td><td>0</td><td>0</td><td>0</td><td>0</td><td>0</td><td>0</td><td>0</td><td>0</td><td>0</td><td>0</td></tr></tbody></table></div>"
      ],
      "text/plain": [
       "shape: (984_156, 145)\n",
       "┌──────┬──────┬──────┬──────┬───┬────────┬───────┬───────┬───────┐\n",
       "│ enc0 ┆ enc1 ┆ enc2 ┆ enc3 ┆ … ┆ enc141 ┆ bind1 ┆ bind2 ┆ bind3 │\n",
       "│ ---  ┆ ---  ┆ ---  ┆ ---  ┆   ┆ ---    ┆ ---   ┆ ---   ┆ ---   │\n",
       "│ u8   ┆ u8   ┆ u8   ┆ u8   ┆   ┆ u8     ┆ i64   ┆ i64   ┆ i64   │\n",
       "╞══════╪══════╪══════╪══════╪═══╪════════╪═══════╪═══════╪═══════╡\n",
       "│ 28   ┆ 26   ┆ 8    ┆ 17   ┆ … ┆ 0      ┆ 0     ┆ 0     ┆ 0     │\n",
       "│ 8    ┆ 26   ┆ 8    ┆ 8    ┆ … ┆ 0      ┆ 0     ┆ 0     ┆ 0     │\n",
       "│ 8    ┆ 6    ┆ 17   ┆ 26   ┆ … ┆ 0      ┆ 0     ┆ 0     ┆ 0     │\n",
       "│ 28   ┆ 26   ┆ 8    ┆ 17   ┆ … ┆ 0      ┆ 0     ┆ 0     ┆ 0     │\n",
       "│ 8    ┆ 12   ┆ 27   ┆ 12   ┆ … ┆ 0      ┆ 0     ┆ 0     ┆ 0     │\n",
       "│ …    ┆ …    ┆ …    ┆ …    ┆ … ┆ …      ┆ …     ┆ …     ┆ …     │\n",
       "│ 8    ┆ 28   ┆ 12   ┆ 27   ┆ … ┆ 0      ┆ 0     ┆ 0     ┆ 0     │\n",
       "│ 8    ┆ 28   ┆ 12   ┆ 27   ┆ … ┆ 0      ┆ 0     ┆ 0     ┆ 0     │\n",
       "│ 28   ┆ 26   ┆ 8    ┆ 17   ┆ … ┆ 0      ┆ 0     ┆ 0     ┆ 0     │\n",
       "│ 8    ┆ 33   ┆ 27   ┆ 8    ┆ … ┆ 0      ┆ 0     ┆ 0     ┆ 0     │\n",
       "│ 8    ┆ 28   ┆ 12   ┆ 27   ┆ … ┆ 0      ┆ 0     ┆ 0     ┆ 0     │\n",
       "└──────┴──────┴──────┴──────┴───┴────────┴───────┴───────┴───────┘"
      ]
     },
     "execution_count": 13,
     "metadata": {},
     "output_type": "execute_result"
    }
   ],
   "source": [
    "local_test"
   ]
  },
  {
   "cell_type": "markdown",
   "metadata": {},
   "source": [
    "生データのローカルテストデータ取得"
   ]
  },
  {
   "cell_type": "code",
   "execution_count": 5,
   "metadata": {},
   "outputs": [],
   "source": [
    "train = pl.read_parquet(os.path.join(RAW_DIR, \"train.parquet\"))\n"
   ]
  },
  {
   "cell_type": "code",
   "execution_count": 7,
   "metadata": {},
   "outputs": [],
   "source": [
    "\n",
    "# データフレームをシャッフル（sampleを使って全体をランダムに取得）\n",
    "shuffled_df = train.sample(fraction=1.0, with_replacement=False, seed=Config.SEED, shuffle=True)\n",
    "\n",
    "# 分割の割合を設定\n",
    "split_ratio = 0.01\n",
    "\n",
    "# データフレームを分割\n",
    "split_index = int(len(shuffled_df) * split_ratio)\n",
    "local_test = shuffled_df[:split_index]\n",
    "local_train = shuffled_df[split_index:]\n",
    "\n"
   ]
  },
  {
   "cell_type": "code",
   "execution_count": 10,
   "metadata": {},
   "outputs": [
    {
     "name": "stdout",
     "output_type": "stream",
     "text": [
      "local_test:  0.0054032761743734396\n",
      "local_train:  0.005384821620336283\n"
     ]
    }
   ],
   "source": [
    "bind = local_test.filter(pl.col(\"binds\") == 1).shape[0] / local_test.shape[0]\n",
    "print(\"local_test: \", bind)\n",
    "bind = local_train.filter(pl.col(\"binds\") == 1).shape[0] / local_train.shape[0]\n",
    "print(\"local_train: \", bind)"
   ]
  },
  {
   "cell_type": "code",
   "execution_count": 11,
   "metadata": {},
   "outputs": [],
   "source": [
    "# save\n",
    "local_train.write_parquet(os.path.join(PROCESSED_DIR, \"local_train.parquet\"))\n",
    "local_test.write_parquet(os.path.join(PROCESSED_DIR, \"local_test.parquet\"))"
   ]
  },
  {
   "cell_type": "code",
   "execution_count": null,
   "metadata": {},
   "outputs": [],
   "source": []
  }
 ],
 "metadata": {
  "kernelspec": {
   "display_name": "base",
   "language": "python",
   "name": "python3"
  },
  "language_info": {
   "codemirror_mode": {
    "name": "ipython",
    "version": 3
   },
   "file_extension": ".py",
   "mimetype": "text/x-python",
   "name": "python",
   "nbconvert_exporter": "python",
   "pygments_lexer": "ipython3",
   "version": "3.1.-1"
  }
 },
 "nbformat": 4,
 "nbformat_minor": 2
}
