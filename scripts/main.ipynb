{
 "cells": [
  {
   "cell_type": "code",
   "execution_count": 1,
   "metadata": {},
   "outputs": [],
   "source": [
    "import polars as pl"
   ]
  },
  {
   "cell_type": "code",
   "execution_count": 2,
   "metadata": {},
   "outputs": [],
   "source": [
    "train_path = \"../data/raw/train.parquet\"\n",
    "train = pl.read_parquet(train_path, n_rows=1000)"
   ]
  },
  {
   "cell_type": "code",
   "execution_count": 4,
   "metadata": {},
   "outputs": [
    {
     "data": {
      "text/html": [
       "<div><style>\n",
       ".dataframe > thead > tr,\n",
       ".dataframe > tbody > tr {\n",
       "  text-align: right;\n",
       "  white-space: pre-wrap;\n",
       "}\n",
       "</style>\n",
       "<small>shape: (1_000, 7)</small><table border=\"1\" class=\"dataframe\"><thead><tr><th>id</th><th>buildingblock1_smiles</th><th>buildingblock2_smiles</th><th>buildingblock3_smiles</th><th>molecule_smiles</th><th>protein_name</th><th>binds</th></tr><tr><td>i64</td><td>str</td><td>str</td><td>str</td><td>str</td><td>str</td><td>i64</td></tr></thead><tbody><tr><td>0</td><td>&quot;C#CC[C@@H](CC(=O)O)NC(=O)OCC1c…</td><td>&quot;C#CCOc1ccc(CN)cc1.Cl&quot;</td><td>&quot;Br.Br.NCC1CCCN1c1cccnn1&quot;</td><td>&quot;C#CCOc1ccc(CNc2nc(NCC3CCCN3c3c…</td><td>&quot;BRD4&quot;</td><td>0</td></tr><tr><td>1</td><td>&quot;C#CC[C@@H](CC(=O)O)NC(=O)OCC1c…</td><td>&quot;C#CCOc1ccc(CN)cc1.Cl&quot;</td><td>&quot;Br.Br.NCC1CCCN1c1cccnn1&quot;</td><td>&quot;C#CCOc1ccc(CNc2nc(NCC3CCCN3c3c…</td><td>&quot;HSA&quot;</td><td>0</td></tr><tr><td>2</td><td>&quot;C#CC[C@@H](CC(=O)O)NC(=O)OCC1c…</td><td>&quot;C#CCOc1ccc(CN)cc1.Cl&quot;</td><td>&quot;Br.Br.NCC1CCCN1c1cccnn1&quot;</td><td>&quot;C#CCOc1ccc(CNc2nc(NCC3CCCN3c3c…</td><td>&quot;sEH&quot;</td><td>0</td></tr><tr><td>3</td><td>&quot;C#CC[C@@H](CC(=O)O)NC(=O)OCC1c…</td><td>&quot;C#CCOc1ccc(CN)cc1.Cl&quot;</td><td>&quot;Br.NCc1cccc(Br)n1&quot;</td><td>&quot;C#CCOc1ccc(CNc2nc(NCc3cccc(Br)…</td><td>&quot;BRD4&quot;</td><td>0</td></tr><tr><td>4</td><td>&quot;C#CC[C@@H](CC(=O)O)NC(=O)OCC1c…</td><td>&quot;C#CCOc1ccc(CN)cc1.Cl&quot;</td><td>&quot;Br.NCc1cccc(Br)n1&quot;</td><td>&quot;C#CCOc1ccc(CNc2nc(NCc3cccc(Br)…</td><td>&quot;HSA&quot;</td><td>0</td></tr><tr><td>&hellip;</td><td>&hellip;</td><td>&hellip;</td><td>&hellip;</td><td>&hellip;</td><td>&hellip;</td><td>&hellip;</td></tr><tr><td>995</td><td>&quot;C#CC[C@@H](CC(=O)O)NC(=O)OCC1c…</td><td>&quot;C#CCOc1ccc(CN)cc1.Cl&quot;</td><td>&quot;NCCc1nccc(C2CC2)n1&quot;</td><td>&quot;C#CCOc1ccc(CNc2nc(NCCc3nccc(C4…</td><td>&quot;sEH&quot;</td><td>0</td></tr><tr><td>996</td><td>&quot;C#CC[C@@H](CC(=O)O)NC(=O)OCC1c…</td><td>&quot;C#CCOc1ccc(CN)cc1.Cl&quot;</td><td>&quot;NCc1cc(C(F)F)on1&quot;</td><td>&quot;C#CCOc1ccc(CNc2nc(NCc3cc(C(F)F…</td><td>&quot;BRD4&quot;</td><td>0</td></tr><tr><td>997</td><td>&quot;C#CC[C@@H](CC(=O)O)NC(=O)OCC1c…</td><td>&quot;C#CCOc1ccc(CN)cc1.Cl&quot;</td><td>&quot;NCc1cc(C(F)F)on1&quot;</td><td>&quot;C#CCOc1ccc(CNc2nc(NCc3cc(C(F)F…</td><td>&quot;HSA&quot;</td><td>0</td></tr><tr><td>998</td><td>&quot;C#CC[C@@H](CC(=O)O)NC(=O)OCC1c…</td><td>&quot;C#CCOc1ccc(CN)cc1.Cl&quot;</td><td>&quot;NCc1cc(C(F)F)on1&quot;</td><td>&quot;C#CCOc1ccc(CNc2nc(NCc3cc(C(F)F…</td><td>&quot;sEH&quot;</td><td>0</td></tr><tr><td>999</td><td>&quot;C#CC[C@@H](CC(=O)O)NC(=O)OCC1c…</td><td>&quot;C#CCOc1ccc(CN)cc1.Cl&quot;</td><td>&quot;NCc1cc2c(s1)CCSC2&quot;</td><td>&quot;C#CCOc1ccc(CNc2nc(NCc3cc4c(s3)…</td><td>&quot;BRD4&quot;</td><td>0</td></tr></tbody></table></div>"
      ],
      "text/plain": [
       "shape: (1_000, 7)\n",
       "┌─────┬─────────────────┬─────────────────┬────────────────┬────────────────┬──────────────┬───────┐\n",
       "│ id  ┆ buildingblock1_ ┆ buildingblock2_ ┆ buildingblock3 ┆ molecule_smile ┆ protein_name ┆ binds │\n",
       "│ --- ┆ smiles          ┆ smiles          ┆ _smiles        ┆ s              ┆ ---          ┆ ---   │\n",
       "│ i64 ┆ ---             ┆ ---             ┆ ---            ┆ ---            ┆ str          ┆ i64   │\n",
       "│     ┆ str             ┆ str             ┆ str            ┆ str            ┆              ┆       │\n",
       "╞═════╪═════════════════╪═════════════════╪════════════════╪════════════════╪══════════════╪═══════╡\n",
       "│ 0   ┆ C#CC[C@@H](CC(= ┆ C#CCOc1ccc(CN)c ┆ Br.Br.NCC1CCCN ┆ C#CCOc1ccc(CNc ┆ BRD4         ┆ 0     │\n",
       "│     ┆ O)O)NC(=O)OCC1c ┆ c1.Cl           ┆ 1c1cccnn1      ┆ 2nc(NCC3CCCN3c ┆              ┆       │\n",
       "│     ┆ …               ┆                 ┆                ┆ 3c…            ┆              ┆       │\n",
       "│ 1   ┆ C#CC[C@@H](CC(= ┆ C#CCOc1ccc(CN)c ┆ Br.Br.NCC1CCCN ┆ C#CCOc1ccc(CNc ┆ HSA          ┆ 0     │\n",
       "│     ┆ O)O)NC(=O)OCC1c ┆ c1.Cl           ┆ 1c1cccnn1      ┆ 2nc(NCC3CCCN3c ┆              ┆       │\n",
       "│     ┆ …               ┆                 ┆                ┆ 3c…            ┆              ┆       │\n",
       "│ 2   ┆ C#CC[C@@H](CC(= ┆ C#CCOc1ccc(CN)c ┆ Br.Br.NCC1CCCN ┆ C#CCOc1ccc(CNc ┆ sEH          ┆ 0     │\n",
       "│     ┆ O)O)NC(=O)OCC1c ┆ c1.Cl           ┆ 1c1cccnn1      ┆ 2nc(NCC3CCCN3c ┆              ┆       │\n",
       "│     ┆ …               ┆                 ┆                ┆ 3c…            ┆              ┆       │\n",
       "│ 3   ┆ C#CC[C@@H](CC(= ┆ C#CCOc1ccc(CN)c ┆ Br.NCc1cccc(Br ┆ C#CCOc1ccc(CNc ┆ BRD4         ┆ 0     │\n",
       "│     ┆ O)O)NC(=O)OCC1c ┆ c1.Cl           ┆ )n1            ┆ 2nc(NCc3cccc(B ┆              ┆       │\n",
       "│     ┆ …               ┆                 ┆                ┆ r)…            ┆              ┆       │\n",
       "│ 4   ┆ C#CC[C@@H](CC(= ┆ C#CCOc1ccc(CN)c ┆ Br.NCc1cccc(Br ┆ C#CCOc1ccc(CNc ┆ HSA          ┆ 0     │\n",
       "│     ┆ O)O)NC(=O)OCC1c ┆ c1.Cl           ┆ )n1            ┆ 2nc(NCc3cccc(B ┆              ┆       │\n",
       "│     ┆ …               ┆                 ┆                ┆ r)…            ┆              ┆       │\n",
       "│ …   ┆ …               ┆ …               ┆ …              ┆ …              ┆ …            ┆ …     │\n",
       "│ 995 ┆ C#CC[C@@H](CC(= ┆ C#CCOc1ccc(CN)c ┆ NCCc1nccc(C2CC ┆ C#CCOc1ccc(CNc ┆ sEH          ┆ 0     │\n",
       "│     ┆ O)O)NC(=O)OCC1c ┆ c1.Cl           ┆ 2)n1           ┆ 2nc(NCCc3nccc( ┆              ┆       │\n",
       "│     ┆ …               ┆                 ┆                ┆ C4…            ┆              ┆       │\n",
       "│ 996 ┆ C#CC[C@@H](CC(= ┆ C#CCOc1ccc(CN)c ┆ NCc1cc(C(F)F)o ┆ C#CCOc1ccc(CNc ┆ BRD4         ┆ 0     │\n",
       "│     ┆ O)O)NC(=O)OCC1c ┆ c1.Cl           ┆ n1             ┆ 2nc(NCc3cc(C(F ┆              ┆       │\n",
       "│     ┆ …               ┆                 ┆                ┆ )F…            ┆              ┆       │\n",
       "│ 997 ┆ C#CC[C@@H](CC(= ┆ C#CCOc1ccc(CN)c ┆ NCc1cc(C(F)F)o ┆ C#CCOc1ccc(CNc ┆ HSA          ┆ 0     │\n",
       "│     ┆ O)O)NC(=O)OCC1c ┆ c1.Cl           ┆ n1             ┆ 2nc(NCc3cc(C(F ┆              ┆       │\n",
       "│     ┆ …               ┆                 ┆                ┆ )F…            ┆              ┆       │\n",
       "│ 998 ┆ C#CC[C@@H](CC(= ┆ C#CCOc1ccc(CN)c ┆ NCc1cc(C(F)F)o ┆ C#CCOc1ccc(CNc ┆ sEH          ┆ 0     │\n",
       "│     ┆ O)O)NC(=O)OCC1c ┆ c1.Cl           ┆ n1             ┆ 2nc(NCc3cc(C(F ┆              ┆       │\n",
       "│     ┆ …               ┆                 ┆                ┆ )F…            ┆              ┆       │\n",
       "│ 999 ┆ C#CC[C@@H](CC(= ┆ C#CCOc1ccc(CN)c ┆ NCc1cc2c(s1)CC ┆ C#CCOc1ccc(CNc ┆ BRD4         ┆ 0     │\n",
       "│     ┆ O)O)NC(=O)OCC1c ┆ c1.Cl           ┆ SC2            ┆ 2nc(NCc3cc4c(s ┆              ┆       │\n",
       "│     ┆ …               ┆                 ┆                ┆ 3)…            ┆              ┆       │\n",
       "└─────┴─────────────────┴─────────────────┴────────────────┴────────────────┴──────────────┴───────┘"
      ]
     },
     "execution_count": 4,
     "metadata": {},
     "output_type": "execute_result"
    }
   ],
   "source": [
    "train\n"
   ]
  },
  {
   "cell_type": "code",
   "execution_count": null,
   "metadata": {},
   "outputs": [],
   "source": []
  }
 ],
 "metadata": {
  "kernelspec": {
   "display_name": "base",
   "language": "python",
   "name": "python3"
  },
  "language_info": {
   "codemirror_mode": {
    "name": "ipython",
    "version": 3
   },
   "file_extension": ".py",
   "mimetype": "text/x-python",
   "name": "python",
   "nbconvert_exporter": "python",
   "pygments_lexer": "ipython3",
   "version": "3.10.13"
  }
 },
 "nbformat": 4,
 "nbformat_minor": 2
}
